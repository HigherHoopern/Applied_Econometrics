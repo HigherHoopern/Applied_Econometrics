{
 "cells": [
  {
   "cell_type": "markdown",
   "id": "9679f821",
   "metadata": {},
   "source": [
    "## BEEM011 Exercise 2: Week 4\n",
    "\n",
    "Histograms, p-values, functions\n",
    "\n",
    "Amy Binner and Eva Poen\n",
    "\n",
    "Answers"
   ]
  },
  {
   "cell_type": "markdown",
   "id": "4c7d4b15",
   "metadata": {},
   "source": [
    "### Setting the seed\n",
    "\n",
    "When we write code we would like it to be replicable, that means that when we draw a random sample we want others to be able to reproduce the same sample.  To achieve this we need to set the seed for R's random number generator using the set.seed() function.\n",
    "\n",
    "The function takes an integer as an input."
   ]
  },
  {
   "cell_type": "markdown",
   "id": "63944fe4",
   "metadata": {},
   "source": [
    "# Question 1 a)\n",
    "\n",
    "Suppose you are the lottery fairy in a weekly lottery, where 6 out of 49 unique numbers are drawn. \n",
    "In this exercise you will write code in R Studio to generate the winning lottery numbers.\n",
    "\n",
    "Set the seed to 1234, this will ensure that your code is replicable - each time you run the code you will draw the same winning numbers.\n"
   ]
  },
  {
   "cell_type": "code",
   "execution_count": 2,
   "id": "db0ea79c",
   "metadata": {},
   "outputs": [],
   "source": [
    "## Edit the code below \n",
    "# Header: Exercise 2 \n",
    "# Author: \n",
    "# Date:\n",
    "# Candidate number:\n",
    "\n",
    "set.seed(1234)"
   ]
  },
  {
   "cell_type": "markdown",
   "id": "e93ea180",
   "metadata": {},
   "source": [
    "Next you need to draw the winning numbers for this week using the function sample(data, size).\n",
    "\n",
    "Data refers to the data from which the sample should be drawn.  You can define data as being the numbers 1 to 10 by writing data <- 1:10\n",
    "\n",
    "Size is the size of the sample you require.\n",
    "\n",
    "*Note: if you want to know more about, say, the function sample(), type into your code cell “?sample()” and a detailed manual will appear*\n"
   ]
  },
  {
   "cell_type": "code",
   "execution_count": null,
   "id": "15ce7b7b",
   "metadata": {},
   "outputs": [],
   "source": [
    "# Edit the sample function below to draw 6 numbers between 1 and 49.\n",
    "winners <- sample(1:49, size = 6)"
   ]
  },
  {
   "cell_type": "markdown",
   "id": "1d4ea986",
   "metadata": {},
   "source": [
    "# 1 b)\n",
    "\n",
    "Let X~N(0,1). Compute P(|X|≤1.64) by using the function pnorm().\n",
    "\n",
    "the pnorm(x) function tells you the total probability under the probability density function up to the point x\n",
    "\n",
    "![title](week2norm.png)"
   ]
  },
  {
   "cell_type": "code",
   "execution_count": 2,
   "id": "c539de12",
   "metadata": {},
   "outputs": [
    {
     "data": {
      "text/html": [
       "0.950004209703559"
      ],
      "text/latex": [
       "0.950004209703559"
      ],
      "text/markdown": [
       "0.950004209703559"
      ],
      "text/plain": [
       "[1] 0.9500042"
      ]
     },
     "metadata": {},
     "output_type": "display_data"
    }
   ],
   "source": [
    "# example:\n",
    "# pnorm(1.96) = P(X≤1.96) = 0.975\n",
    "\n",
    "pnorm(1.96) - pnorm(-1.96)"
   ]
  },
  {
   "cell_type": "code",
   "execution_count": 6,
   "id": "ae41d641",
   "metadata": {},
   "outputs": [
    {
     "name": "stdout",
     "output_type": "stream",
     "text": [
      "[1] \"P(|X|=1.64) = 0.898994833051793\"\n"
     ]
    }
   ],
   "source": [
    "## Compute P(|X|≤1.64)\n",
    "\n",
    "prob1b <- pnorm(1.64) - pnorm(-1.64)\n",
    "\n",
    "## DO NOT EDIT\n",
    "print(paste('P(|X|≤1.64) =', prob1b))"
   ]
  },
  {
   "cell_type": "markdown",
   "id": "e4c85ec5",
   "metadata": {},
   "source": [
    "# 1 c)\n",
    "\n",
    "Let Y~N(5,25). Compute the 99% quantile of the given distribution. \n",
    "That is, find y such that $\\phi((y-5)/5)=.99$ using the function qnorm().\n",
    "\n",
    "*Quantile* \n",
    "\n",
    "qnorm(p, mean=z, sd=y) – is the quantile function which returns the value on the x-axis relating to the pth quantile of a normal distribution with mean z and standard deviation y."
   ]
  },
  {
   "cell_type": "code",
   "execution_count": 7,
   "id": "1c2bfb0e",
   "metadata": {},
   "outputs": [
    {
     "data": {
      "text/html": [
       "-1.2815515655446"
      ],
      "text/latex": [
       "-1.2815515655446"
      ],
      "text/markdown": [
       "-1.2815515655446"
      ],
      "text/plain": [
       "[1] -1.281552"
      ]
     },
     "metadata": {},
     "output_type": "display_data"
    }
   ],
   "source": [
    "# example: calculate the value of the 10% quantile from the normal distribution with mean 0 and variance 1 \n",
    "qnorm(0.1, mean = 0, sd = sqrt(1))"
   ]
  },
  {
   "cell_type": "code",
   "execution_count": 9,
   "id": "8573fa1b",
   "metadata": {},
   "outputs": [
    {
     "name": "stdout",
     "output_type": "stream",
     "text": [
      "[1] \"The value of the 99% quantile of Y~N(5,25)= 16.6317393702042\"\n"
     ]
    }
   ],
   "source": [
    "## Compute the 99% quantile of Y ~N(5,25)\n",
    "\n",
    "quantile99 <- qnorm(0.99, mean=5, sd = 5)\n",
    "\n",
    "## DO NOT EDIT\n",
    "print(paste('The value of the 99% quantile of Y~N(5,25)=', quantile99))"
   ]
  },
  {
   "cell_type": "markdown",
   "id": "5606843c",
   "metadata": {},
   "source": [
    "Generate 10 random numbers from the distribution in 1 c). To do this you will should set the seed to 1234 and then use the rnorm(size, mean, standard deviation) function.\n",
    "\n",
    "rnorm stands for random normal.\n",
    "\n",
    "Round off to three decimal placesusing the round() function. List down all the elements of this sample.  "
   ]
  },
  {
   "cell_type": "code",
   "execution_count": 21,
   "id": "788046db",
   "metadata": {},
   "outputs": [
    {
     "name": "stdout",
     "output_type": "stream",
     "text": [
      "[1] \"The sample is: \"\n"
     ]
    },
    {
     "data": {
      "text/html": [
       "<ol class=list-inline>\n",
       "\t<li>-1.035</li>\n",
       "\t<li>6.387</li>\n",
       "\t<li>10.422</li>\n",
       "\t<li>-6.728</li>\n",
       "\t<li>7.146</li>\n",
       "\t<li>7.53</li>\n",
       "\t<li>2.126</li>\n",
       "\t<li>2.267</li>\n",
       "\t<li>2.178</li>\n",
       "\t<li>0.55</li>\n",
       "</ol>\n"
      ],
      "text/latex": [
       "\\begin{enumerate*}\n",
       "\\item -1.035\n",
       "\\item 6.387\n",
       "\\item 10.422\n",
       "\\item -6.728\n",
       "\\item 7.146\n",
       "\\item 7.53\n",
       "\\item 2.126\n",
       "\\item 2.267\n",
       "\\item 2.178\n",
       "\\item 0.55\n",
       "\\end{enumerate*}\n"
      ],
      "text/markdown": [
       "1. -1.035\n",
       "2. 6.387\n",
       "3. 10.422\n",
       "4. -6.728\n",
       "5. 7.146\n",
       "6. 7.53\n",
       "7. 2.126\n",
       "8. 2.267\n",
       "9. 2.178\n",
       "10. 0.55\n",
       "\n",
       "\n"
      ],
      "text/plain": [
       " [1] -1.035  6.387 10.422 -6.728  7.146  7.530  2.126  2.267  2.178  0.550"
      ]
     },
     "metadata": {},
     "output_type": "display_data"
    }
   ],
   "source": [
    "## Generating 10 random numbers \n",
    "set.seed(1234)\n",
    "numbers <- rnorm(n=10, mean=5, sd = 5)\n",
    "numbers <- round(numbers, 3)\n",
    "\n",
    "# DO NOT EDIT\n",
    "print('The sample is: ')\n",
    "numbers"
   ]
  },
  {
   "cell_type": "markdown",
   "id": "605b6c64",
   "metadata": {},
   "source": [
    "# Question 2 a)\n",
    "\n",
    "Consider the following estimator for the population mean of $Y$, $μ_Y$: \n",
    "\n",
    "$$ \\tilde{Y} = {1 \\over n-1} \\Sigma_{i=1}^n Y_i $$\n",
    "\n",
    "In this exercise we will illustrate that this estimator is a biased estimator for $μ_Y$.\n",
    "\n",
    "Define a function Y_tilde in R-Studio that implements the estimator above. \n"
   ]
  },
  {
   "cell_type": "code",
   "execution_count": 1,
   "id": "8f7f7bf2",
   "metadata": {},
   "outputs": [
    {
     "data": {
      "text/html": [
       "<ol class=list-inline>\n",
       "\t<li>1</li>\n",
       "\t<li>5</li>\n",
       "\t<li>8</li>\n",
       "\t<li>10</li>\n",
       "\t<li>-256</li>\n",
       "</ol>\n"
      ],
      "text/latex": [
       "\\begin{enumerate*}\n",
       "\\item 1\n",
       "\\item 5\n",
       "\\item 8\n",
       "\\item 10\n",
       "\\item -256\n",
       "\\end{enumerate*}\n"
      ],
      "text/markdown": [
       "1. 1\n",
       "2. 5\n",
       "3. 8\n",
       "4. 10\n",
       "5. -256\n",
       "\n",
       "\n"
      ],
      "text/plain": [
       "[1]    1    5    8   10 -256"
      ]
     },
     "metadata": {},
     "output_type": "display_data"
    },
    {
     "data": {
      "text/html": [
       "5"
      ],
      "text/latex": [
       "5"
      ],
      "text/markdown": [
       "5"
      ],
      "text/plain": [
       "[1] 5"
      ]
     },
     "metadata": {},
     "output_type": "display_data"
    },
    {
     "data": {
      "text/html": [
       "-58"
      ],
      "text/latex": [
       "-58"
      ],
      "text/markdown": [
       "-58"
      ],
      "text/plain": [
       "[1] -58"
      ]
     },
     "metadata": {},
     "output_type": "display_data"
    }
   ],
   "source": [
    "## Defining the function by entering the correct\n",
    "# equation within the curly brackets\n",
    "\n",
    "# the length() function tells you how many elements are in a vector\n",
    "\n",
    "Y_tilde <- function(x){\n",
    "    e = sum(x)/(length(x)-1)\n",
    "    return(e)\n",
    "}\n",
    "\n",
    "# Let's define some observed data as a vector of observations\n",
    "Y = c(1,5,8,10,-256)\n",
    "\n",
    "# Print these observations\n",
    "Y\n",
    "\n",
    "# Calculate n the number of observations\n",
    "length(Y)\n",
    "\n",
    "# Now let's use the function Y_tilde() on our observations\n",
    "Y_tilde(Y)"
   ]
  },
  {
   "cell_type": "markdown",
   "id": "f99c5bc2",
   "metadata": {},
   "source": [
    "# 2 b)\n",
    "\n",
    "To repeat computations you can use the replicate() function:\n",
    "\n",
    "replicate(n , expr)\n",
    "#n is the number of replications\n",
    "#expr is the expression to be evaluated"
   ]
  },
  {
   "cell_type": "code",
   "execution_count": 2,
   "id": "00631a6d",
   "metadata": {},
   "outputs": [
    {
     "data": {
      "text/html": [
       "101.06608574286"
      ],
      "text/latex": [
       "101.06608574286"
      ],
      "text/markdown": [
       "101.06608574286"
      ],
      "text/plain": [
       "[1] 101.0661"
      ]
     },
     "metadata": {},
     "output_type": "display_data"
    }
   ],
   "source": [
    "# Example: To replicate the function Y 100 times with X \n",
    "# being drawn from a normal distribution with mean 100 and \n",
    "# standard deviation 20:*\n",
    "\n",
    "# Function Y takes the input and adds 2\n",
    "Y <- function(x){x+2}\n",
    "\n",
    "# A single execution of Y, using a random number from N(100, 20^2) distribution:\n",
    "one = Y(rnorm(1, mean=100, sd=20))\n",
    "\n",
    "# print to screen\n",
    "one\n",
    "\n",
    "# Do the same x100, all in one step:\n",
    "\n",
    "plusTwo <- replicate(n = 100, expr = Y(rnorm(1, mean=100, sd=20)))"
   ]
  },
  {
   "cell_type": "markdown",
   "id": "1e22ead4",
   "metadata": {},
   "source": [
    "Set the seed to 1234.  Randomly draw 5 observations from the N(10,25) distribution and compute an estimate using the function Y_tilde you defined in 2 a). Repeat the procedure 10000 times and store the results in est_biased. "
   ]
  },
  {
   "cell_type": "code",
   "execution_count": 3,
   "id": "e3ef7efe",
   "metadata": {},
   "outputs": [],
   "source": [
    "set.seed(1234)\n",
    "est_biased <- replicate(n=10000, expr = Y_tilde(rnorm(5,mean=10,sd=5)))"
   ]
  },
  {
   "cell_type": "markdown",
   "id": "dc7b6905",
   "metadata": {},
   "source": [
    "# 2 c)\t\n",
    "\n",
    "Use the hist() function to plot a histogram of est_biased and calculate the mean of est_biased using the mean() function.\n",
    "\n",
    "The hist() function takes a vector of observed values for a variable, calculates their relative frequencies and plots this as a histogram."
   ]
  },
  {
   "cell_type": "code",
   "execution_count": 4,
   "id": "eb7e0658",
   "metadata": {},
   "outputs": [
    {
     "data": {
      "text/html": [
       "12.513401850646"
      ],
      "text/latex": [
       "12.513401850646"
      ],
      "text/markdown": [
       "12.513401850646"
      ],
      "text/plain": [
       "[1] 12.5134"
      ]
     },
     "metadata": {},
     "output_type": "display_data"
    },
    {
     "data": {
      "image/png": "[encoded data removed]",
      "text/plain": [
       "Plot with title \"Histogram of est_biased\""
      ]
     },
     "metadata": {},
     "output_type": "display_data"
    }
   ],
   "source": [
    "# Plot the histogram - to do this you use the hist(data) function, where data is a vector of observations\n",
    "hist(est_biased)\n",
    "mean_est_biased <- mean(est_biased)\n",
    "\n",
    "# Print the mean - remember that the underlying distribution has mean = 10\n",
    "mean_est_biased\n",
    "\n",
    "abline(v=mean_est_biased, col ='blue')"
   ]
  },
  {
   "cell_type": "markdown",
   "id": "a22e8ff8",
   "metadata": {},
   "source": [
    "# 2 d)\t\n",
    "\n",
    "Randomly draw 1000 observations from N(10,25) distribution and compute an estimate using the function Y_tilde you defined in 2 a). \n",
    "\n",
    "Repeat the procedure 10000 times and store the results in est_consistent."
   ]
  },
  {
   "cell_type": "code",
   "execution_count": 5,
   "id": "4b566c95",
   "metadata": {},
   "outputs": [],
   "source": [
    "# Drawing a larger sample of observations\n",
    "# we do this by increasing the number of samples in the rnorm function\n",
    "est_consistent <- replicate(n=10000, expr = Y_tilde(rnorm(10000,10,5)))"
   ]
  },
  {
   "cell_type": "markdown",
   "id": "200c5f02",
   "metadata": {},
   "source": [
    "# 2 e)\n",
    "\n",
    "Plot a histogram of est_consistent and calculate the mean of est_consistent. \n",
    "\n",
    "What can you draw from this exercise. "
   ]
  },
  {
   "cell_type": "code",
   "execution_count": 6,
   "id": "6678253e",
   "metadata": {},
   "outputs": [
    {
     "data": {
      "text/html": [
       "9.99990480825468"
      ],
      "text/latex": [
       "9.99990480825468"
      ],
      "text/markdown": [
       "9.99990480825468"
      ],
      "text/plain": [
       "[1] 9.999905"
      ]
     },
     "metadata": {},
     "output_type": "display_data"
    },
    {
     "data": {
      "image/png": "[encoded data removed]",
      "text/plain": [
       "Plot with title \"Histogram of est_consistent\""
      ]
     },
     "metadata": {},
     "output_type": "display_data"
    }
   ],
   "source": [
    "# Plotting the histogram of est_consistent\n",
    "hist(est_consistent)\n",
    "mean_est_consistent <- mean(est_consistent)\n",
    "\n",
    "# Print the mean - remember that the underlying distribution has mean = 10\n",
    "mean_est_consistent\n",
    "\n",
    "# Add the mean \n",
    "abline(v=mean_est_consistent, col = 'red')"
   ]
  },
  {
   "cell_type": "markdown",
   "id": "20d06eba",
   "metadata": {},
   "source": [
    "### Useful Code"
   ]
  },
  {
   "cell_type": "code",
   "execution_count": null,
   "id": "ce7f5fd5",
   "metadata": {},
   "outputs": [],
   "source": [
    "set.seed()  #to ensure that your code is replicable.  When we draw a random sample we want others to be able to reproduce the same sample.\n",
    "\n",
    "sample(data, size = n) # draws a sample of size n from a vector or dataset of data, the default is without replacement\n",
    "\n",
    "pnorm(x) # calculates the area under the normal curve to the left of x on the x-axis, the default is for a standard normal distribution\n",
    "\n",
    "qnorm(p) # calculates the value on the x-axis such that p of the standard normal distribution lies under the curve to the left of x\n",
    "\n",
    "function(x){ } # defines a function within the {} that takes x as an input (refer to Intro to Jupyter seminar or use R help)\n",
    "\n",
    "replicate(n, expr = y) # repeat the expression y n times and store the output\n",
    "\n",
    "hist(data) # plot a histogram of a vector of data\n",
    "\n",
    "abline(v = x) # add a vertical straight line to a plot at point x on the x axis"
   ]
  }
 ],
 "metadata": {
  "kernelspec": {
   "display_name": "R",
   "language": "R",
   "name": "ir"
  },
  "language_info": {
   "codemirror_mode": "r",
   "file_extension": ".r",
   "mimetype": "text/x-r-source",
   "name": "R",
   "pygments_lexer": "r",
   "version": "3.6.1"
  }
 },
 "nbformat": 4,
 "nbformat_minor": 5
}
