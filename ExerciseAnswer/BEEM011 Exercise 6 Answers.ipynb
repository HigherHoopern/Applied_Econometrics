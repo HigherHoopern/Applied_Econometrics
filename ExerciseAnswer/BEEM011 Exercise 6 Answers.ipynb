{
 "cells": [
  {
   "cell_type": "markdown",
   "id": "9679f821",
   "metadata": {},
   "source": [
    "## BEEM011 Exercise 6: Week 8\n",
    "\n",
    "### Single and Joint Hypothesis Tests\n",
    "\n",
    "Amy Binner and Eva Poen\n",
    "\n",
    "Answers"
   ]
  },
  {
   "cell_type": "markdown",
   "id": "a04c1d94",
   "metadata": {},
   "source": [
    "## Useful R code\n",
    "\n",
    "CRITICAL VALUES\n",
    "\n",
    "significance level = alpha\n",
    "\n",
    "#### T-distribution\n",
    "\n",
    "<code> t_crit = qt(alpha, df) </code> \n",
    "\n",
    "#### Normal-distribution \n",
    "\n",
    "<code> z_crit = qnorm(alpha) </code> \n",
    "\n",
    "#### F-distribution \n",
    "\n",
    "<code> f_crit = qf(alpha, df1, df2, lower.tail = FALSE) </code> \n",
    "\n",
    "#### Testing joint / multiple hypothesis tests\n",
    "\n",
    "$ \\hat{Y_i} = \\hat{\\beta_0} + \\hat{\\beta_1} X_{1i} + \\hat{\\beta_2} X_{2i} $\n",
    "\n",
    "model <- lm(Y~X1+X2, data = mydata)\n",
    "conditions = c(\"X1\", \"X2\")\n",
    "\n",
    "<code> linearHypothesis(model, conditions) </code>"
   ]
  },
  {
   "cell_type": "markdown",
   "id": "63944fe4",
   "metadata": {},
   "source": [
    "# Question 1\n",
    "\n",
    "The Solow growth model suggests that countries with identical saving rates and population growth rates should converge to the same per capita income level. This result has been extended to include investment in human capital (education) as well as investment in physical capital. This hypothesis is referred to as the \"conditional convergence hypothesis,\" since the convergence is dependent on countries obtaining the same values in the driving variables. \n",
    "\n",
    "To test the hypothesis, you collect data from the Penn World Tables on the average annual growth rate of GDP per worker (g6090) for the 1960-1990 sample period, and regress it on the (i) initial starting level of GDP per worker relative to the United States in 1960 (RelProd60), (ii) average population growth rate of the country ($g_n$), (iii) average investment share of GDP from 1960 to 1990 (SK - remember investment equals savings), and (iv) educational attainment in years for 1985 (Educ). \n",
    "\n",
    "The results for 100 countries is as follows (numbers in parentheses are for *heteroskedasticity-robust* standard errors):\n",
    "\n",
    "$ \\hat{g_{6090}} = 0.004 - 0.172 \\times g_n + 0.133 \\times S_K + 0.002 \\times Educ - 0.044 \\times RelProd_{60} $\n",
    " \n",
    "   &emsp; &emsp; &emsp;(0.007) &emsp; (0.209)  &emsp; &emsp;(0.015)    &emsp;&emsp;&emsp;(0.001)    &emsp;&emsp; &emsp;&emsp;(0.008)\n",
    "   \n",
    "   \n",
    "$R^2=0.537, SER = 0.011$"
   ]
  },
  {
   "cell_type": "markdown",
   "id": "c41e32ba",
   "metadata": {},
   "source": [
    "## 1 a)\n",
    "\n",
    "Is the coefficient on $RelProd_{60}$ significantly different from zero at the 5% level? At the 1% level? Use a two sided alternative.\n",
    "\n",
    "\n",
    "Do this using the numbers, do not try to load the data.\n",
    "\n",
    "Recall:\n",
    "\n",
    "$$ t = {\\hat{\\beta} \\over SE(\\hat{\\beta}) }$$"
   ]
  },
  {
   "cell_type": "code",
   "execution_count": 42,
   "id": "db0ea79c",
   "metadata": {},
   "outputs": [
    {
     "name": "stdout",
     "output_type": "stream",
     "text": [
      "p-value: 3.797912e-08\n",
      "1% lower critical value:  -2.575829\n",
      "5% lower critical value:  -1.959964\n",
      "Reject null hypothesis at 5%: TRUE\n",
      "Reject null hypothesis at 1 %: TRUE"
     ]
    }
   ],
   "source": [
    "## Edit the code below \n",
    "# Header: Exercise 6 \n",
    "# Author: \n",
    "# Date:\n",
    "# Candidate number:\n",
    "\n",
    "\n",
    "# Q1 (a) calculate t-stat, p-value and critical values\n",
    "# Calculate the t-statistic\n",
    "t.relprod <- -0.044/0.008\n",
    "\n",
    "# Find the associated p-value\n",
    "p.relprod <- 2*pnorm(-abs(t.relprod))\n",
    "cat(\"p-value:\",p.relprod)\n",
    "\n",
    "# Calculate the critical values for a two sided test at the 5% and 1% significance level\n",
    "z.2sided.1 <- qnorm(0.01/2)\n",
    "z.2sided.5 <- qnorm(0.05/2)\n",
    "\n",
    "cat(\"\\n1% lower critical value: \", z.2sided.1)\n",
    "cat(\"\\n5% lower critical value: \", z.2sided.5)\n",
    "\n",
    "# Decide whether or not to reject the null hypothesis\n",
    "# H_0: beta_relprod = 0\n",
    "# H_1: beta_relprod \\ne 0\n",
    "\n",
    "cat(\"\\nReject null hypothesis at 5%:\", p.relprod < 0.05)\n",
    "cat(\"\\nReject null hypothesis at 1 %:\", p.relprod < 0.01)"
   ]
  },
  {
   "cell_type": "markdown",
   "id": "e93ea180",
   "metadata": {},
   "source": [
    "## 1 b i)\t\n",
    "\n",
    "Test for the significance of the other slope coefficients. \n",
    "\n",
    "Should you use a one-sided alternative hypothesis or a two-sided test? \n",
    "\n",
    "Will the decision for one or the other influence the decision about the significance of the parameters? \n",
    "\n",
    "Should you always eliminate variables which carry insignificant coefficients?"
   ]
  },
  {
   "cell_type": "code",
   "execution_count": 23,
   "id": "c779035b",
   "metadata": {},
   "outputs": [
    {
     "name": "stdout",
     "output_type": "stream",
     "text": [
      "\n",
      "t.gn = -0.82 \n",
      "t.sk = 8.87 \n",
      "t.educ = 2"
     ]
    }
   ],
   "source": [
    "# t g_n\n",
    "t.gn <- -0.172 / 0.209\n",
    "t.sk <- 0.133 / 0.015\n",
    "t.educ <- 0.002 / 0.001\n",
    "\n",
    "cat(\"\\nt.gn =\", round(t.gn,2), \"\\nt.sk =\", round(t.sk,2),\"\\nt.educ =\", round(t.educ,2))"
   ]
  },
  {
   "cell_type": "markdown",
   "id": "d23e1bb1",
   "metadata": {},
   "source": [
    "#### Enter your answers here \n",
    "\n",
    "The t-statistics are –0.82. 8.87, and 2.00. Hence the coefficient on population growth is not statistically significant.  You can use a one-sided alternative hypothesis test since economic theory gives you information about the expected sign on these variables. \n",
    "\n",
    "In the above case, however, the decision will not be influenced by the choice of a one-sided or two-sided test, an insignificant variable should not be eliminated based on the significance test. Instead, it should be left in the equation, but the high p-value (or the low test statistic) should be flagged to the reader, and the reader should decide themselves how convincing the evidence is in favor of the theory. The variable may be controlling for other factors."
   ]
  },
  {
   "cell_type": "markdown",
   "id": "c2461d0b",
   "metadata": {},
   "source": [
    "# Question 2\n",
    "\n",
    "Using the 420 observations of the California School data set, you estimate the following relationship:\n",
    "\n",
    "$$\\hat{TestScore} = 681.44 - 0.61LchPct $$\n",
    "\n",
    "$$n=420, R^2=0.75, SER=9.45 $$\n",
    "\n",
    "where TestScore is the test score and LchPct is the percent of students eligible for subsidized lunch (average = 44.7, max = 100, min = 0)."
   ]
  },
  {
   "cell_type": "markdown",
   "id": "64321fbc",
   "metadata": {},
   "source": [
    "# 2 a)\n",
    "\n",
    "Interpret the regression result"
   ]
  },
  {
   "cell_type": "markdown",
   "id": "c5151626",
   "metadata": {},
   "source": [
    "#### Enter your answer here\n",
    "\n",
    "For every 1 percentage point increase in students eligible for subsidized lunch, average test scores are expected to go down by 0.61 points. If a school has no students eligible for subsidized lunch, then the average test score is approximately 681 points. 75% of the variation in test scores is explained by our model. On the average, the true average test scores deviate from the predicted average test scores  using the above regression model by 9.45 points. "
   ]
  },
  {
   "cell_type": "markdown",
   "id": "1d4ea986",
   "metadata": {},
   "source": [
    "# 2 b)\n",
    "\n",
    "In your interpretation of the slope coefficient in (a) above, does it matter if you start your explanation with \"for every x percent increase\" rather than \"for every x percentage point increase\"?\n",
    "\n",
    "#### Enter your answer here\n",
    "\n",
    "Since your RHS variable is measured already in percent (%), it makes sense to increase that variable by 10 percentage points (say), rather than by 10 percent. If LchPct increases from 20 to 30, then this represents an increase of 10 percentage points, or an increase of 50 percent."
   ]
  },
  {
   "cell_type": "markdown",
   "id": "4765693b",
   "metadata": {},
   "source": [
    "# 2 c)\n",
    "\n",
    "The \"overall\" regression F-statistic is 1149.57. What are the degrees of freedom for this statistic?\n",
    "\n",
    "F(df1, df2)"
   ]
  },
  {
   "cell_type": "markdown",
   "id": "df0744c6",
   "metadata": {},
   "source": [
    "#### Enter your answer here\n",
    "\n",
    "q = 1, k = 1, n = 420\n",
    "\n",
    "There is  1 degree of freedom in the numerator, and 418 (∞) degrees of freedom in the denominator, 420 - 1 - 1. "
   ]
  },
  {
   "cell_type": "markdown",
   "id": "0abc3523",
   "metadata": {},
   "source": [
    "# 2 d)\n",
    "\n",
    "Find the critical value of the F-statistic at the 1% significance level. \n",
    "To do this use the qf() function.\n",
    "\n",
    "Test the null hypothesis that the regression $R^2 = 0$."
   ]
  },
  {
   "cell_type": "code",
   "execution_count": 45,
   "id": "df23a907",
   "metadata": {},
   "outputs": [
    {
     "data": {
      "text/html": [
       "6.63489660102121"
      ],
      "text/latex": [
       "6.63489660102121"
      ],
      "text/markdown": [
       "6.63489660102121"
      ],
      "text/plain": [
       "[1] 6.634897"
      ]
     },
     "metadata": {},
     "output_type": "display_data"
    }
   ],
   "source": [
    "# Find the critical value of the F-statistic \n",
    "# at the 1% significance level\n",
    "\n",
    "alpha = 0.01\n",
    "\n",
    "criticalF = qf(p=alpha, df1=1, df2=418, lower.tail = FALSE) \n",
    "#criticalF = qf(p=alpha, df1=1, df2=Inf, lower.tail = FALSE) \n",
    "criticalF"
   ]
  },
  {
   "cell_type": "markdown",
   "id": "8e1301f5",
   "metadata": {},
   "source": [
    "#### Enter your answer here \n",
    "\n",
    "$ F_{1,418} = 6.70$ \n",
    "\n",
    "Hence you can reject the null hypothesis of no linear relationship between test scores and the percent of students eligible for subsidized lunch. Alternatively, you can also use $F_{1,\\infty}= 6.63$. Qualitatively, the results and the conclusion are the same. "
   ]
  },
  {
   "cell_type": "code",
   "execution_count": 6,
   "id": "bb492c4c",
   "metadata": {},
   "outputs": [
    {
     "data": {
      "text/html": [
       "<ol class=list-inline>\n",
       "\t<li>TRUE</li>\n",
       "\t<li>TRUE</li>\n",
       "\t<li>TRUE</li>\n",
       "\t<li>TRUE</li>\n",
       "\t<li>TRUE</li>\n",
       "</ol>\n"
      ],
      "text/latex": [
       "\\begin{enumerate*}\n",
       "\\item TRUE\n",
       "\\item TRUE\n",
       "\\item TRUE\n",
       "\\item TRUE\n",
       "\\item TRUE\n",
       "\\end{enumerate*}\n"
      ],
      "text/markdown": [
       "1. TRUE\n",
       "2. TRUE\n",
       "3. TRUE\n",
       "4. TRUE\n",
       "5. TRUE\n",
       "\n",
       "\n"
      ],
      "text/plain": [
       "[1] TRUE TRUE TRUE TRUE TRUE"
      ]
     },
     "metadata": {},
     "output_type": "display_data"
    }
   ],
   "source": [
    "## DO NOT EDIT\n",
    "# This section formats your answers for marking\n",
    "answers = c(t.relprod, z.2sided.1, z.2sided.5, alpha, criticalF)\n",
    "\n",
    "marksheet <- c(-5.5, -2.5758293035489, -1.95996398454005, 0.01, 6.69589168904183)\n",
    "\n",
    "round(answers,3) == round(marksheet,3)"
   ]
  }
 ],
 "metadata": {
  "kernelspec": {
   "display_name": "R",
   "language": "R",
   "name": "ir"
  },
  "language_info": {
   "codemirror_mode": "r",
   "file_extension": ".r",
   "mimetype": "text/x-r-source",
   "name": "R",
   "pygments_lexer": "r",
   "version": "3.6.1"
  }
 },
 "nbformat": 4,
 "nbformat_minor": 5
}
