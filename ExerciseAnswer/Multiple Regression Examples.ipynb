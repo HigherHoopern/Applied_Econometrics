{
 "cells": [
  {
   "cell_type": "markdown",
   "id": "f0c02a28",
   "metadata": {},
   "source": [
    "# Multiple Regression Examples"
   ]
  },
  {
   "cell_type": "code",
   "execution_count": 1,
   "id": "24ca0bff",
   "metadata": {},
   "outputs": [
    {
     "name": "stderr",
     "output_type": "stream",
     "text": [
      "Loading required package: car\n",
      "Loading required package: carData\n",
      "Loading required package: lmtest\n",
      "Warning message:\n",
      "\"package 'lmtest' was built under R version 3.6.3\"Loading required package: zoo\n",
      "\n",
      "Attaching package: 'zoo'\n",
      "\n",
      "The following objects are masked from 'package:base':\n",
      "\n",
      "    as.Date, as.Date.numeric\n",
      "\n",
      "Loading required package: sandwich\n",
      "Warning message:\n",
      "\"package 'sandwich' was built under R version 3.6.3\"Loading required package: survival\n",
      "\n",
      "Please cite as: \n",
      "\n",
      " Hlavac, Marek (2022). stargazer: Well-Formatted Regression and Summary Statistics Tables.\n",
      " R package version 5.2.3. https://CRAN.R-project.org/package=stargazer \n",
      "\n"
     ]
    }
   ],
   "source": [
    "library(AER)\n",
    "library(stargazer)"
   ]
  },
  {
   "cell_type": "markdown",
   "id": "dc789992",
   "metadata": {},
   "source": [
    "## Example 1: Doctor Visits\n",
    "\n",
    "### Load the dataset DoctorVisits - Australian health care data\n",
    "\n",
    "https://rdrr.io/cran/AER/man/DoctorVisits.html\n",
    "\n",
    "#### Description\n",
    "Cross-section data originating from the 1977–1978 Australian Health Survey.\n",
    "\n",
    "#### Usage\n",
    "data(\"DoctorVisits\")\n",
    "\n",
    "#### Format\n",
    "A data frame containing 5,190 observations on 12 variables.\n",
    "\n",
    "##### visits\n",
    "\n",
    "Number of doctor visits in past 2 weeks.\n",
    "\n",
    "##### gender\n",
    "\n",
    "Factor indicating gender.\n",
    "\n",
    "##### age\n",
    "\n",
    "Age in years divided by 100.\n",
    "\n",
    "##### income\n",
    "\n",
    "Annual income in tens of thousands of dollars.\n",
    "\n",
    "##### illness\n",
    "\n",
    "Number of illnesses in past 2 weeks."
   ]
  },
  {
   "cell_type": "code",
   "execution_count": 61,
   "id": "06a6b7ee",
   "metadata": {},
   "outputs": [
    {
     "data": {
      "text/html": [
       "<table>\n",
       "<thead><tr><th scope=col>visits</th><th scope=col>gender</th><th scope=col>age</th><th scope=col>income</th><th scope=col>illness</th><th scope=col>reduced</th><th scope=col>health</th><th scope=col>private</th><th scope=col>freepoor</th><th scope=col>freerepat</th><th scope=col>nchronic</th><th scope=col>lchronic</th></tr></thead>\n",
       "<tbody>\n",
       "\t<tr><td>1     </td><td>female</td><td>19    </td><td>55    </td><td>1     </td><td>4     </td><td>1     </td><td>yes   </td><td>no    </td><td>no    </td><td>no    </td><td>no    </td></tr>\n",
       "\t<tr><td>1     </td><td>female</td><td>19    </td><td>45    </td><td>1     </td><td>2     </td><td>1     </td><td>yes   </td><td>no    </td><td>no    </td><td>no    </td><td>no    </td></tr>\n",
       "\t<tr><td>1     </td><td>male  </td><td>19    </td><td>90    </td><td>3     </td><td>0     </td><td>0     </td><td>no    </td><td>no    </td><td>no    </td><td>no    </td><td>no    </td></tr>\n",
       "\t<tr><td>1     </td><td>male  </td><td>19    </td><td>15    </td><td>1     </td><td>0     </td><td>0     </td><td>no    </td><td>no    </td><td>no    </td><td>no    </td><td>no    </td></tr>\n",
       "\t<tr><td>1     </td><td>male  </td><td>19    </td><td>45    </td><td>2     </td><td>5     </td><td>1     </td><td>no    </td><td>no    </td><td>no    </td><td>yes   </td><td>no    </td></tr>\n",
       "\t<tr><td>1     </td><td>female</td><td>19    </td><td>35    </td><td>5     </td><td>1     </td><td>9     </td><td>no    </td><td>no    </td><td>no    </td><td>yes   </td><td>no    </td></tr>\n",
       "</tbody>\n",
       "</table>\n"
      ],
      "text/latex": [
       "\\begin{tabular}{r|llllllllllll}\n",
       " visits & gender & age & income & illness & reduced & health & private & freepoor & freerepat & nchronic & lchronic\\\\\n",
       "\\hline\n",
       "\t 1      & female & 19     & 55     & 1      & 4      & 1      & yes    & no     & no     & no     & no    \\\\\n",
       "\t 1      & female & 19     & 45     & 1      & 2      & 1      & yes    & no     & no     & no     & no    \\\\\n",
       "\t 1      & male   & 19     & 90     & 3      & 0      & 0      & no     & no     & no     & no     & no    \\\\\n",
       "\t 1      & male   & 19     & 15     & 1      & 0      & 0      & no     & no     & no     & no     & no    \\\\\n",
       "\t 1      & male   & 19     & 45     & 2      & 5      & 1      & no     & no     & no     & yes    & no    \\\\\n",
       "\t 1      & female & 19     & 35     & 5      & 1      & 9      & no     & no     & no     & yes    & no    \\\\\n",
       "\\end{tabular}\n"
      ],
      "text/markdown": [
       "\n",
       "| visits | gender | age | income | illness | reduced | health | private | freepoor | freerepat | nchronic | lchronic |\n",
       "|---|---|---|---|---|---|---|---|---|---|---|---|\n",
       "| 1      | female | 19     | 55     | 1      | 4      | 1      | yes    | no     | no     | no     | no     |\n",
       "| 1      | female | 19     | 45     | 1      | 2      | 1      | yes    | no     | no     | no     | no     |\n",
       "| 1      | male   | 19     | 90     | 3      | 0      | 0      | no     | no     | no     | no     | no     |\n",
       "| 1      | male   | 19     | 15     | 1      | 0      | 0      | no     | no     | no     | no     | no     |\n",
       "| 1      | male   | 19     | 45     | 2      | 5      | 1      | no     | no     | no     | yes    | no     |\n",
       "| 1      | female | 19     | 35     | 5      | 1      | 9      | no     | no     | no     | yes    | no     |\n",
       "\n"
      ],
      "text/plain": [
       "  visits gender age income illness reduced health private freepoor freerepat\n",
       "1 1      female 19  55     1       4       1      yes     no       no       \n",
       "2 1      female 19  45     1       2       1      yes     no       no       \n",
       "3 1      male   19  90     3       0       0      no      no       no       \n",
       "4 1      male   19  15     1       0       0      no      no       no       \n",
       "5 1      male   19  45     2       5       1      no      no       no       \n",
       "6 1      female 19  35     5       1       9      no      no       no       \n",
       "  nchronic lchronic\n",
       "1 no       no      \n",
       "2 no       no      \n",
       "3 no       no      \n",
       "4 no       no      \n",
       "5 yes      no      \n",
       "6 yes      no      "
      ]
     },
     "metadata": {},
     "output_type": "display_data"
    }
   ],
   "source": [
    "data(\"DoctorVisits\")\n",
    "# correct the age (years) and income (thousands Aus Dollar) variables\n",
    "DoctorVisits$age = 100*DoctorVisits$age\n",
    "DoctorVisits$income = 100*DoctorVisits$income\n",
    "\n",
    "head(DoctorVisits)"
   ]
  },
  {
   "cell_type": "code",
   "execution_count": 60,
   "id": "4cf7d106",
   "metadata": {},
   "outputs": [
    {
     "data": {
      "image/png": "[encoded data removed]",
      "text/plain": [
       "plot without title"
      ]
     },
     "metadata": {},
     "output_type": "display_data"
    }
   ],
   "source": [
    "# Change plot size to 4 x 3\n",
    "options(repr.plot.width=6, repr.plot.height=4)\n",
    "#plot(visits~age, data = DoctorVisits)\n",
    "\n",
    "library(ggplot2)\n",
    "ggplot(DoctorVisits, aes(y=visits, x=income, colour = gender)) +\n",
    "    geom_point()+\n",
    "    ggtitle(\"Doctor visits by income and gender\")+\n",
    "    theme_minimal()"
   ]
  },
  {
   "cell_type": "code",
   "execution_count": 3,
   "id": "0df6deb9",
   "metadata": {},
   "outputs": [
    {
     "name": "stdout",
     "output_type": "stream",
     "text": [
      "Max visits 9\n",
      "===============================================\n",
      "                        Dependent variable:    \n",
      "                    ---------------------------\n",
      "                              visits           \n",
      "-----------------------------------------------\n",
      "income                       -0.001**          \n",
      "                             (0.0003)          \n",
      "                                               \n",
      "age                          0.004***          \n",
      "                              (0.001)          \n",
      "                                               \n",
      "genderfemale                  0.062**          \n",
      "                              (0.025)          \n",
      "                                               \n",
      "Constant                     0.154***          \n",
      "                              (0.034)          \n",
      "                                               \n",
      "-----------------------------------------------\n",
      "Observations                   5,190           \n",
      "R2                             0.019           \n",
      "Adjusted R2                    0.018           \n",
      "Residual Std. Error      0.791 (df = 5186)     \n",
      "F Statistic          33.218*** (df = 3; 5186)  \n",
      "===============================================\n",
      "Note:               *p<0.1; **p<0.05; ***p<0.01\n"
     ]
    }
   ],
   "source": [
    "cat('Max visits', max(DoctorVisits$visits))\n",
    "\n",
    "reg1 <- lm(visits~income+age+gender, data = DoctorVisits)\n",
    "rob_se <- sqrt(diag(vcovHC(reg1, type = \"HC1\")))\n",
    "\n",
    "stargazer(reg1, type = \"text\", se = list(rob_se))"
   ]
  },
  {
   "cell_type": "markdown",
   "id": "57b8decb",
   "metadata": {},
   "source": [
    "### How do we interpret the coefficient on age?\n",
    "\n",
    "#### Sign\n",
    "#### Magnitude\n",
    "#### Units\n",
    "#### Ceteris paribus\n",
    "\n",
    "If people one year older are expected (on average) to visit the doctor 0.004 times more per year, ceteris paribus (compared to people of the same gender and income).\n",
    "\n",
    "\n",
    "### How do we interpret the coefficient on gender?\n",
    "\n",
    "Females are on average expected to make 0.062 more visits than males per year, ceteris paribus (of the same age and income).\n",
    "\n",
    "### Who are these results valid for?  Can we talk about non-marginal changes?"
   ]
  },
  {
   "cell_type": "markdown",
   "id": "bb610fd7",
   "metadata": {},
   "source": [
    "## Example 2: US Seat Belts\n",
    "\n",
    "### Usage\n",
    "data(\"USSeatBelts\")\n",
    "\n",
    "### Format\n",
    "A data frame containing 765 observations on 12 variables.\n",
    "\n",
    "#### state\n",
    "factor indicating US state (abbreviation).\n",
    "\n",
    "#### year\n",
    "factor indicating year.\n",
    "\n",
    "#### miles\n",
    "millions of traffic miles per year.\n",
    "\n",
    "#### fatalities\n",
    "number of fatalities per million of traffic miles (absolute frequencies of fatalities = fatalities times miles).\n",
    "\n",
    "#### seatbelt\n",
    "seat belt usage rate, as self-reported by state population surveyed.\n",
    "\n",
    "#### speed65\n",
    "factor. Is there a 65 mile per hour speed limit?\n",
    "\n",
    "#### speed70\n",
    "factor. Is there a 70 (or higher) mile per hour speed limit?\n",
    "\n",
    "#### drinkage\n",
    "factor. Is there a minimum drinking age of 21 years?\n",
    "\n",
    "#### alcohol\n",
    "factor. Is there a maximum of 0.08 blood alcohol content?\n",
    "\n",
    "#### income\n",
    "median per capita income (in current US dollar).\n",
    "\n",
    "#### age\n",
    "mean age.\n",
    "\n",
    "#### enforce\n",
    "factor indicating seat belt law enforcement (\"no\", \"primary\", \"secondary\")."
   ]
  },
  {
   "cell_type": "code",
   "execution_count": 34,
   "id": "83f1bb5d",
   "metadata": {},
   "outputs": [
    {
     "data": {
      "text/html": [
       "<table>\n",
       "<thead><tr><th></th><th scope=col>state</th><th scope=col>year</th><th scope=col>miles</th><th scope=col>fatalities</th><th scope=col>seatbelt</th><th scope=col>speed65</th><th scope=col>speed70</th><th scope=col>drinkage</th><th scope=col>alcohol</th><th scope=col>income</th><th scope=col>age</th><th scope=col>enforce</th></tr></thead>\n",
       "<tbody>\n",
       "\t<tr><th scope=row>6</th><td>AK        </td><td>1988      </td><td>  3841    </td><td>0.02525384</td><td>    NA    </td><td>no        </td><td>no        </td><td>yes       </td><td>no        </td><td>18.447    </td><td>28.85142  </td><td>no        </td></tr>\n",
       "\t<tr><th scope=row>21</th><td>AL        </td><td>1988      </td><td> 39684    </td><td>0.02580385</td><td>0.2900    </td><td>yes       </td><td>no        </td><td>yes       </td><td>no        </td><td>13.288    </td><td>35.13696  </td><td>no        </td></tr>\n",
       "\t<tr><th scope=row>36</th><td>AR        </td><td>1988      </td><td> 19219    </td><td>0.03173942</td><td>0.3010    </td><td>yes       </td><td>no        </td><td>yes       </td><td>no        </td><td>12.637    </td><td>36.14387  </td><td>no        </td></tr>\n",
       "\t<tr><th scope=row>51</th><td>AZ        </td><td>1988      </td><td> 34247    </td><td>0.02756446</td><td>    NA    </td><td>yes       </td><td>no        </td><td>yes       </td><td>no        </td><td>15.246    </td><td>34.65613  </td><td>no        </td></tr>\n",
       "\t<tr><th scope=row>66</th><td>CA        </td><td>1988      </td><td>241575    </td><td>0.02232019</td><td>0.5085    </td><td>yes       </td><td>no        </td><td>yes       </td><td>no        </td><td>19.263    </td><td>33.80381  </td><td>secondary </td></tr>\n",
       "\t<tr><th scope=row>81</th><td>CO        </td><td>1988      </td><td> 27665    </td><td>0.01796494</td><td>    NA    </td><td>yes       </td><td>no        </td><td>yes       </td><td>no        </td><td>16.985    </td><td>33.52192  </td><td>secondary </td></tr>\n",
       "</tbody>\n",
       "</table>\n"
      ],
      "text/latex": [
       "\\begin{tabular}{r|llllllllllll}\n",
       "  & state & year & miles & fatalities & seatbelt & speed65 & speed70 & drinkage & alcohol & income & age & enforce\\\\\n",
       "\\hline\n",
       "\t6 & AK         & 1988       &   3841     & 0.02525384 &     NA     & no         & no         & yes        & no         & 18.447     & 28.85142   & no        \\\\\n",
       "\t21 & AL         & 1988       &  39684     & 0.02580385 & 0.2900     & yes        & no         & yes        & no         & 13.288     & 35.13696   & no        \\\\\n",
       "\t36 & AR         & 1988       &  19219     & 0.03173942 & 0.3010     & yes        & no         & yes        & no         & 12.637     & 36.14387   & no        \\\\\n",
       "\t51 & AZ         & 1988       &  34247     & 0.02756446 &     NA     & yes        & no         & yes        & no         & 15.246     & 34.65613   & no        \\\\\n",
       "\t66 & CA         & 1988       & 241575     & 0.02232019 & 0.5085     & yes        & no         & yes        & no         & 19.263     & 33.80381   & secondary \\\\\n",
       "\t81 & CO         & 1988       &  27665     & 0.01796494 &     NA     & yes        & no         & yes        & no         & 16.985     & 33.52192   & secondary \\\\\n",
       "\\end{tabular}\n"
      ],
      "text/markdown": [
       "\n",
       "| <!--/--> | state | year | miles | fatalities | seatbelt | speed65 | speed70 | drinkage | alcohol | income | age | enforce |\n",
       "|---|---|---|---|---|---|---|---|---|---|---|---|---|\n",
       "| 6 | AK         | 1988       |   3841     | 0.02525384 |     NA     | no         | no         | yes        | no         | 18.447     | 28.85142   | no         |\n",
       "| 21 | AL         | 1988       |  39684     | 0.02580385 | 0.2900     | yes        | no         | yes        | no         | 13.288     | 35.13696   | no         |\n",
       "| 36 | AR         | 1988       |  19219     | 0.03173942 | 0.3010     | yes        | no         | yes        | no         | 12.637     | 36.14387   | no         |\n",
       "| 51 | AZ         | 1988       |  34247     | 0.02756446 |     NA     | yes        | no         | yes        | no         | 15.246     | 34.65613   | no         |\n",
       "| 66 | CA         | 1988       | 241575     | 0.02232019 | 0.5085     | yes        | no         | yes        | no         | 19.263     | 33.80381   | secondary  |\n",
       "| 81 | CO         | 1988       |  27665     | 0.01796494 |     NA     | yes        | no         | yes        | no         | 16.985     | 33.52192   | secondary  |\n",
       "\n"
      ],
      "text/plain": [
       "   state year miles  fatalities seatbelt speed65 speed70 drinkage alcohol\n",
       "6  AK    1988   3841 0.02525384     NA   no      no      yes      no     \n",
       "21 AL    1988  39684 0.02580385 0.2900   yes     no      yes      no     \n",
       "36 AR    1988  19219 0.03173942 0.3010   yes     no      yes      no     \n",
       "51 AZ    1988  34247 0.02756446     NA   yes     no      yes      no     \n",
       "66 CA    1988 241575 0.02232019 0.5085   yes     no      yes      no     \n",
       "81 CO    1988  27665 0.01796494     NA   yes     no      yes      no     \n",
       "   income age      enforce  \n",
       "6  18.447 28.85142 no       \n",
       "21 13.288 35.13696 no       \n",
       "36 12.637 36.14387 no       \n",
       "51 15.246 34.65613 no       \n",
       "66 19.263 33.80381 secondary\n",
       "81 16.985 33.52192 secondary"
      ]
     },
     "metadata": {},
     "output_type": "display_data"
    }
   ],
   "source": [
    "data(\"USSeatBelts\")\n",
    "\n",
    "# Take a subset of the data for 1988\n",
    "mydata <- subset(USSeatBelts, USSeatBelts$year==1988)\n",
    "mydata$income <- mydata$income/1000\n",
    "head(mydata)"
   ]
  },
  {
   "cell_type": "code",
   "execution_count": 45,
   "id": "3bbca959",
   "metadata": {},
   "outputs": [
    {
     "data": {
      "text/html": [
       "51"
      ],
      "text/latex": [
       "51"
      ],
      "text/markdown": [
       "51"
      ],
      "text/plain": [
       "[1] 51"
      ]
     },
     "metadata": {},
     "output_type": "display_data"
    },
    {
     "data": {
      "text/plain": [
       "     state         year        miles          fatalities         seatbelt     \n",
       " AK     : 1   1988   :51   Min.   :  3405   Min.   :0.01673   Min.   :0.2780  \n",
       " AL     : 1   1983   : 0   1st Qu.: 10454   1st Qu.:0.01982   1st Qu.:0.3400  \n",
       " AR     : 1   1984   : 0   Median : 31614   Median :0.02283   Median :0.4700  \n",
       " AZ     : 1   1985   : 0   Mean   : 39718   Mean   :0.02376   Mean   :0.4492  \n",
       " CA     : 1   1986   : 0   3rd Qu.: 48349   3rd Qu.:0.02677   3rd Qu.:0.5500  \n",
       " CO     : 1   1987   : 0   Max.   :241575   Max.   :0.03313   Max.   :0.6650  \n",
       " (Other):45   (Other): 0                                      NA's   :22      \n",
       " speed65  speed70  drinkage alcohol      income           age       \n",
       " no : 8   no :51   no : 0   no :48   Min.   :11.24   Min.   :28.85  \n",
       " yes:43   yes: 0   yes:51   yes: 3   1st Qu.:13.65   1st Qu.:34.30  \n",
       "                                     Median :15.81   Median :35.06  \n",
       "                                     Mean   :16.14   Mean   :34.87  \n",
       "                                     3rd Qu.:17.86   3rd Qu.:35.90  \n",
       "                                     Max.   :23.70   Max.   :38.82  \n",
       "                                                                    \n",
       "      enforce  \n",
       " no       :18  \n",
       " primary  : 8  \n",
       " secondary:25  \n",
       "               \n",
       "               \n",
       "               \n",
       "               "
      ]
     },
     "metadata": {},
     "output_type": "display_data"
    }
   ],
   "source": [
    "#How can we calculate the sample size?\n",
    "length(mydata$state)\n",
    "summary(mydata)"
   ]
  },
  {
   "cell_type": "code",
   "execution_count": 46,
   "id": "2920befc",
   "metadata": {},
   "outputs": [
    {
     "data": {
      "image/png": "[encoded data removed]",
      "text/plain": [
       "plot without title"
      ]
     },
     "metadata": {},
     "output_type": "display_data"
    }
   ],
   "source": [
    "# Change plot size to 4 x 3\n",
    "options(repr.plot.width=6, repr.plot.height=4)\n",
    "plot(fatalities~seatbelt, data = mydata)"
   ]
  },
  {
   "cell_type": "code",
   "execution_count": 41,
   "id": "92b86550",
   "metadata": {},
   "outputs": [
    {
     "name": "stdout",
     "output_type": "stream",
     "text": [
      "\n",
      "===============================================\n",
      "                        Dependent variable:    \n",
      "                    ---------------------------\n",
      "                            fatalities         \n",
      "-----------------------------------------------\n",
      "age                            0.001           \n",
      "                              (0.001)          \n",
      "                                               \n",
      "seatbelt                     -0.019**          \n",
      "                              (0.009)          \n",
      "                                               \n",
      "income                       -0.001***         \n",
      "                             (0.0003)          \n",
      "                                               \n",
      "enforceprimary                0.006**          \n",
      "                              (0.003)          \n",
      "                                               \n",
      "enforcesecondary               0.003           \n",
      "                              (0.002)          \n",
      "                                               \n",
      "Constant                       0.021           \n",
      "                              (0.026)          \n",
      "                                               \n",
      "-----------------------------------------------\n",
      "Observations                    29             \n",
      "R2                             0.424           \n",
      "Adjusted R2                    0.298           \n",
      "Residual Std. Error       0.004 (df = 23)      \n",
      "F Statistic            3.382** (df = 5; 23)    \n",
      "===============================================\n",
      "Note:               *p<0.1; **p<0.05; ***p<0.01\n"
     ]
    }
   ],
   "source": [
    "reg2 <- lm(fatalities~age+seatbelt+income+enforce, data = mydata)\n",
    "rob_se2 <- sqrt(diag(vcovHC(reg2, type = \"HC1\")))\n",
    "stargazer(reg2, type = \"text\", se = list(rob_se2))"
   ]
  }
 ],
 "metadata": {
  "kernelspec": {
   "display_name": "R",
   "language": "R",
   "name": "ir"
  },
  "language_info": {
   "codemirror_mode": "r",
   "file_extension": ".r",
   "mimetype": "text/x-r-source",
   "name": "R",
   "pygments_lexer": "r",
   "version": "3.6.1"
  }
 },
 "nbformat": 4,
 "nbformat_minor": 5
}
