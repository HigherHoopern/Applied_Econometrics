{
 "cells": [
  {
   "cell_type": "markdown",
   "id": "9679f821",
   "metadata": {},
   "source": [
    "## BEEM011 Exercise 5: Week 7\n",
    "\n",
    "Multiple Linear Regression\n",
    "\n",
    "Amy Binner and Eva Poen\n",
    "\n",
    "Answers"
   ]
  },
  {
   "cell_type": "markdown",
   "id": "a04c1d94",
   "metadata": {},
   "source": [
    "## Useful R code\n",
    "\n",
    "#### INSTALLING A PACKAGE AND ADDING TO LIBRARY\n",
    "\n",
    "install.packages(“MASS”)\n",
    "\n",
    "library(MASS)\n",
    "\n",
    "data(“Boston”)\n",
    "\n",
    "#### LINEAR REGRESSION\n",
    "\n",
    "reg <- lm(y~x1+x2,data =mydata)\n",
    "\n",
    "#### LINEAR REGRESSION ON ALL VARIABLES IN DATASET\n",
    "\n",
    "reg <- lm(y ~., data = mydata)\n",
    "\n",
    "#### ROBUST STANDARD ERRORS\n",
    "\n",
    "coeftest(reg, vcov. = vcovHC, type =\"HC1\")\n",
    "\n",
    "#### VIEW COLUMNS IN DATASET\n",
    "head(mydata)\n",
    "\n",
    "#### DROP COLUMN i FROM A DATASET\n",
    "\n",
    "mydata = mydata[ , -i]\n",
    "\n",
    "#### FOR LOOPS"
   ]
  },
  {
   "cell_type": "code",
   "execution_count": 2,
   "id": "6cb61ad8",
   "metadata": {},
   "outputs": [
    {
     "data": {
      "text/html": [
       "<ol>\n",
       "</ol>\n"
      ],
      "text/latex": [
       "\\begin{enumerate}\n",
       "\\end{enumerate}\n"
      ],
      "text/markdown": [
       "\n",
       "\n"
      ],
      "text/plain": [
       "list()"
      ]
     },
     "metadata": {},
     "output_type": "display_data"
    }
   ],
   "source": [
    "# You can create a for loop when you want to automate a process \n",
    "# Below is a for loop which for the numbers 1 to 3 prints 2 times the number plus one\n",
    "# To do this we use a variable j which changes value in each round of the loop\n",
    "\n",
    "# set up a variable to store the calculation - \n",
    "# you can do this using list() to create an empty list, or {} to create an empty vector\n",
    "x <- list()\n",
    "x"
   ]
  },
  {
   "cell_type": "code",
   "execution_count": 3,
   "id": "70ba233b",
   "metadata": {},
   "outputs": [
    {
     "data": {
      "text/html": [
       "<ol>\n",
       "\t<li>4</li>\n",
       "\t<li>7</li>\n",
       "\t<li>10</li>\n",
       "</ol>\n"
      ],
      "text/latex": [
       "\\begin{enumerate}\n",
       "\\item 4\n",
       "\\item 7\n",
       "\\item 10\n",
       "\\end{enumerate}\n"
      ],
      "text/markdown": [
       "1. 4\n",
       "2. 7\n",
       "3. 10\n",
       "\n",
       "\n"
      ],
      "text/plain": [
       "[[1]]\n",
       "[1] 4\n",
       "\n",
       "[[2]]\n",
       "[1] 7\n",
       "\n",
       "[[3]]\n",
       "[1] 10\n"
      ]
     },
     "metadata": {},
     "output_type": "display_data"
    }
   ],
   "source": [
    "# start a for loop\n",
    "for (j in 1:3) {\n",
    "        x[j] <- 3*j + 1\n",
    "        }\n",
    "x"
   ]
  },
  {
   "cell_type": "markdown",
   "id": "ffada2af",
   "metadata": {},
   "source": [
    "#### Example"
   ]
  },
  {
   "cell_type": "code",
   "execution_count": 4,
   "id": "25093ca6",
   "metadata": {},
   "outputs": [
    {
     "data": {
      "text/html": [
       "<ol class=list-inline>\n",
       "\t<li>2</li>\n",
       "\t<li>4</li>\n",
       "\t<li>3</li>\n",
       "\t<li>9</li>\n",
       "</ol>\n"
      ],
      "text/latex": [
       "\\begin{enumerate*}\n",
       "\\item 2\n",
       "\\item 4\n",
       "\\item 3\n",
       "\\item 9\n",
       "\\end{enumerate*}\n"
      ],
      "text/markdown": [
       "1. 2\n",
       "2. 4\n",
       "3. 3\n",
       "4. 9\n",
       "\n",
       "\n"
      ],
      "text/plain": [
       "[1] 2 4 3 9"
      ]
     },
     "metadata": {},
     "output_type": "display_data"
    }
   ],
   "source": [
    "# Now let's create a for loop that prints the elements of a vector, z, but drops the jth element each time\n",
    "# To drop the jth element of z we use z[-j]\n",
    "\n",
    "z <- c(2,4,3,9)\n",
    "z"
   ]
  },
  {
   "cell_type": "code",
   "execution_count": 7,
   "id": "2106b111",
   "metadata": {},
   "outputs": [
    {
     "name": "stdout",
     "output_type": "stream",
     "text": [
      "[1] 4 3 9\n",
      "Dropped element 1  is: 2[1] 2 3 9\n",
      "Dropped element 2  is: 4[1] 2 4 9\n",
      "Dropped element 3  is: 3[1] 2 4 3\n",
      "Dropped element 4  is: 9"
     ]
    }
   ],
   "source": [
    "for (j in 1:4) {\n",
    "        print(z[-j])\n",
    "        cat(\"\\n Dropped element\", j, \" is:\", z[j], \"\\n\")\n",
    "        }\n",
    "\n",
    "# Notice that there are four iterations in the loop, j=1,2,3,4"
   ]
  },
  {
   "cell_type": "code",
   "execution_count": 8,
   "id": "39e6541a",
   "metadata": {},
   "outputs": [
    {
     "data": {
      "text/html": [
       "<ol class=list-inline>\n",
       "\t<li>'H'</li>\n",
       "\t<li>'e'</li>\n",
       "\t<li>'l'</li>\n",
       "\t<li>'l'</li>\n",
       "\t<li>'o'</li>\n",
       "</ol>\n"
      ],
      "text/latex": [
       "\\begin{enumerate*}\n",
       "\\item 'H'\n",
       "\\item 'e'\n",
       "\\item 'l'\n",
       "\\item 'l'\n",
       "\\item 'o'\n",
       "\\end{enumerate*}\n"
      ],
      "text/markdown": [
       "1. 'H'\n",
       "2. 'e'\n",
       "3. 'l'\n",
       "4. 'l'\n",
       "5. 'o'\n",
       "\n",
       "\n"
      ],
      "text/plain": [
       "[1] \"H\" \"e\" \"l\" \"l\" \"o\""
      ]
     },
     "metadata": {},
     "output_type": "display_data"
    }
   ],
   "source": [
    "#### Example 2\n",
    "\n",
    "n <- c(\"H\",\"e\",\"l\", \"l\", \"o\")\n",
    "n "
   ]
  },
  {
   "cell_type": "code",
   "execution_count": 11,
   "id": "a551d9d8",
   "metadata": {},
   "outputs": [
    {
     "name": "stdout",
     "output_type": "stream",
     "text": [
      "o \n",
      "l \n",
      "l \n",
      "e \n",
      "H \n"
     ]
    }
   ],
   "source": [
    "for (j in 5:1) {\n",
    "        cat(n[j], \"\\n\")\n",
    "        }"
   ]
  },
  {
   "cell_type": "markdown",
   "id": "63944fe4",
   "metadata": {},
   "source": [
    "# Question 1 a)\n",
    "\n",
    "In this empirical exercise, you will work with the Boston Housing data set which contains 506 observations on housing values in suburbs of Boston. \n",
    "\n",
    "Boston comes with the package MASS which you need to install and load into your library. \n",
    "\n",
    "Summarize the dataset by looking at the distribution of each variable. You can use the summary() or head() function to get an overview of the dataset. "
   ]
  },
  {
   "cell_type": "code",
   "execution_count": 12,
   "id": "e7b2be5e",
   "metadata": {},
   "outputs": [
    {
     "name": "stderr",
     "output_type": "stream",
     "text": [
      "Warning message:\n",
      "\"package 'MASS' was built under R version 3.6.3\""
     ]
    },
    {
     "data": {
      "text/plain": [
       "      crim                zn             indus            chas        \n",
       " Min.   : 0.00632   Min.   :  0.00   Min.   : 0.46   Min.   :0.00000  \n",
       " 1st Qu.: 0.08204   1st Qu.:  0.00   1st Qu.: 5.19   1st Qu.:0.00000  \n",
       " Median : 0.25651   Median :  0.00   Median : 9.69   Median :0.00000  \n",
       " Mean   : 3.61352   Mean   : 11.36   Mean   :11.14   Mean   :0.06917  \n",
       " 3rd Qu.: 3.67708   3rd Qu.: 12.50   3rd Qu.:18.10   3rd Qu.:0.00000  \n",
       " Max.   :88.97620   Max.   :100.00   Max.   :27.74   Max.   :1.00000  \n",
       "      nox               rm             age              dis        \n",
       " Min.   :0.3850   Min.   :3.561   Min.   :  2.90   Min.   : 1.130  \n",
       " 1st Qu.:0.4490   1st Qu.:5.886   1st Qu.: 45.02   1st Qu.: 2.100  \n",
       " Median :0.5380   Median :6.208   Median : 77.50   Median : 3.207  \n",
       " Mean   :0.5547   Mean   :6.285   Mean   : 68.57   Mean   : 3.795  \n",
       " 3rd Qu.:0.6240   3rd Qu.:6.623   3rd Qu.: 94.08   3rd Qu.: 5.188  \n",
       " Max.   :0.8710   Max.   :8.780   Max.   :100.00   Max.   :12.127  \n",
       "      rad              tax           ptratio          black       \n",
       " Min.   : 1.000   Min.   :187.0   Min.   :12.60   Min.   :  0.32  \n",
       " 1st Qu.: 4.000   1st Qu.:279.0   1st Qu.:17.40   1st Qu.:375.38  \n",
       " Median : 5.000   Median :330.0   Median :19.05   Median :391.44  \n",
       " Mean   : 9.549   Mean   :408.2   Mean   :18.46   Mean   :356.67  \n",
       " 3rd Qu.:24.000   3rd Qu.:666.0   3rd Qu.:20.20   3rd Qu.:396.23  \n",
       " Max.   :24.000   Max.   :711.0   Max.   :22.00   Max.   :396.90  \n",
       "     lstat            medv      \n",
       " Min.   : 1.73   Min.   : 5.00  \n",
       " 1st Qu.: 6.95   1st Qu.:17.02  \n",
       " Median :11.36   Median :21.20  \n",
       " Mean   :12.65   Mean   :22.53  \n",
       " 3rd Qu.:16.95   3rd Qu.:25.00  \n",
       " Max.   :37.97   Max.   :50.00  "
      ]
     },
     "metadata": {},
     "output_type": "display_data"
    }
   ],
   "source": [
    "## Edit the code below \n",
    "# Header: Exercise 5 \n",
    "# Author: \n",
    "# Date:\n",
    "# Candidate number:\n",
    "\n",
    "# Install MASS package and load the Boston data\n",
    "# if this does not work try installing via the powershell terminal using \n",
    "# conda install -c conda-forge r-MASS\n",
    "\n",
    "#install.packages(\"MASS\")\n",
    "library(MASS)\n",
    "data(\"Boston\")\n",
    "\n",
    "# Summarize the data using summary\n",
    "summary(Boston)\n"
   ]
  },
  {
   "cell_type": "code",
   "execution_count": 13,
   "id": "db0ea79c",
   "metadata": {},
   "outputs": [
    {
     "data": {
      "text/html": [
       "<table>\n",
       "<thead><tr><th scope=col>crim</th><th scope=col>zn</th><th scope=col>indus</th><th scope=col>chas</th><th scope=col>nox</th><th scope=col>rm</th><th scope=col>age</th><th scope=col>dis</th><th scope=col>rad</th><th scope=col>tax</th><th scope=col>ptratio</th><th scope=col>black</th><th scope=col>lstat</th><th scope=col>medv</th></tr></thead>\n",
       "<tbody>\n",
       "\t<tr><td>0.00632</td><td>18     </td><td>2.31   </td><td>0      </td><td>0.538  </td><td>6.575  </td><td>65.2   </td><td>4.0900 </td><td>1      </td><td>296    </td><td>15.3   </td><td>396.90 </td><td>4.98   </td><td>24.0   </td></tr>\n",
       "\t<tr><td>0.02731</td><td> 0     </td><td>7.07   </td><td>0      </td><td>0.469  </td><td>6.421  </td><td>78.9   </td><td>4.9671 </td><td>2      </td><td>242    </td><td>17.8   </td><td>396.90 </td><td>9.14   </td><td>21.6   </td></tr>\n",
       "\t<tr><td>0.02729</td><td> 0     </td><td>7.07   </td><td>0      </td><td>0.469  </td><td>7.185  </td><td>61.1   </td><td>4.9671 </td><td>2      </td><td>242    </td><td>17.8   </td><td>392.83 </td><td>4.03   </td><td>34.7   </td></tr>\n",
       "\t<tr><td>0.03237</td><td> 0     </td><td>2.18   </td><td>0      </td><td>0.458  </td><td>6.998  </td><td>45.8   </td><td>6.0622 </td><td>3      </td><td>222    </td><td>18.7   </td><td>394.63 </td><td>2.94   </td><td>33.4   </td></tr>\n",
       "\t<tr><td>0.06905</td><td> 0     </td><td>2.18   </td><td>0      </td><td>0.458  </td><td>7.147  </td><td>54.2   </td><td>6.0622 </td><td>3      </td><td>222    </td><td>18.7   </td><td>396.90 </td><td>5.33   </td><td>36.2   </td></tr>\n",
       "\t<tr><td>0.02985</td><td> 0     </td><td>2.18   </td><td>0      </td><td>0.458  </td><td>6.430  </td><td>58.7   </td><td>6.0622 </td><td>3      </td><td>222    </td><td>18.7   </td><td>394.12 </td><td>5.21   </td><td>28.7   </td></tr>\n",
       "</tbody>\n",
       "</table>\n"
      ],
      "text/latex": [
       "\\begin{tabular}{r|llllllllllllll}\n",
       " crim & zn & indus & chas & nox & rm & age & dis & rad & tax & ptratio & black & lstat & medv\\\\\n",
       "\\hline\n",
       "\t 0.00632 & 18      & 2.31    & 0       & 0.538   & 6.575   & 65.2    & 4.0900  & 1       & 296     & 15.3    & 396.90  & 4.98    & 24.0   \\\\\n",
       "\t 0.02731 &  0      & 7.07    & 0       & 0.469   & 6.421   & 78.9    & 4.9671  & 2       & 242     & 17.8    & 396.90  & 9.14    & 21.6   \\\\\n",
       "\t 0.02729 &  0      & 7.07    & 0       & 0.469   & 7.185   & 61.1    & 4.9671  & 2       & 242     & 17.8    & 392.83  & 4.03    & 34.7   \\\\\n",
       "\t 0.03237 &  0      & 2.18    & 0       & 0.458   & 6.998   & 45.8    & 6.0622  & 3       & 222     & 18.7    & 394.63  & 2.94    & 33.4   \\\\\n",
       "\t 0.06905 &  0      & 2.18    & 0       & 0.458   & 7.147   & 54.2    & 6.0622  & 3       & 222     & 18.7    & 396.90  & 5.33    & 36.2   \\\\\n",
       "\t 0.02985 &  0      & 2.18    & 0       & 0.458   & 6.430   & 58.7    & 6.0622  & 3       & 222     & 18.7    & 394.12  & 5.21    & 28.7   \\\\\n",
       "\\end{tabular}\n"
      ],
      "text/markdown": [
       "\n",
       "| crim | zn | indus | chas | nox | rm | age | dis | rad | tax | ptratio | black | lstat | medv |\n",
       "|---|---|---|---|---|---|---|---|---|---|---|---|---|---|\n",
       "| 0.00632 | 18      | 2.31    | 0       | 0.538   | 6.575   | 65.2    | 4.0900  | 1       | 296     | 15.3    | 396.90  | 4.98    | 24.0    |\n",
       "| 0.02731 |  0      | 7.07    | 0       | 0.469   | 6.421   | 78.9    | 4.9671  | 2       | 242     | 17.8    | 396.90  | 9.14    | 21.6    |\n",
       "| 0.02729 |  0      | 7.07    | 0       | 0.469   | 7.185   | 61.1    | 4.9671  | 2       | 242     | 17.8    | 392.83  | 4.03    | 34.7    |\n",
       "| 0.03237 |  0      | 2.18    | 0       | 0.458   | 6.998   | 45.8    | 6.0622  | 3       | 222     | 18.7    | 394.63  | 2.94    | 33.4    |\n",
       "| 0.06905 |  0      | 2.18    | 0       | 0.458   | 7.147   | 54.2    | 6.0622  | 3       | 222     | 18.7    | 396.90  | 5.33    | 36.2    |\n",
       "| 0.02985 |  0      | 2.18    | 0       | 0.458   | 6.430   | 58.7    | 6.0622  | 3       | 222     | 18.7    | 394.12  | 5.21    | 28.7    |\n",
       "\n"
      ],
      "text/plain": [
       "  crim    zn indus chas nox   rm    age  dis    rad tax ptratio black  lstat\n",
       "1 0.00632 18 2.31  0    0.538 6.575 65.2 4.0900 1   296 15.3    396.90 4.98 \n",
       "2 0.02731  0 7.07  0    0.469 6.421 78.9 4.9671 2   242 17.8    396.90 9.14 \n",
       "3 0.02729  0 7.07  0    0.469 7.185 61.1 4.9671 2   242 17.8    392.83 4.03 \n",
       "4 0.03237  0 2.18  0    0.458 6.998 45.8 6.0622 3   222 18.7    394.63 2.94 \n",
       "5 0.06905  0 2.18  0    0.458 7.147 54.2 6.0622 3   222 18.7    396.90 5.33 \n",
       "6 0.02985  0 2.18  0    0.458 6.430 58.7 6.0622 3   222 18.7    394.12 5.21 \n",
       "  medv\n",
       "1 24.0\n",
       "2 21.6\n",
       "3 34.7\n",
       "4 33.4\n",
       "5 36.2\n",
       "6 28.7"
      ]
     },
     "metadata": {},
     "output_type": "display_data"
    }
   ],
   "source": [
    "# Summarise the data using head\n",
    "s2 <- head(Boston)\n",
    "s2"
   ]
  },
  {
   "cell_type": "markdown",
   "id": "e93ea180",
   "metadata": {},
   "source": [
    "## 1 b i)\t\n",
    "\n",
    "Estimate a simple linear regression model that explains the median house value of districts in thousands of dollars, medv, by the percent of households with low socioeconomic status, lstat, and a constant.  This type of model is called a hedonic price model.\n",
    "\n",
    "Save the model to reg1. \n",
    "\n",
    "Print a coefficient summary to the console that reports robust standard errors.\n",
    "\n",
    "#### Remember - it is always better to use robust standard errors as results are still valid when errors are homoskedastic."
   ]
  },
  {
   "cell_type": "code",
   "execution_count": 14,
   "id": "c5b5bbef",
   "metadata": {},
   "outputs": [
    {
     "data": {
      "text/plain": [
       "\n",
       "Call:\n",
       "lm(formula = medv ~ lstat, data = Boston)\n",
       "\n",
       "Residuals:\n",
       "    Min      1Q  Median      3Q     Max \n",
       "-15.168  -3.990  -1.318   2.034  24.500 \n",
       "\n",
       "Coefficients:\n",
       "            Estimate Std. Error t value Pr(>|t|)    \n",
       "(Intercept) 34.55384    0.56263   61.41   <2e-16 ***\n",
       "lstat       -0.95005    0.03873  -24.53   <2e-16 ***\n",
       "---\n",
       "Signif. codes:  0 '***' 0.001 '**' 0.01 '*' 0.05 '.' 0.1 ' ' 1\n",
       "\n",
       "Residual standard error: 6.216 on 504 degrees of freedom\n",
       "Multiple R-squared:  0.5441,\tAdjusted R-squared:  0.5432 \n",
       "F-statistic: 601.6 on 1 and 504 DF,  p-value: < 2.2e-16\n"
      ]
     },
     "metadata": {},
     "output_type": "display_data"
    }
   ],
   "source": [
    "# Estimate a simple linear regression model\n",
    "reg1 <- lm(medv~lstat, data= Boston)\n",
    "summary(reg1) # Remember this is homoskedasticity only standard errors"
   ]
  },
  {
   "cell_type": "code",
   "execution_count": 15,
   "id": "15ce7b7b",
   "metadata": {},
   "outputs": [
    {
     "name": "stderr",
     "output_type": "stream",
     "text": [
      "Loading required package: car\n",
      "Loading required package: carData\n",
      "Loading required package: lmtest\n",
      "Warning message:\n",
      "\"package 'lmtest' was built under R version 3.6.3\"Loading required package: zoo\n",
      "\n",
      "Attaching package: 'zoo'\n",
      "\n",
      "The following objects are masked from 'package:base':\n",
      "\n",
      "    as.Date, as.Date.numeric\n",
      "\n",
      "Loading required package: sandwich\n",
      "Loading required package: survival\n"
     ]
    },
    {
     "data": {
      "text/plain": [
       "\n",
       "t test of coefficients:\n",
       "\n",
       "             Estimate Std. Error t value  Pr(>|t|)    \n",
       "(Intercept) 34.553841   0.754199  45.815 < 2.2e-16 ***\n",
       "lstat       -0.950049   0.049605 -19.152 < 2.2e-16 ***\n",
       "---\n",
       "Signif. codes:  0 '***' 0.001 '**' 0.01 '*' 0.05 '.' 0.1 ' ' 1\n"
      ]
     },
     "metadata": {},
     "output_type": "display_data"
    }
   ],
   "source": [
    "# Print a coefficient summary with robust standard errors\n",
    "library(AER)\n",
    "coeftest(reg1, vcov.= vcovHC, type=\"HC1\")\n",
    "# Save robust standard errors \n",
    "sereg1 <- vcovHC(reg1, vcov.=vcovHC, type = \"HC1\")"
   ]
  },
  {
   "cell_type": "markdown",
   "id": "1d4ea986",
   "metadata": {},
   "source": [
    "# 1 b ii)\n",
    "\n",
    "How do you interpret the regression results?\n",
    "\n",
    "What do you notice about the standard errors?\n",
    "\n",
    "#### Enter your answer here\n",
    "\n",
    "The results suggest that medv and lstat are negatively linearly dependent. \n",
    "\n",
    "A 1-percentage point increase in lstat is associated with $950 decline in median house value of districts in Boston. \n",
    "\n",
    "The robust standard errors are larger than the homoskedasticity only standard errors."
   ]
  },
  {
   "cell_type": "code",
   "execution_count": 18,
   "id": "79b5b569",
   "metadata": {},
   "outputs": [
    {
     "data": {
      "image/png": "[encoded data removed]",
      "text/plain": [
       "plot without title"
      ]
     },
     "metadata": {},
     "output_type": "display_data"
    }
   ],
   "source": [
    "# resizing the plot window\n",
    "options(repr.plot.width=7, repr.plot.height=4)\n",
    "\n",
    "# Plotting the data and the estimated regression line\n",
    "plot(medv~lstat, data = Boston)\n",
    "abline(reg1, col = \"blue\", lwd = 3)"
   ]
  },
  {
   "cell_type": "markdown",
   "id": "df0744c6",
   "metadata": {},
   "source": [
    "# 1 c)\n",
    "\n",
    "Now lets expand the approach by adding additional regressors to the model and reestimating it. \n",
    "\n",
    "Regress the median housing value in a district, medv, on the average age of the buildings, age, the per-capita crime rate, crim, the percentage of individuals with low socioeconomic status, lstat, and a constant. Put differently, estimate the model and save it to reg2.\n",
    "\n",
    "Print the summary and a coefficient summary with robust standard errors."
   ]
  },
  {
   "cell_type": "code",
   "execution_count": 19,
   "id": "11346d63",
   "metadata": {},
   "outputs": [
    {
     "data": {
      "text/plain": [
       "\n",
       "Call:\n",
       "lm(formula = medv ~ lstat + crim + age, data = Boston)\n",
       "\n",
       "Residuals:\n",
       "    Min      1Q  Median      3Q     Max \n",
       "-16.133  -3.848  -1.380   1.970  23.644 \n",
       "\n",
       "Coefficients:\n",
       "            Estimate Std. Error t value Pr(>|t|)    \n",
       "(Intercept) 32.82804    0.74774  43.903  < 2e-16 ***\n",
       "lstat       -0.99409    0.05075 -19.587  < 2e-16 ***\n",
       "crim        -0.08262    0.03594  -2.299  0.02193 *  \n",
       "age          0.03765    0.01225   3.074  0.00223 ** \n",
       "---\n",
       "Signif. codes:  0 '***' 0.001 '**' 0.01 '*' 0.05 '.' 0.1 ' ' 1\n",
       "\n",
       "Residual standard error: 6.147 on 502 degrees of freedom\n",
       "Multiple R-squared:  0.5559,\tAdjusted R-squared:  0.5533 \n",
       "F-statistic: 209.5 on 3 and 502 DF,  p-value: < 2.2e-16\n"
      ]
     },
     "metadata": {},
     "output_type": "display_data"
    }
   ],
   "source": [
    "# Estimate a multiple linear regression model\n",
    "\n",
    "reg2 <- lm(medv ~ lstat + crim + age, data = Boston)\n",
    "\n",
    "# Print the summary\n",
    "summary(reg2)"
   ]
  },
  {
   "cell_type": "code",
   "execution_count": 20,
   "id": "8adce4a6",
   "metadata": {},
   "outputs": [
    {
     "data": {
      "text/plain": [
       "\n",
       "t test of coefficients:\n",
       "\n",
       "             Estimate Std. Error  t value  Pr(>|t|)    \n",
       "(Intercept) 32.828045   0.746060  44.0019 < 2.2e-16 ***\n",
       "lstat       -0.994091   0.081360 -12.2185 < 2.2e-16 ***\n",
       "crim        -0.082622   0.028295  -2.9200  0.003658 ** \n",
       "age          0.037647   0.016633   2.2634  0.024035 *  \n",
       "---\n",
       "Signif. codes:  0 '***' 0.001 '**' 0.01 '*' 0.05 '.' 0.1 ' ' 1\n"
      ]
     },
     "metadata": {},
     "output_type": "display_data"
    }
   ],
   "source": [
    "# Print coefficients with robust standard errors\n",
    "coeftest(reg2, vcov. = vcovHC, type= \"HC1\")\n",
    "# saving robust standard errors (for stargazer table)\n",
    "sereg2 <- vcovHC(reg2, type = \"HC1\")"
   ]
  },
  {
   "cell_type": "code",
   "execution_count": 21,
   "id": "c7be8bb3",
   "metadata": {},
   "outputs": [
    {
     "name": "stderr",
     "output_type": "stream",
     "text": [
      "\n",
      "Please cite as: \n",
      "\n",
      " Hlavac, Marek (2022). stargazer: Well-Formatted Regression and Summary Statistics Tables.\n",
      " R package version 5.2.3. https://CRAN.R-project.org/package=stargazer \n",
      "\n"
     ]
    },
    {
     "name": "stdout",
     "output_type": "stream",
     "text": [
      "\n",
      "=====================================================================\n",
      "                                   Dependent variable:               \n",
      "                    -------------------------------------------------\n",
      "                                          medv                       \n",
      "                              (1)                      (2)           \n",
      "---------------------------------------------------------------------\n",
      "lstat                      -0.950***                -0.994***        \n",
      "                            (-0.035)                 (-0.013)        \n",
      "                                                                     \n",
      "crim                                                -0.083***        \n",
      "                                                     (0.004)         \n",
      "                                                                     \n",
      "age                                                  0.038***        \n",
      "                                                     (-0.005)        \n",
      "                                                                     \n",
      "Constant                   34.554***                32.828***        \n",
      "                            (0.569)                  (0.557)         \n",
      "                                                                     \n",
      "---------------------------------------------------------------------\n",
      "Observations                  506                      506           \n",
      "R2                           0.544                    0.556          \n",
      "Adjusted R2                  0.543                    0.553          \n",
      "Residual Std. Error     6.216 (df = 504)         6.147 (df = 502)    \n",
      "F Statistic         601.618*** (df = 1; 504) 209.495*** (df = 3; 502)\n",
      "=====================================================================\n",
      "Note:                                     *p<0.1; **p<0.05; ***p<0.01\n"
     ]
    }
   ],
   "source": [
    "library(stargazer)\n",
    "stargazer(reg1, reg2, type = \"text\", se = list(sereg1, sereg2))"
   ]
  },
  {
   "cell_type": "markdown",
   "id": "43145a4a",
   "metadata": {},
   "source": [
    "#### Results \n",
    "\n",
    "A 1-percentage point increase in lstat is associated with $994 decline in median house value of districts in Boston.\n",
    "\n",
    "The coefficient for lstat has increased (in magnitude), suggesting that perhaps there may an omitted variable(s) in the previous model that creates bias in the estimated coefficient. \n",
    "\n",
    "This could imply that the correlation between lstat and the unobserved relevant variable is negative and the correlation between the medv and the omitted variable is positive (or the correlation between lstat and the omitted variable is positive, but the relationship between medv and the omitted variable is negative). \n",
    "\n",
    "One possible explanation could be that as building age increases as the share lower status of the population (percent) increases and that building age increases property prices (assuming fixed quality) as people value period features."
   ]
  },
  {
   "cell_type": "markdown",
   "id": "32f94957",
   "metadata": {},
   "source": [
    "### Correlation\n",
    "\n",
    "You can calculate the pairwise correlation coefficient using the function cor()"
   ]
  },
  {
   "cell_type": "code",
   "execution_count": 22,
   "id": "90ddbb6c",
   "metadata": {},
   "outputs": [
    {
     "data": {
      "text/html": [
       "<table>\n",
       "<thead><tr><th></th><th scope=col>crim</th><th scope=col>zn</th><th scope=col>indus</th><th scope=col>chas</th><th scope=col>nox</th><th scope=col>rm</th><th scope=col>age</th><th scope=col>dis</th><th scope=col>rad</th><th scope=col>tax</th><th scope=col>ptratio</th><th scope=col>black</th><th scope=col>lstat</th><th scope=col>medv</th></tr></thead>\n",
       "<tbody>\n",
       "\t<tr><th scope=row>crim</th><td> 1.00000000 </td><td>-0.20046922 </td><td> 0.40658341 </td><td>-0.055891582</td><td> 0.42097171 </td><td>-0.21924670 </td><td> 0.35273425 </td><td>-0.37967009 </td><td> 0.625505145</td><td> 0.58276431 </td><td> 0.2899456  </td><td>-0.38506394 </td><td> 0.4556215  </td><td>-0.3883046  </td></tr>\n",
       "\t<tr><th scope=row>zn</th><td>-0.20046922 </td><td> 1.00000000 </td><td>-0.53382819 </td><td>-0.042696719</td><td>-0.51660371 </td><td> 0.31199059 </td><td>-0.56953734 </td><td> 0.66440822 </td><td>-0.311947826</td><td>-0.31456332 </td><td>-0.3916785  </td><td> 0.17552032 </td><td>-0.4129946  </td><td> 0.3604453  </td></tr>\n",
       "\t<tr><th scope=row>indus</th><td> 0.40658341 </td><td>-0.53382819 </td><td> 1.00000000 </td><td> 0.062938027</td><td> 0.76365145 </td><td>-0.39167585 </td><td> 0.64477851 </td><td>-0.70802699 </td><td> 0.595129275</td><td> 0.72076018 </td><td> 0.3832476  </td><td>-0.35697654 </td><td> 0.6037997  </td><td>-0.4837252  </td></tr>\n",
       "\t<tr><th scope=row>chas</th><td>-0.05589158 </td><td>-0.04269672 </td><td> 0.06293803 </td><td> 1.000000000</td><td> 0.09120281 </td><td> 0.09125123 </td><td> 0.08651777 </td><td>-0.09917578 </td><td>-0.007368241</td><td>-0.03558652 </td><td>-0.1215152  </td><td> 0.04878848 </td><td>-0.0539293  </td><td> 0.1752602  </td></tr>\n",
       "\t<tr><th scope=row>nox</th><td> 0.42097171 </td><td>-0.51660371 </td><td> 0.76365145 </td><td> 0.091202807</td><td> 1.00000000 </td><td>-0.30218819 </td><td> 0.73147010 </td><td>-0.76923011 </td><td> 0.611440563</td><td> 0.66802320 </td><td> 0.1889327  </td><td>-0.38005064 </td><td> 0.5908789  </td><td>-0.4273208  </td></tr>\n",
       "\t<tr><th scope=row>rm</th><td>-0.21924670 </td><td> 0.31199059 </td><td>-0.39167585 </td><td> 0.091251225</td><td>-0.30218819 </td><td> 1.00000000 </td><td>-0.24026493 </td><td> 0.20524621 </td><td>-0.209846668</td><td>-0.29204783 </td><td>-0.3555015  </td><td> 0.12806864 </td><td>-0.6138083  </td><td> 0.6953599  </td></tr>\n",
       "\t<tr><th scope=row>age</th><td> 0.35273425 </td><td>-0.56953734 </td><td> 0.64477851 </td><td> 0.086517774</td><td> 0.73147010 </td><td>-0.24026493 </td><td> 1.00000000 </td><td>-0.74788054 </td><td> 0.456022452</td><td> 0.50645559 </td><td> 0.2615150  </td><td>-0.27353398 </td><td> 0.6023385  </td><td>-0.3769546  </td></tr>\n",
       "\t<tr><th scope=row>dis</th><td>-0.37967009 </td><td> 0.66440822 </td><td>-0.70802699 </td><td>-0.099175780</td><td>-0.76923011 </td><td> 0.20524621 </td><td>-0.74788054 </td><td> 1.00000000 </td><td>-0.494587930</td><td>-0.53443158 </td><td>-0.2324705  </td><td> 0.29151167 </td><td>-0.4969958  </td><td> 0.2499287  </td></tr>\n",
       "\t<tr><th scope=row>rad</th><td> 0.62550515 </td><td>-0.31194783 </td><td> 0.59512927 </td><td>-0.007368241</td><td> 0.61144056 </td><td>-0.20984667 </td><td> 0.45602245 </td><td>-0.49458793 </td><td> 1.000000000</td><td> 0.91022819 </td><td> 0.4647412  </td><td>-0.44441282 </td><td> 0.4886763  </td><td>-0.3816262  </td></tr>\n",
       "\t<tr><th scope=row>tax</th><td> 0.58276431 </td><td>-0.31456332 </td><td> 0.72076018 </td><td>-0.035586518</td><td> 0.66802320 </td><td>-0.29204783 </td><td> 0.50645559 </td><td>-0.53443158 </td><td> 0.910228189</td><td> 1.00000000 </td><td> 0.4608530  </td><td>-0.44180801 </td><td> 0.5439934  </td><td>-0.4685359  </td></tr>\n",
       "\t<tr><th scope=row>ptratio</th><td> 0.28994558 </td><td>-0.39167855 </td><td> 0.38324756 </td><td>-0.121515174</td><td> 0.18893268 </td><td>-0.35550149 </td><td> 0.26151501 </td><td>-0.23247054 </td><td> 0.464741179</td><td> 0.46085304 </td><td> 1.0000000  </td><td>-0.17738330 </td><td> 0.3740443  </td><td>-0.5077867  </td></tr>\n",
       "\t<tr><th scope=row>black</th><td>-0.38506394 </td><td> 0.17552032 </td><td>-0.35697654 </td><td> 0.048788485</td><td>-0.38005064 </td><td> 0.12806864 </td><td>-0.27353398 </td><td> 0.29151167 </td><td>-0.444412816</td><td>-0.44180801 </td><td>-0.1773833  </td><td> 1.00000000 </td><td>-0.3660869  </td><td> 0.3334608  </td></tr>\n",
       "\t<tr><th scope=row>lstat</th><td> 0.45562148 </td><td>-0.41299457 </td><td> 0.60379972 </td><td>-0.053929298</td><td> 0.59087892 </td><td>-0.61380827 </td><td> 0.60233853 </td><td>-0.49699583 </td><td> 0.488676335</td><td> 0.54399341 </td><td> 0.3740443  </td><td>-0.36608690 </td><td> 1.0000000  </td><td>-0.7376627  </td></tr>\n",
       "\t<tr><th scope=row>medv</th><td>-0.38830461 </td><td> 0.36044534 </td><td>-0.48372516 </td><td> 0.175260177</td><td>-0.42732077 </td><td> 0.69535995 </td><td>-0.37695457 </td><td> 0.24992873 </td><td>-0.381626231</td><td>-0.46853593 </td><td>-0.5077867  </td><td> 0.33346082 </td><td>-0.7376627  </td><td> 1.0000000  </td></tr>\n",
       "</tbody>\n",
       "</table>\n"
      ],
      "text/latex": [
       "\\begin{tabular}{r|llllllllllllll}\n",
       "  & crim & zn & indus & chas & nox & rm & age & dis & rad & tax & ptratio & black & lstat & medv\\\\\n",
       "\\hline\n",
       "\tcrim &  1.00000000  & -0.20046922  &  0.40658341  & -0.055891582 &  0.42097171  & -0.21924670  &  0.35273425  & -0.37967009  &  0.625505145 &  0.58276431  &  0.2899456   & -0.38506394  &  0.4556215   & -0.3883046  \\\\\n",
       "\tzn & -0.20046922  &  1.00000000  & -0.53382819  & -0.042696719 & -0.51660371  &  0.31199059  & -0.56953734  &  0.66440822  & -0.311947826 & -0.31456332  & -0.3916785   &  0.17552032  & -0.4129946   &  0.3604453  \\\\\n",
       "\tindus &  0.40658341  & -0.53382819  &  1.00000000  &  0.062938027 &  0.76365145  & -0.39167585  &  0.64477851  & -0.70802699  &  0.595129275 &  0.72076018  &  0.3832476   & -0.35697654  &  0.6037997   & -0.4837252  \\\\\n",
       "\tchas & -0.05589158  & -0.04269672  &  0.06293803  &  1.000000000 &  0.09120281  &  0.09125123  &  0.08651777  & -0.09917578  & -0.007368241 & -0.03558652  & -0.1215152   &  0.04878848  & -0.0539293   &  0.1752602  \\\\\n",
       "\tnox &  0.42097171  & -0.51660371  &  0.76365145  &  0.091202807 &  1.00000000  & -0.30218819  &  0.73147010  & -0.76923011  &  0.611440563 &  0.66802320  &  0.1889327   & -0.38005064  &  0.5908789   & -0.4273208  \\\\\n",
       "\trm & -0.21924670  &  0.31199059  & -0.39167585  &  0.091251225 & -0.30218819  &  1.00000000  & -0.24026493  &  0.20524621  & -0.209846668 & -0.29204783  & -0.3555015   &  0.12806864  & -0.6138083   &  0.6953599  \\\\\n",
       "\tage &  0.35273425  & -0.56953734  &  0.64477851  &  0.086517774 &  0.73147010  & -0.24026493  &  1.00000000  & -0.74788054  &  0.456022452 &  0.50645559  &  0.2615150   & -0.27353398  &  0.6023385   & -0.3769546  \\\\\n",
       "\tdis & -0.37967009  &  0.66440822  & -0.70802699  & -0.099175780 & -0.76923011  &  0.20524621  & -0.74788054  &  1.00000000  & -0.494587930 & -0.53443158  & -0.2324705   &  0.29151167  & -0.4969958   &  0.2499287  \\\\\n",
       "\trad &  0.62550515  & -0.31194783  &  0.59512927  & -0.007368241 &  0.61144056  & -0.20984667  &  0.45602245  & -0.49458793  &  1.000000000 &  0.91022819  &  0.4647412   & -0.44441282  &  0.4886763   & -0.3816262  \\\\\n",
       "\ttax &  0.58276431  & -0.31456332  &  0.72076018  & -0.035586518 &  0.66802320  & -0.29204783  &  0.50645559  & -0.53443158  &  0.910228189 &  1.00000000  &  0.4608530   & -0.44180801  &  0.5439934   & -0.4685359  \\\\\n",
       "\tptratio &  0.28994558  & -0.39167855  &  0.38324756  & -0.121515174 &  0.18893268  & -0.35550149  &  0.26151501  & -0.23247054  &  0.464741179 &  0.46085304  &  1.0000000   & -0.17738330  &  0.3740443   & -0.5077867  \\\\\n",
       "\tblack & -0.38506394  &  0.17552032  & -0.35697654  &  0.048788485 & -0.38005064  &  0.12806864  & -0.27353398  &  0.29151167  & -0.444412816 & -0.44180801  & -0.1773833   &  1.00000000  & -0.3660869   &  0.3334608  \\\\\n",
       "\tlstat &  0.45562148  & -0.41299457  &  0.60379972  & -0.053929298 &  0.59087892  & -0.61380827  &  0.60233853  & -0.49699583  &  0.488676335 &  0.54399341  &  0.3740443   & -0.36608690  &  1.0000000   & -0.7376627  \\\\\n",
       "\tmedv & -0.38830461  &  0.36044534  & -0.48372516  &  0.175260177 & -0.42732077  &  0.69535995  & -0.37695457  &  0.24992873  & -0.381626231 & -0.46853593  & -0.5077867   &  0.33346082  & -0.7376627   &  1.0000000  \\\\\n",
       "\\end{tabular}\n"
      ],
      "text/markdown": [
       "\n",
       "| <!--/--> | crim | zn | indus | chas | nox | rm | age | dis | rad | tax | ptratio | black | lstat | medv |\n",
       "|---|---|---|---|---|---|---|---|---|---|---|---|---|---|---|\n",
       "| crim |  1.00000000  | -0.20046922  |  0.40658341  | -0.055891582 |  0.42097171  | -0.21924670  |  0.35273425  | -0.37967009  |  0.625505145 |  0.58276431  |  0.2899456   | -0.38506394  |  0.4556215   | -0.3883046   |\n",
       "| zn | -0.20046922  |  1.00000000  | -0.53382819  | -0.042696719 | -0.51660371  |  0.31199059  | -0.56953734  |  0.66440822  | -0.311947826 | -0.31456332  | -0.3916785   |  0.17552032  | -0.4129946   |  0.3604453   |\n",
       "| indus |  0.40658341  | -0.53382819  |  1.00000000  |  0.062938027 |  0.76365145  | -0.39167585  |  0.64477851  | -0.70802699  |  0.595129275 |  0.72076018  |  0.3832476   | -0.35697654  |  0.6037997   | -0.4837252   |\n",
       "| chas | -0.05589158  | -0.04269672  |  0.06293803  |  1.000000000 |  0.09120281  |  0.09125123  |  0.08651777  | -0.09917578  | -0.007368241 | -0.03558652  | -0.1215152   |  0.04878848  | -0.0539293   |  0.1752602   |\n",
       "| nox |  0.42097171  | -0.51660371  |  0.76365145  |  0.091202807 |  1.00000000  | -0.30218819  |  0.73147010  | -0.76923011  |  0.611440563 |  0.66802320  |  0.1889327   | -0.38005064  |  0.5908789   | -0.4273208   |\n",
       "| rm | -0.21924670  |  0.31199059  | -0.39167585  |  0.091251225 | -0.30218819  |  1.00000000  | -0.24026493  |  0.20524621  | -0.209846668 | -0.29204783  | -0.3555015   |  0.12806864  | -0.6138083   |  0.6953599   |\n",
       "| age |  0.35273425  | -0.56953734  |  0.64477851  |  0.086517774 |  0.73147010  | -0.24026493  |  1.00000000  | -0.74788054  |  0.456022452 |  0.50645559  |  0.2615150   | -0.27353398  |  0.6023385   | -0.3769546   |\n",
       "| dis | -0.37967009  |  0.66440822  | -0.70802699  | -0.099175780 | -0.76923011  |  0.20524621  | -0.74788054  |  1.00000000  | -0.494587930 | -0.53443158  | -0.2324705   |  0.29151167  | -0.4969958   |  0.2499287   |\n",
       "| rad |  0.62550515  | -0.31194783  |  0.59512927  | -0.007368241 |  0.61144056  | -0.20984667  |  0.45602245  | -0.49458793  |  1.000000000 |  0.91022819  |  0.4647412   | -0.44441282  |  0.4886763   | -0.3816262   |\n",
       "| tax |  0.58276431  | -0.31456332  |  0.72076018  | -0.035586518 |  0.66802320  | -0.29204783  |  0.50645559  | -0.53443158  |  0.910228189 |  1.00000000  |  0.4608530   | -0.44180801  |  0.5439934   | -0.4685359   |\n",
       "| ptratio |  0.28994558  | -0.39167855  |  0.38324756  | -0.121515174 |  0.18893268  | -0.35550149  |  0.26151501  | -0.23247054  |  0.464741179 |  0.46085304  |  1.0000000   | -0.17738330  |  0.3740443   | -0.5077867   |\n",
       "| black | -0.38506394  |  0.17552032  | -0.35697654  |  0.048788485 | -0.38005064  |  0.12806864  | -0.27353398  |  0.29151167  | -0.444412816 | -0.44180801  | -0.1773833   |  1.00000000  | -0.3660869   |  0.3334608   |\n",
       "| lstat |  0.45562148  | -0.41299457  |  0.60379972  | -0.053929298 |  0.59087892  | -0.61380827  |  0.60233853  | -0.49699583  |  0.488676335 |  0.54399341  |  0.3740443   | -0.36608690  |  1.0000000   | -0.7376627   |\n",
       "| medv | -0.38830461  |  0.36044534  | -0.48372516  |  0.175260177 | -0.42732077  |  0.69535995  | -0.37695457  |  0.24992873  | -0.381626231 | -0.46853593  | -0.5077867   |  0.33346082  | -0.7376627   |  1.0000000   |\n",
       "\n"
      ],
      "text/plain": [
       "        crim        zn          indus       chas         nox        \n",
       "crim     1.00000000 -0.20046922  0.40658341 -0.055891582  0.42097171\n",
       "zn      -0.20046922  1.00000000 -0.53382819 -0.042696719 -0.51660371\n",
       "indus    0.40658341 -0.53382819  1.00000000  0.062938027  0.76365145\n",
       "chas    -0.05589158 -0.04269672  0.06293803  1.000000000  0.09120281\n",
       "nox      0.42097171 -0.51660371  0.76365145  0.091202807  1.00000000\n",
       "rm      -0.21924670  0.31199059 -0.39167585  0.091251225 -0.30218819\n",
       "age      0.35273425 -0.56953734  0.64477851  0.086517774  0.73147010\n",
       "dis     -0.37967009  0.66440822 -0.70802699 -0.099175780 -0.76923011\n",
       "rad      0.62550515 -0.31194783  0.59512927 -0.007368241  0.61144056\n",
       "tax      0.58276431 -0.31456332  0.72076018 -0.035586518  0.66802320\n",
       "ptratio  0.28994558 -0.39167855  0.38324756 -0.121515174  0.18893268\n",
       "black   -0.38506394  0.17552032 -0.35697654  0.048788485 -0.38005064\n",
       "lstat    0.45562148 -0.41299457  0.60379972 -0.053929298  0.59087892\n",
       "medv    -0.38830461  0.36044534 -0.48372516  0.175260177 -0.42732077\n",
       "        rm          age         dis         rad          tax         ptratio   \n",
       "crim    -0.21924670  0.35273425 -0.37967009  0.625505145  0.58276431  0.2899456\n",
       "zn       0.31199059 -0.56953734  0.66440822 -0.311947826 -0.31456332 -0.3916785\n",
       "indus   -0.39167585  0.64477851 -0.70802699  0.595129275  0.72076018  0.3832476\n",
       "chas     0.09125123  0.08651777 -0.09917578 -0.007368241 -0.03558652 -0.1215152\n",
       "nox     -0.30218819  0.73147010 -0.76923011  0.611440563  0.66802320  0.1889327\n",
       "rm       1.00000000 -0.24026493  0.20524621 -0.209846668 -0.29204783 -0.3555015\n",
       "age     -0.24026493  1.00000000 -0.74788054  0.456022452  0.50645559  0.2615150\n",
       "dis      0.20524621 -0.74788054  1.00000000 -0.494587930 -0.53443158 -0.2324705\n",
       "rad     -0.20984667  0.45602245 -0.49458793  1.000000000  0.91022819  0.4647412\n",
       "tax     -0.29204783  0.50645559 -0.53443158  0.910228189  1.00000000  0.4608530\n",
       "ptratio -0.35550149  0.26151501 -0.23247054  0.464741179  0.46085304  1.0000000\n",
       "black    0.12806864 -0.27353398  0.29151167 -0.444412816 -0.44180801 -0.1773833\n",
       "lstat   -0.61380827  0.60233853 -0.49699583  0.488676335  0.54399341  0.3740443\n",
       "medv     0.69535995 -0.37695457  0.24992873 -0.381626231 -0.46853593 -0.5077867\n",
       "        black       lstat      medv      \n",
       "crim    -0.38506394  0.4556215 -0.3883046\n",
       "zn       0.17552032 -0.4129946  0.3604453\n",
       "indus   -0.35697654  0.6037997 -0.4837252\n",
       "chas     0.04878848 -0.0539293  0.1752602\n",
       "nox     -0.38005064  0.5908789 -0.4273208\n",
       "rm       0.12806864 -0.6138083  0.6953599\n",
       "age     -0.27353398  0.6023385 -0.3769546\n",
       "dis      0.29151167 -0.4969958  0.2499287\n",
       "rad     -0.44441282  0.4886763 -0.3816262\n",
       "tax     -0.44180801  0.5439934 -0.4685359\n",
       "ptratio -0.17738330  0.3740443 -0.5077867\n",
       "black    1.00000000 -0.3660869  0.3334608\n",
       "lstat   -0.36608690  1.0000000 -0.7376627\n",
       "medv     0.33346082 -0.7376627  1.0000000"
      ]
     },
     "metadata": {},
     "output_type": "display_data"
    }
   ],
   "source": [
    "# Example\n",
    "cor(Boston)"
   ]
  },
  {
   "cell_type": "code",
   "execution_count": null,
   "id": "1d7fecd1",
   "metadata": {},
   "outputs": [],
   "source": [
    "# But we only want to see a subset of the variables\n",
    "\n",
    "cor(Boston[,c(1,7,13,14)]) # You can use column numbers"
   ]
  },
  {
   "cell_type": "code",
   "execution_count": 23,
   "id": "5fc65783",
   "metadata": {},
   "outputs": [
    {
     "data": {
      "text/html": [
       "<table>\n",
       "<thead><tr><th></th><th scope=col>crim</th><th scope=col>age</th><th scope=col>lstat</th><th scope=col>medv</th></tr></thead>\n",
       "<tbody>\n",
       "\t<tr><th scope=row>crim</th><td> 1.0000000</td><td> 0.3527343</td><td> 0.4556215</td><td>-0.3883046</td></tr>\n",
       "\t<tr><th scope=row>age</th><td> 0.3527343</td><td> 1.0000000</td><td> 0.6023385</td><td>-0.3769546</td></tr>\n",
       "\t<tr><th scope=row>lstat</th><td> 0.4556215</td><td> 0.6023385</td><td> 1.0000000</td><td>-0.7376627</td></tr>\n",
       "\t<tr><th scope=row>medv</th><td>-0.3883046</td><td>-0.3769546</td><td>-0.7376627</td><td> 1.0000000</td></tr>\n",
       "</tbody>\n",
       "</table>\n"
      ],
      "text/latex": [
       "\\begin{tabular}{r|llll}\n",
       "  & crim & age & lstat & medv\\\\\n",
       "\\hline\n",
       "\tcrim &  1.0000000 &  0.3527343 &  0.4556215 & -0.3883046\\\\\n",
       "\tage &  0.3527343 &  1.0000000 &  0.6023385 & -0.3769546\\\\\n",
       "\tlstat &  0.4556215 &  0.6023385 &  1.0000000 & -0.7376627\\\\\n",
       "\tmedv & -0.3883046 & -0.3769546 & -0.7376627 &  1.0000000\\\\\n",
       "\\end{tabular}\n"
      ],
      "text/markdown": [
       "\n",
       "| <!--/--> | crim | age | lstat | medv |\n",
       "|---|---|---|---|---|\n",
       "| crim |  1.0000000 |  0.3527343 |  0.4556215 | -0.3883046 |\n",
       "| age |  0.3527343 |  1.0000000 |  0.6023385 | -0.3769546 |\n",
       "| lstat |  0.4556215 |  0.6023385 |  1.0000000 | -0.7376627 |\n",
       "| medv | -0.3883046 | -0.3769546 | -0.7376627 |  1.0000000 |\n",
       "\n"
      ],
      "text/plain": [
       "      crim       age        lstat      medv      \n",
       "crim   1.0000000  0.3527343  0.4556215 -0.3883046\n",
       "age    0.3527343  1.0000000  0.6023385 -0.3769546\n",
       "lstat  0.4556215  0.6023385  1.0000000 -0.7376627\n",
       "medv  -0.3883046 -0.3769546 -0.7376627  1.0000000"
      ]
     },
     "metadata": {},
     "output_type": "display_data"
    }
   ],
   "source": [
    "cor(Boston[,c(\"crim\",\"age\",\"lstat\",\"medv\")]) # Or you can use the column names in double quotes"
   ]
  },
  {
   "cell_type": "markdown",
   "id": "0abc3523",
   "metadata": {},
   "source": [
    "## 1 d)\n",
    "\n",
    "As has been discussed in lecture, it is not meaningful to use  R-sq ($R^2$) when comparing regression models with a different number of regressors. Instead, the adjusted R-sq ($\\bar{R}^2$) should be used.  \n",
    "\n",
    "Use the model object to compute the correction factor, $ CF =  {(n-1)\\over(n-k-1)}$ where n is the number of observations and k is the number of regressors, excluding the intercept. \n",
    "Save it to CF. \n",
    "\n",
    "Use summary() to obtain $R^2$ and ($\\bar{R}^2$)\n",
    "for reg2. \n",
    "\n",
    "Create a boolean variable called validate that checks whether \n",
    "$\\bar{R}^2 =1-(1-R^2 ) \\times CF$."
   ]
  },
  {
   "cell_type": "code",
   "execution_count": 33,
   "id": "57d119a0",
   "metadata": {},
   "outputs": [
    {
     "data": {
      "text/html": [
       "<table>\n",
       "<thead><tr><th scope=col>medv</th><th scope=col>lstat</th><th scope=col>crim</th><th scope=col>age</th></tr></thead>\n",
       "<tbody>\n",
       "\t<tr><td>24.0   </td><td> 4.98  </td><td>0.00632</td><td> 65.2  </td></tr>\n",
       "\t<tr><td>21.6   </td><td> 9.14  </td><td>0.02731</td><td> 78.9  </td></tr>\n",
       "\t<tr><td>34.7   </td><td> 4.03  </td><td>0.02729</td><td> 61.1  </td></tr>\n",
       "\t<tr><td>33.4   </td><td> 2.94  </td><td>0.03237</td><td> 45.8  </td></tr>\n",
       "\t<tr><td>36.2   </td><td> 5.33  </td><td>0.06905</td><td> 54.2  </td></tr>\n",
       "\t<tr><td>28.7   </td><td> 5.21  </td><td>0.02985</td><td> 58.7  </td></tr>\n",
       "\t<tr><td>22.9   </td><td>12.43  </td><td>0.08829</td><td> 66.6  </td></tr>\n",
       "\t<tr><td>27.1   </td><td>19.15  </td><td>0.14455</td><td> 96.1  </td></tr>\n",
       "\t<tr><td>16.5   </td><td>29.93  </td><td>0.21124</td><td>100.0  </td></tr>\n",
       "\t<tr><td>18.9   </td><td>17.10  </td><td>0.17004</td><td> 85.9  </td></tr>\n",
       "\t<tr><td>15.0   </td><td>20.45  </td><td>0.22489</td><td> 94.3  </td></tr>\n",
       "\t<tr><td>18.9   </td><td>13.27  </td><td>0.11747</td><td> 82.9  </td></tr>\n",
       "\t<tr><td>21.7   </td><td>15.71  </td><td>0.09378</td><td> 39.0  </td></tr>\n",
       "\t<tr><td>20.4   </td><td> 8.26  </td><td>0.62976</td><td> 61.8  </td></tr>\n",
       "\t<tr><td>18.2   </td><td>10.26  </td><td>0.63796</td><td> 84.5  </td></tr>\n",
       "\t<tr><td>19.9   </td><td> 8.47  </td><td>0.62739</td><td> 56.5  </td></tr>\n",
       "\t<tr><td>23.1   </td><td> 6.58  </td><td>1.05393</td><td> 29.3  </td></tr>\n",
       "\t<tr><td>17.5   </td><td>14.67  </td><td>0.78420</td><td> 81.7  </td></tr>\n",
       "\t<tr><td>20.2   </td><td>11.69  </td><td>0.80271</td><td> 36.6  </td></tr>\n",
       "\t<tr><td>18.2   </td><td>11.28  </td><td>0.72580</td><td> 69.5  </td></tr>\n",
       "\t<tr><td>13.6   </td><td>21.02  </td><td>1.25179</td><td> 98.1  </td></tr>\n",
       "\t<tr><td>19.6   </td><td>13.83  </td><td>0.85204</td><td> 89.2  </td></tr>\n",
       "\t<tr><td>15.2   </td><td>18.72  </td><td>1.23247</td><td> 91.7  </td></tr>\n",
       "\t<tr><td>14.5   </td><td>19.88  </td><td>0.98843</td><td>100.0  </td></tr>\n",
       "\t<tr><td>15.6   </td><td>16.30  </td><td>0.75026</td><td> 94.1  </td></tr>\n",
       "\t<tr><td>13.9   </td><td>16.51  </td><td>0.84054</td><td> 85.7  </td></tr>\n",
       "\t<tr><td>16.6   </td><td>14.81  </td><td>0.67191</td><td> 90.3  </td></tr>\n",
       "\t<tr><td>14.8   </td><td>17.28  </td><td>0.95577</td><td> 88.8  </td></tr>\n",
       "\t<tr><td>18.4   </td><td>12.80  </td><td>0.77299</td><td> 94.4  </td></tr>\n",
       "\t<tr><td>21.0   </td><td>11.98  </td><td>1.00245</td><td> 87.3  </td></tr>\n",
       "\t<tr><td>...</td><td>...</td><td>...</td><td>...</td></tr>\n",
       "\t<tr><td>16.7    </td><td>18.68   </td><td> 4.87141</td><td>93.6    </td></tr>\n",
       "\t<tr><td>12.0    </td><td>24.91   </td><td>15.02340</td><td>97.3    </td></tr>\n",
       "\t<tr><td>14.6    </td><td>18.03   </td><td>10.23300</td><td>96.7    </td></tr>\n",
       "\t<tr><td>21.4    </td><td>13.11   </td><td>14.33370</td><td>88.0    </td></tr>\n",
       "\t<tr><td>23.0    </td><td>10.74   </td><td> 5.82401</td><td>64.7    </td></tr>\n",
       "\t<tr><td>23.7    </td><td> 7.74   </td><td> 5.70818</td><td>74.9    </td></tr>\n",
       "\t<tr><td>25.0    </td><td> 7.01   </td><td> 5.73116</td><td>77.0    </td></tr>\n",
       "\t<tr><td>21.8    </td><td>10.42   </td><td> 2.81838</td><td>40.3    </td></tr>\n",
       "\t<tr><td>20.6    </td><td>13.34   </td><td> 2.37857</td><td>41.9    </td></tr>\n",
       "\t<tr><td>21.2    </td><td>10.58   </td><td> 3.67367</td><td>51.9    </td></tr>\n",
       "\t<tr><td>19.1    </td><td>14.98   </td><td> 5.69175</td><td>79.8    </td></tr>\n",
       "\t<tr><td>20.6    </td><td>11.45   </td><td> 4.83567</td><td>53.2    </td></tr>\n",
       "\t<tr><td>15.2    </td><td>18.06   </td><td> 0.15086</td><td>92.7    </td></tr>\n",
       "\t<tr><td> 7.0    </td><td>23.97   </td><td> 0.18337</td><td>98.3    </td></tr>\n",
       "\t<tr><td> 8.1    </td><td>29.68   </td><td> 0.20746</td><td>98.0    </td></tr>\n",
       "\t<tr><td>13.6    </td><td>18.07   </td><td> 0.10574</td><td>98.8    </td></tr>\n",
       "\t<tr><td>20.1    </td><td>13.35   </td><td> 0.11132</td><td>83.5    </td></tr>\n",
       "\t<tr><td>21.8    </td><td>12.01   </td><td> 0.17331</td><td>54.0    </td></tr>\n",
       "\t<tr><td>24.5    </td><td>13.59   </td><td> 0.27957</td><td>42.6    </td></tr>\n",
       "\t<tr><td>23.1    </td><td>17.60   </td><td> 0.17899</td><td>28.8    </td></tr>\n",
       "\t<tr><td>19.7    </td><td>21.14   </td><td> 0.28960</td><td>72.9    </td></tr>\n",
       "\t<tr><td>18.3    </td><td>14.10   </td><td> 0.26838</td><td>70.6    </td></tr>\n",
       "\t<tr><td>21.2    </td><td>12.92   </td><td> 0.23912</td><td>65.3    </td></tr>\n",
       "\t<tr><td>17.5    </td><td>15.10   </td><td> 0.17783</td><td>73.5    </td></tr>\n",
       "\t<tr><td>16.8    </td><td>14.33   </td><td> 0.22438</td><td>79.7    </td></tr>\n",
       "\t<tr><td>22.4    </td><td> 9.67   </td><td> 0.06263</td><td>69.1    </td></tr>\n",
       "\t<tr><td>20.6    </td><td> 9.08   </td><td> 0.04527</td><td>76.7    </td></tr>\n",
       "\t<tr><td>23.9    </td><td> 5.64   </td><td> 0.06076</td><td>91.0    </td></tr>\n",
       "\t<tr><td>22.0    </td><td> 6.48   </td><td> 0.10959</td><td>89.3    </td></tr>\n",
       "\t<tr><td>11.9    </td><td> 7.88   </td><td> 0.04741</td><td>80.8    </td></tr>\n",
       "</tbody>\n",
       "</table>\n"
      ],
      "text/latex": [
       "\\begin{tabular}{r|llll}\n",
       " medv & lstat & crim & age\\\\\n",
       "\\hline\n",
       "\t 24.0    &  4.98   & 0.00632 &  65.2  \\\\\n",
       "\t 21.6    &  9.14   & 0.02731 &  78.9  \\\\\n",
       "\t 34.7    &  4.03   & 0.02729 &  61.1  \\\\\n",
       "\t 33.4    &  2.94   & 0.03237 &  45.8  \\\\\n",
       "\t 36.2    &  5.33   & 0.06905 &  54.2  \\\\\n",
       "\t 28.7    &  5.21   & 0.02985 &  58.7  \\\\\n",
       "\t 22.9    & 12.43   & 0.08829 &  66.6  \\\\\n",
       "\t 27.1    & 19.15   & 0.14455 &  96.1  \\\\\n",
       "\t 16.5    & 29.93   & 0.21124 & 100.0  \\\\\n",
       "\t 18.9    & 17.10   & 0.17004 &  85.9  \\\\\n",
       "\t 15.0    & 20.45   & 0.22489 &  94.3  \\\\\n",
       "\t 18.9    & 13.27   & 0.11747 &  82.9  \\\\\n",
       "\t 21.7    & 15.71   & 0.09378 &  39.0  \\\\\n",
       "\t 20.4    &  8.26   & 0.62976 &  61.8  \\\\\n",
       "\t 18.2    & 10.26   & 0.63796 &  84.5  \\\\\n",
       "\t 19.9    &  8.47   & 0.62739 &  56.5  \\\\\n",
       "\t 23.1    &  6.58   & 1.05393 &  29.3  \\\\\n",
       "\t 17.5    & 14.67   & 0.78420 &  81.7  \\\\\n",
       "\t 20.2    & 11.69   & 0.80271 &  36.6  \\\\\n",
       "\t 18.2    & 11.28   & 0.72580 &  69.5  \\\\\n",
       "\t 13.6    & 21.02   & 1.25179 &  98.1  \\\\\n",
       "\t 19.6    & 13.83   & 0.85204 &  89.2  \\\\\n",
       "\t 15.2    & 18.72   & 1.23247 &  91.7  \\\\\n",
       "\t 14.5    & 19.88   & 0.98843 & 100.0  \\\\\n",
       "\t 15.6    & 16.30   & 0.75026 &  94.1  \\\\\n",
       "\t 13.9    & 16.51   & 0.84054 &  85.7  \\\\\n",
       "\t 16.6    & 14.81   & 0.67191 &  90.3  \\\\\n",
       "\t 14.8    & 17.28   & 0.95577 &  88.8  \\\\\n",
       "\t 18.4    & 12.80   & 0.77299 &  94.4  \\\\\n",
       "\t 21.0    & 11.98   & 1.00245 &  87.3  \\\\\n",
       "\t ... & ... & ... & ...\\\\\n",
       "\t 16.7     & 18.68    &  4.87141 & 93.6    \\\\\n",
       "\t 12.0     & 24.91    & 15.02340 & 97.3    \\\\\n",
       "\t 14.6     & 18.03    & 10.23300 & 96.7    \\\\\n",
       "\t 21.4     & 13.11    & 14.33370 & 88.0    \\\\\n",
       "\t 23.0     & 10.74    &  5.82401 & 64.7    \\\\\n",
       "\t 23.7     &  7.74    &  5.70818 & 74.9    \\\\\n",
       "\t 25.0     &  7.01    &  5.73116 & 77.0    \\\\\n",
       "\t 21.8     & 10.42    &  2.81838 & 40.3    \\\\\n",
       "\t 20.6     & 13.34    &  2.37857 & 41.9    \\\\\n",
       "\t 21.2     & 10.58    &  3.67367 & 51.9    \\\\\n",
       "\t 19.1     & 14.98    &  5.69175 & 79.8    \\\\\n",
       "\t 20.6     & 11.45    &  4.83567 & 53.2    \\\\\n",
       "\t 15.2     & 18.06    &  0.15086 & 92.7    \\\\\n",
       "\t  7.0     & 23.97    &  0.18337 & 98.3    \\\\\n",
       "\t  8.1     & 29.68    &  0.20746 & 98.0    \\\\\n",
       "\t 13.6     & 18.07    &  0.10574 & 98.8    \\\\\n",
       "\t 20.1     & 13.35    &  0.11132 & 83.5    \\\\\n",
       "\t 21.8     & 12.01    &  0.17331 & 54.0    \\\\\n",
       "\t 24.5     & 13.59    &  0.27957 & 42.6    \\\\\n",
       "\t 23.1     & 17.60    &  0.17899 & 28.8    \\\\\n",
       "\t 19.7     & 21.14    &  0.28960 & 72.9    \\\\\n",
       "\t 18.3     & 14.10    &  0.26838 & 70.6    \\\\\n",
       "\t 21.2     & 12.92    &  0.23912 & 65.3    \\\\\n",
       "\t 17.5     & 15.10    &  0.17783 & 73.5    \\\\\n",
       "\t 16.8     & 14.33    &  0.22438 & 79.7    \\\\\n",
       "\t 22.4     &  9.67    &  0.06263 & 69.1    \\\\\n",
       "\t 20.6     &  9.08    &  0.04527 & 76.7    \\\\\n",
       "\t 23.9     &  5.64    &  0.06076 & 91.0    \\\\\n",
       "\t 22.0     &  6.48    &  0.10959 & 89.3    \\\\\n",
       "\t 11.9     &  7.88    &  0.04741 & 80.8    \\\\\n",
       "\\end{tabular}\n"
      ],
      "text/markdown": [
       "\n",
       "| medv | lstat | crim | age |\n",
       "|---|---|---|---|\n",
       "| 24.0    |  4.98   | 0.00632 |  65.2   |\n",
       "| 21.6    |  9.14   | 0.02731 |  78.9   |\n",
       "| 34.7    |  4.03   | 0.02729 |  61.1   |\n",
       "| 33.4    |  2.94   | 0.03237 |  45.8   |\n",
       "| 36.2    |  5.33   | 0.06905 |  54.2   |\n",
       "| 28.7    |  5.21   | 0.02985 |  58.7   |\n",
       "| 22.9    | 12.43   | 0.08829 |  66.6   |\n",
       "| 27.1    | 19.15   | 0.14455 |  96.1   |\n",
       "| 16.5    | 29.93   | 0.21124 | 100.0   |\n",
       "| 18.9    | 17.10   | 0.17004 |  85.9   |\n",
       "| 15.0    | 20.45   | 0.22489 |  94.3   |\n",
       "| 18.9    | 13.27   | 0.11747 |  82.9   |\n",
       "| 21.7    | 15.71   | 0.09378 |  39.0   |\n",
       "| 20.4    |  8.26   | 0.62976 |  61.8   |\n",
       "| 18.2    | 10.26   | 0.63796 |  84.5   |\n",
       "| 19.9    |  8.47   | 0.62739 |  56.5   |\n",
       "| 23.1    |  6.58   | 1.05393 |  29.3   |\n",
       "| 17.5    | 14.67   | 0.78420 |  81.7   |\n",
       "| 20.2    | 11.69   | 0.80271 |  36.6   |\n",
       "| 18.2    | 11.28   | 0.72580 |  69.5   |\n",
       "| 13.6    | 21.02   | 1.25179 |  98.1   |\n",
       "| 19.6    | 13.83   | 0.85204 |  89.2   |\n",
       "| 15.2    | 18.72   | 1.23247 |  91.7   |\n",
       "| 14.5    | 19.88   | 0.98843 | 100.0   |\n",
       "| 15.6    | 16.30   | 0.75026 |  94.1   |\n",
       "| 13.9    | 16.51   | 0.84054 |  85.7   |\n",
       "| 16.6    | 14.81   | 0.67191 |  90.3   |\n",
       "| 14.8    | 17.28   | 0.95577 |  88.8   |\n",
       "| 18.4    | 12.80   | 0.77299 |  94.4   |\n",
       "| 21.0    | 11.98   | 1.00245 |  87.3   |\n",
       "| ... | ... | ... | ... |\n",
       "| 16.7     | 18.68    |  4.87141 | 93.6     |\n",
       "| 12.0     | 24.91    | 15.02340 | 97.3     |\n",
       "| 14.6     | 18.03    | 10.23300 | 96.7     |\n",
       "| 21.4     | 13.11    | 14.33370 | 88.0     |\n",
       "| 23.0     | 10.74    |  5.82401 | 64.7     |\n",
       "| 23.7     |  7.74    |  5.70818 | 74.9     |\n",
       "| 25.0     |  7.01    |  5.73116 | 77.0     |\n",
       "| 21.8     | 10.42    |  2.81838 | 40.3     |\n",
       "| 20.6     | 13.34    |  2.37857 | 41.9     |\n",
       "| 21.2     | 10.58    |  3.67367 | 51.9     |\n",
       "| 19.1     | 14.98    |  5.69175 | 79.8     |\n",
       "| 20.6     | 11.45    |  4.83567 | 53.2     |\n",
       "| 15.2     | 18.06    |  0.15086 | 92.7     |\n",
       "|  7.0     | 23.97    |  0.18337 | 98.3     |\n",
       "|  8.1     | 29.68    |  0.20746 | 98.0     |\n",
       "| 13.6     | 18.07    |  0.10574 | 98.8     |\n",
       "| 20.1     | 13.35    |  0.11132 | 83.5     |\n",
       "| 21.8     | 12.01    |  0.17331 | 54.0     |\n",
       "| 24.5     | 13.59    |  0.27957 | 42.6     |\n",
       "| 23.1     | 17.60    |  0.17899 | 28.8     |\n",
       "| 19.7     | 21.14    |  0.28960 | 72.9     |\n",
       "| 18.3     | 14.10    |  0.26838 | 70.6     |\n",
       "| 21.2     | 12.92    |  0.23912 | 65.3     |\n",
       "| 17.5     | 15.10    |  0.17783 | 73.5     |\n",
       "| 16.8     | 14.33    |  0.22438 | 79.7     |\n",
       "| 22.4     |  9.67    |  0.06263 | 69.1     |\n",
       "| 20.6     |  9.08    |  0.04527 | 76.7     |\n",
       "| 23.9     |  5.64    |  0.06076 | 91.0     |\n",
       "| 22.0     |  6.48    |  0.10959 | 89.3     |\n",
       "| 11.9     |  7.88    |  0.04741 | 80.8     |\n",
       "\n"
      ],
      "text/plain": [
       "    medv lstat crim     age  \n",
       "1   24.0  4.98 0.00632   65.2\n",
       "2   21.6  9.14 0.02731   78.9\n",
       "3   34.7  4.03 0.02729   61.1\n",
       "4   33.4  2.94 0.03237   45.8\n",
       "5   36.2  5.33 0.06905   54.2\n",
       "6   28.7  5.21 0.02985   58.7\n",
       "7   22.9 12.43 0.08829   66.6\n",
       "8   27.1 19.15 0.14455   96.1\n",
       "9   16.5 29.93 0.21124  100.0\n",
       "10  18.9 17.10 0.17004   85.9\n",
       "11  15.0 20.45 0.22489   94.3\n",
       "12  18.9 13.27 0.11747   82.9\n",
       "13  21.7 15.71 0.09378   39.0\n",
       "14  20.4  8.26 0.62976   61.8\n",
       "15  18.2 10.26 0.63796   84.5\n",
       "16  19.9  8.47 0.62739   56.5\n",
       "17  23.1  6.58 1.05393   29.3\n",
       "18  17.5 14.67 0.78420   81.7\n",
       "19  20.2 11.69 0.80271   36.6\n",
       "20  18.2 11.28 0.72580   69.5\n",
       "21  13.6 21.02 1.25179   98.1\n",
       "22  19.6 13.83 0.85204   89.2\n",
       "23  15.2 18.72 1.23247   91.7\n",
       "24  14.5 19.88 0.98843  100.0\n",
       "25  15.6 16.30 0.75026   94.1\n",
       "26  13.9 16.51 0.84054   85.7\n",
       "27  16.6 14.81 0.67191   90.3\n",
       "28  14.8 17.28 0.95577   88.8\n",
       "29  18.4 12.80 0.77299   94.4\n",
       "30  21.0 11.98 1.00245   87.3\n",
       "... ...  ...   ...      ...  \n",
       "477 16.7 18.68  4.87141 93.6 \n",
       "478 12.0 24.91 15.02340 97.3 \n",
       "479 14.6 18.03 10.23300 96.7 \n",
       "480 21.4 13.11 14.33370 88.0 \n",
       "481 23.0 10.74  5.82401 64.7 \n",
       "482 23.7  7.74  5.70818 74.9 \n",
       "483 25.0  7.01  5.73116 77.0 \n",
       "484 21.8 10.42  2.81838 40.3 \n",
       "485 20.6 13.34  2.37857 41.9 \n",
       "486 21.2 10.58  3.67367 51.9 \n",
       "487 19.1 14.98  5.69175 79.8 \n",
       "488 20.6 11.45  4.83567 53.2 \n",
       "489 15.2 18.06  0.15086 92.7 \n",
       "490  7.0 23.97  0.18337 98.3 \n",
       "491  8.1 29.68  0.20746 98.0 \n",
       "492 13.6 18.07  0.10574 98.8 \n",
       "493 20.1 13.35  0.11132 83.5 \n",
       "494 21.8 12.01  0.17331 54.0 \n",
       "495 24.5 13.59  0.27957 42.6 \n",
       "496 23.1 17.60  0.17899 28.8 \n",
       "497 19.7 21.14  0.28960 72.9 \n",
       "498 18.3 14.10  0.26838 70.6 \n",
       "499 21.2 12.92  0.23912 65.3 \n",
       "500 17.5 15.10  0.17783 73.5 \n",
       "501 16.8 14.33  0.22438 79.7 \n",
       "502 22.4  9.67  0.06263 69.1 \n",
       "503 20.6  9.08  0.04527 76.7 \n",
       "504 23.9  5.64  0.06076 91.0 \n",
       "505 22.0  6.48  0.10959 89.3 \n",
       "506 11.9  7.88  0.04741 80.8 "
      ]
     },
     "metadata": {},
     "output_type": "display_data"
    }
   ],
   "source": [
    "# Look at the reg2$model object, \n",
    "# notice that it contains the model data\n",
    "reg2$model"
   ]
  },
  {
   "cell_type": "code",
   "execution_count": 34,
   "id": "12e2e998",
   "metadata": {},
   "outputs": [
    {
     "data": {
      "text/html": [
       "506"
      ],
      "text/latex": [
       "506"
      ],
      "text/markdown": [
       "506"
      ],
      "text/plain": [
       "[1] 506"
      ]
     },
     "metadata": {},
     "output_type": "display_data"
    }
   ],
   "source": [
    "# Calculate n, k and CF\n",
    "n <- nrow(reg2$model)\n",
    "n"
   ]
  },
  {
   "cell_type": "code",
   "execution_count": 35,
   "id": "d1eea4b3",
   "metadata": {},
   "outputs": [
    {
     "data": {
      "text/html": [
       "3"
      ],
      "text/latex": [
       "3"
      ],
      "text/markdown": [
       "3"
      ],
      "text/plain": [
       "[1] 3"
      ]
     },
     "metadata": {},
     "output_type": "display_data"
    }
   ],
   "source": [
    "k <- ncol(reg2$model)-1\n",
    "k"
   ]
  },
  {
   "cell_type": "code",
   "execution_count": 36,
   "id": "ff139aca",
   "metadata": {},
   "outputs": [
    {
     "data": {
      "text/html": [
       "1.00597609561753"
      ],
      "text/latex": [
       "1.00597609561753"
      ],
      "text/markdown": [
       "1.00597609561753"
      ],
      "text/plain": [
       "[1] 1.005976"
      ]
     },
     "metadata": {},
     "output_type": "display_data"
    }
   ],
   "source": [
    "CF <- (n-1)/(n-k-1)\n",
    "CF"
   ]
  },
  {
   "cell_type": "code",
   "execution_count": null,
   "id": "41def5ac",
   "metadata": {},
   "outputs": [],
   "source": [
    "summary(reg2)"
   ]
  },
  {
   "cell_type": "code",
   "execution_count": 37,
   "id": "63d92c66",
   "metadata": {},
   "outputs": [],
   "source": [
    "r2 <- summary(reg2)$r.squared\n",
    "adjr2 <-summary(reg2)$adj.r.squared"
   ]
  },
  {
   "cell_type": "code",
   "execution_count": 38,
   "id": "7a7956bc",
   "metadata": {
    "scrolled": true
   },
   "outputs": [
    {
     "data": {
      "text/html": [
       "TRUE"
      ],
      "text/latex": [
       "TRUE"
      ],
      "text/markdown": [
       "TRUE"
      ],
      "text/plain": [
       "[1] TRUE"
      ]
     },
     "metadata": {},
     "output_type": "display_data"
    }
   ],
   "source": [
    "validate <- (adjr2 == 1 - (1-r2)*CF)\n",
    "\n",
    "# Print the value of validate\n",
    "validate"
   ]
  },
  {
   "cell_type": "markdown",
   "id": "3cfd43ff",
   "metadata": {},
   "source": [
    "## 1 e)\n",
    "\n",
    "Regress medv on all remaining variables that you find in the Boston data set. To do this you don't need to type all of the variable names, instead you can use a dot e.g. lm(y ~., data = mydata).\n",
    "\n",
    "Obtain a heteroskedasticity-robust summary of the coefficients. "
   ]
  },
  {
   "cell_type": "code",
   "execution_count": 24,
   "id": "aefe066e",
   "metadata": {},
   "outputs": [
    {
     "data": {
      "text/plain": [
       "\n",
       "t test of coefficients:\n",
       "\n",
       "               Estimate  Std. Error t value  Pr(>|t|)    \n",
       "(Intercept)  3.6459e+01  8.0010e+00  4.5569 6.558e-06 ***\n",
       "crim        -1.0801e-01  2.8944e-02 -3.7317 0.0002124 ***\n",
       "zn           4.6420e-02  1.3765e-02  3.3722 0.0008043 ***\n",
       "indus        2.0559e-02  5.0380e-02  0.4081 0.6834006    \n",
       "chas         2.6867e+00  1.2938e+00  2.0766 0.0383600 *  \n",
       "nox         -1.7767e+01  3.7858e+00 -4.6930 3.495e-06 ***\n",
       "rm           3.8099e+00  8.4490e-01  4.5093 8.142e-06 ***\n",
       "age          6.9222e-04  1.6464e-02  0.0420 0.9664807    \n",
       "dis         -1.4756e+00  2.1471e-01 -6.8724 1.918e-11 ***\n",
       "rad          3.0605e-01  6.1436e-02  4.9816 8.744e-07 ***\n",
       "tax         -1.2335e-02  2.6909e-03 -4.5838 5.798e-06 ***\n",
       "ptratio     -9.5275e-01  1.1744e-01 -8.1126 3.985e-15 ***\n",
       "black        9.3117e-03  2.6786e-03  3.4763 0.0005534 ***\n",
       "lstat       -5.2476e-01  9.9650e-02 -5.2660 2.087e-07 ***\n",
       "---\n",
       "Signif. codes:  0 '***' 0.001 '**' 0.01 '*' 0.05 '.' 0.1 ' ' 1\n"
      ]
     },
     "metadata": {},
     "output_type": "display_data"
    }
   ],
   "source": [
    "# Run a regression of medv on all remaining variables \n",
    "# in the Boston data set\n",
    "full_mod <- lm(medv ~., data = Boston)\n",
    "\n",
    "# obtain a robust summary of the coefficients\n",
    "coeftest(full_mod, vcov. = vcovHC, type = \"HC1\")"
   ]
  },
  {
   "cell_type": "code",
   "execution_count": 25,
   "id": "8573fa1b",
   "metadata": {
    "scrolled": true
   },
   "outputs": [
    {
     "name": "stdout",
     "output_type": "stream",
     "text": [
      "[1] \"full model adj R\"\n"
     ]
    },
    {
     "data": {
      "text/html": [
       "0.734"
      ],
      "text/latex": [
       "0.734"
      ],
      "text/markdown": [
       "0.734"
      ],
      "text/plain": [
       "[1] 0.734"
      ]
     },
     "metadata": {},
     "output_type": "display_data"
    },
    {
     "name": "stdout",
     "output_type": "stream",
     "text": [
      "[1] \"previous model adj R\"\n"
     ]
    },
    {
     "data": {
      "text/html": [
       "0.553"
      ],
      "text/latex": [
       "0.553"
      ],
      "text/markdown": [
       "0.553"
      ],
      "text/plain": [
       "[1] 0.553"
      ]
     },
     "metadata": {},
     "output_type": "display_data"
    }
   ],
   "source": [
    "sefull_mod <- vcovHC(full_mod, type = \"HC1\")\n",
    "\n",
    "# what is the R^2 of the model?\n",
    "print(\"full model adj R\")\n",
    "round(summary(full_mod)$adj.r.squared, 3)  ## highest adj R-sq.\n",
    "print(\"previous model adj R\")\n",
    "round(summary(reg2)$adj.r.squared, 3)  ## highest adj R-sq."
   ]
  },
  {
   "cell_type": "code",
   "execution_count": 28,
   "id": "9a8f72e5",
   "metadata": {},
   "outputs": [
    {
     "name": "stdout",
     "output_type": "stream",
     "text": [
      "\n",
      "======================================================================\n",
      "                                   Dependent variable:                \n",
      "                    --------------------------------------------------\n",
      "                                           medv                       \n",
      "                              (1)                       (2)           \n",
      "----------------------------------------------------------------------\n",
      "lstat                      -0.994***                  -0.525          \n",
      "                            (-0.013)                 (-0.469)         \n",
      "                                                                      \n",
      "crim                       -0.083***                 -0.108***        \n",
      "                            (0.004)                  (-0.042)         \n",
      "                                                                      \n",
      "zn                                                     0.046          \n",
      "                                                      (0.048)         \n",
      "                                                                      \n",
      "indus                                                  0.021          \n",
      "                                                     (-0.021)         \n",
      "                                                                      \n",
      "chas                                                 2.687***         \n",
      "                                                     (-0.532)         \n",
      "                                                                      \n",
      "nox                                                   -17.767         \n",
      "                                                     (-19.023)        \n",
      "                                                                      \n",
      "rm                                                     3.810          \n",
      "                                                     (-6.092)         \n",
      "                                                                      \n",
      "age                         0.038***                   0.001          \n",
      "                            (-0.005)                  (0.067)         \n",
      "                                                                      \n",
      "dis                                                   -1.476          \n",
      "                                                     (-0.930)         \n",
      "                                                                      \n",
      "rad                                                    0.306          \n",
      "                                                      (0.256)         \n",
      "                                                                      \n",
      "tax                                                  -0.012***        \n",
      "                                                     (-0.003)         \n",
      "                                                                      \n",
      "ptratio                                              -0.953**         \n",
      "                                                     (-0.446)         \n",
      "                                                                      \n",
      "black                                                  0.009          \n",
      "                                                     (-0.008)         \n",
      "                                                                      \n",
      "Constant                   32.828***                  36.459          \n",
      "                            (0.557)                  (64.016)         \n",
      "                                                                      \n",
      "----------------------------------------------------------------------\n",
      "Observations                  506                       506           \n",
      "R2                           0.556                     0.741          \n",
      "Adjusted R2                  0.553                     0.734          \n",
      "Residual Std. Error     6.147 (df = 502)         4.745 (df = 492)     \n",
      "F Statistic         209.495*** (df = 3; 502) 108.077*** (df = 13; 492)\n",
      "======================================================================\n",
      "Note:                                      *p<0.1; **p<0.05; ***p<0.01\n"
     ]
    }
   ],
   "source": [
    "library(stargazer)\n",
    "stargazer(reg2, full_mod, type = \"text\", se = list(sereg2, sefull_mod))"
   ]
  },
  {
   "cell_type": "markdown",
   "id": "0ddb751e",
   "metadata": {},
   "source": [
    "## 1 e ii) \n",
    "\n",
    "What can you say about the  adjusted R^2 of the large regression model? Does this model improve on the previous one? \n",
    "\n",
    "#### Write your answers here\n",
    "\n",
    "Notice that the smallest p-value is associated with the coefficient on ptratio, the pupil-teacher ratio by town. It is conceivable that quality of the schooling district is an important location factor. According to the adj. R2 , the full model does better than the model dealt with in the previous exercises which use a smaller subset of the variables as regressors.\n",
    "\n",
    "Omitted variable bias."
   ]
  },
  {
   "cell_type": "markdown",
   "id": "e5fe33de",
   "metadata": {},
   "source": [
    "## 1 f) \n",
    "\n",
    "Now, you have to estimate several models, each time dropping one of the explanatory variables used in the large regression model in (e) and compare the adjusted R-sq, $\\bar{R}^2$. \n",
    "\n",
    "Start by estimating a model where one variable, e.g. lstat, is excluded from the explanatory variables. \n",
    "\n",
    "Next, access the $\\bar{R}^2$ of this model. Repeat Steps 1 and 2 for all explanatory variables used in the full regression model. Save the $\\bar{R}^2$.  You can do this one regression at a time but it is more efficient to write a loop that automates the process.\n",
    "\n",
    "Save the model with the highest improvement in $\\bar{R}^2$ to reg4. \n",
    "\n",
    "Which model yields the highest $\\bar{R}^2$?"
   ]
  },
  {
   "cell_type": "code",
   "execution_count": 30,
   "id": "258510e7",
   "metadata": {},
   "outputs": [
    {
     "data": {
      "text/html": [
       "<ol class=list-inline>\n",
       "\t<li>0.728</li>\n",
       "\t<li>0.728</li>\n",
       "\t<li>0.734</li>\n",
       "\t<li>0.729</li>\n",
       "\t<li>0.723</li>\n",
       "\t<li>0.689</li>\n",
       "\t<li>0.734</li>\n",
       "\t<li>0.705</li>\n",
       "\t<li>0.723</li>\n",
       "\t<li>0.729</li>\n",
       "\t<li>0.706</li>\n",
       "\t<li>0.728</li>\n",
       "\t<li>0.677</li>\n",
       "</ol>\n"
      ],
      "text/latex": [
       "\\begin{enumerate*}\n",
       "\\item 0.728\n",
       "\\item 0.728\n",
       "\\item 0.734\n",
       "\\item 0.729\n",
       "\\item 0.723\n",
       "\\item 0.689\n",
       "\\item 0.734\n",
       "\\item 0.705\n",
       "\\item 0.723\n",
       "\\item 0.729\n",
       "\\item 0.706\n",
       "\\item 0.728\n",
       "\\item 0.677\n",
       "\\end{enumerate*}\n"
      ],
      "text/markdown": [
       "1. 0.728\n",
       "2. 0.728\n",
       "3. 0.734\n",
       "4. 0.729\n",
       "5. 0.723\n",
       "6. 0.689\n",
       "7. 0.734\n",
       "8. 0.705\n",
       "9. 0.723\n",
       "10. 0.729\n",
       "11. 0.706\n",
       "12. 0.728\n",
       "13. 0.677\n",
       "\n",
       "\n"
      ],
      "text/plain": [
       " [1] 0.728 0.728 0.734 0.729 0.723 0.689 0.734 0.705 0.723 0.729 0.706 0.728\n",
       "[13] 0.677"
      ]
     },
     "metadata": {},
     "output_type": "display_data"
    }
   ],
   "source": [
    "# This solution is a bit technical but efficient\n",
    "# Alternatively, you can do this one regression at a time. \n",
    "\n",
    "# loop estimation of models dropping one column at a time\n",
    "# define a list ls where you will save the adjusted r squared values\n",
    "ls <- list()\n",
    "\n",
    "# next begin the for loop, there are 13 regressors in total\n",
    "for (i in 1:13) {\n",
    "  d <- Boston[, -i] # -i means that the ith column/regressor is excluded from the Boston data\n",
    "  # save each adj. R^2 as a list entry in ls\n",
    "  ls[i] <- summary(lm(medv ~., data=d))$adj.r.squared \n",
    "}\n",
    "\n",
    "\n",
    "round(as.numeric(ls),3)"
   ]
  },
  {
   "cell_type": "code",
   "execution_count": 31,
   "id": "e20637df",
   "metadata": {},
   "outputs": [
    {
     "data": {
      "text/html": [
       "<strong>age:</strong> 7"
      ],
      "text/latex": [
       "\\textbf{age:} 7"
      ],
      "text/markdown": [
       "**age:** 7"
      ],
      "text/plain": [
       "age \n",
       "  7 "
      ]
     },
     "metadata": {},
     "output_type": "display_data"
    }
   ],
   "source": [
    "# assign variable names to the list entries\n",
    "names(ls) <- names(Boston[, 1:13]) \n",
    "\n",
    "# select the variable whose omission leads to the highest improvement in adj. R^2\n",
    "which.max(ls) # 7th column this is \"age\""
   ]
  },
  {
   "cell_type": "code",
   "execution_count": 32,
   "id": "a37a8fdc",
   "metadata": {},
   "outputs": [
    {
     "data": {
      "text/plain": [
       "\n",
       "Call:\n",
       "lm(formula = medv ~ ., data = Boston[, -7])\n",
       "\n",
       "Residuals:\n",
       "     Min       1Q   Median       3Q      Max \n",
       "-15.6054  -2.7313  -0.5188   1.7601  26.2243 \n",
       "\n",
       "Coefficients:\n",
       "              Estimate Std. Error t value Pr(>|t|)    \n",
       "(Intercept)  36.436927   5.080119   7.172 2.72e-12 ***\n",
       "crim         -0.108006   0.032832  -3.290 0.001075 ** \n",
       "zn            0.046334   0.013613   3.404 0.000719 ***\n",
       "indus         0.020562   0.061433   0.335 0.737989    \n",
       "chas          2.689026   0.859598   3.128 0.001863 ** \n",
       "nox         -17.713540   3.679308  -4.814 1.97e-06 ***\n",
       "rm            3.814394   0.408480   9.338  < 2e-16 ***\n",
       "dis          -1.478612   0.190611  -7.757 5.03e-14 ***\n",
       "rad           0.305786   0.066089   4.627 4.75e-06 ***\n",
       "tax          -0.012329   0.003755  -3.283 0.001099 ** \n",
       "ptratio      -0.952211   0.130294  -7.308 1.10e-12 ***\n",
       "black         0.009321   0.002678   3.481 0.000544 ***\n",
       "lstat        -0.523852   0.047625 -10.999  < 2e-16 ***\n",
       "---\n",
       "Signif. codes:  0 '***' 0.001 '**' 0.01 '*' 0.05 '.' 0.1 ' ' 1\n",
       "\n",
       "Residual standard error: 4.74 on 493 degrees of freedom\n",
       "Multiple R-squared:  0.7406,\tAdjusted R-squared:  0.7343 \n",
       "F-statistic: 117.3 on 12 and 493 DF,  p-value: < 2.2e-16\n"
      ]
     },
     "metadata": {},
     "output_type": "display_data"
    }
   ],
   "source": [
    "# hence a model that fits the data better is\n",
    "reg3 <- lm(medv ~., data = Boston[, -7])\n",
    "summary(reg3)"
   ]
  },
  {
   "cell_type": "markdown",
   "id": "ed0206a1",
   "metadata": {},
   "source": [
    "#### Answer\n",
    "\n",
    "The best model seems to suggest that we need to drop age as a regressor. Notice that this model fits the data better than the full model and does better than all other models which include 12 of the available set of 13 regressors, in terms of adj. R-sq. Note, however, that the increase in adj. R2 is very small and that the model is not the best of all conceivable models. We will discuss this issue in detail when we deal with nonlinear functions in Week 7. "
   ]
  },
  {
   "cell_type": "code",
   "execution_count": null,
   "id": "bb492c4c",
   "metadata": {},
   "outputs": [],
   "source": [
    "## DO NOT EDIT\n",
    "# This section formats your answers for marking\n",
    "answers = c(s1, s2, reg1, reg2, full_mod, reg3, validate)"
   ]
  }
 ],
 "metadata": {
  "kernelspec": {
   "display_name": "R",
   "language": "R",
   "name": "ir"
  },
  "language_info": {
   "codemirror_mode": "r",
   "file_extension": ".r",
   "mimetype": "text/x-r-source",
   "name": "R",
   "pygments_lexer": "r",
   "version": "3.6.1"
  }
 },
 "nbformat": 4,
 "nbformat_minor": 5
}
