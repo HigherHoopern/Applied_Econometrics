{
 "cells": [
  {
   "cell_type": "markdown",
   "id": "bfde3dbe",
   "metadata": {},
   "source": [
    "## Coffee and Code 2: Murders and Executions\n",
    "\n",
    "Amy Binner\n",
    "\n",
    "Download the countymurders.csv from ELE"
   ]
  },
  {
   "cell_type": "markdown",
   "id": "5ea1dcfc",
   "metadata": {},
   "source": [
    "### Load the data"
   ]
  },
  {
   "cell_type": "code",
   "execution_count": null,
   "id": "e4070af6",
   "metadata": {},
   "outputs": [],
   "source": [
    "mydata <- read.csv(\"countymurders.csv\")\n",
    "head(mydata)"
   ]
  },
  {
   "cell_type": "markdown",
   "id": "2ab86361",
   "metadata": {},
   "source": [
    "### Plot Murders vs Executions"
   ]
  },
  {
   "cell_type": "code",
   "execution_count": null,
   "id": "426fef78",
   "metadata": {},
   "outputs": [],
   "source": [
    "# Change plot size to 4 x 3\n",
    "options(repr.plot.width=6, repr.plot.height=4)\n",
    "\n",
    "plot(murders~execs, data=mydata, main = \"County level murders vs executions in US, 1996\")"
   ]
  },
  {
   "cell_type": "markdown",
   "id": "14019f87",
   "metadata": {},
   "source": [
    "### Estimate the equation\n",
    "\n",
    "$$ murders_i= β_0+ β_1 execs_i+u_i $$\n",
    "\n",
    "by OLS and report the results"
   ]
  },
  {
   "cell_type": "code",
   "execution_count": null,
   "id": "b0f33f9f",
   "metadata": {},
   "outputs": [],
   "source": [
    "library(AER)\n",
    "reg1 <- lm(murders~execs, data = mydata)\n",
    "cov <- vcovHC(reg1, type=\"HC1\")\n",
    "robust <- sqrt(diag(cov))\n",
    "\n",
    "library(stargazer)\n",
    "stargazer(reg1, reg1, type = \"text\", se=list(NULL, robust), column.labels=c(\"Default SE\", \"Robust SE\"))"
   ]
  },
  {
   "cell_type": "markdown",
   "id": "33d0ae68",
   "metadata": {},
   "source": [
    "### Interpret the coefficients\n",
    "\n",
    "(double click to enter your answer)\n",
    "\n",
    "The coefficient is positive - indicating that as the number of executions increases by 1 the number of murders is expected to increase by 65.47 (2 decimal places) - holding everything else constant."
   ]
  },
  {
   "cell_type": "markdown",
   "id": "9b930936",
   "metadata": {},
   "source": [
    "### Does the estimated slope coefficient suggest a deterrent effect of capital punishment (execution) on murders? "
   ]
  },
  {
   "cell_type": "code",
   "execution_count": null,
   "id": "199970e9",
   "metadata": {},
   "outputs": [],
   "source": [
    "# plot the data and the estimated regression line\n",
    "plot(mydata$murders~mydata$execs, \n",
    "     main=\"County-level execution and murder cases in the US, 1996\",\n",
    "     ylab = \"Murder cases\",\n",
    "     xlab = \"Executions or capital punishments\")\n",
    "abline(reg1, col = \"skyblue\", lwd = 2)"
   ]
  },
  {
   "cell_type": "code",
   "execution_count": null,
   "id": "9d1ace0b",
   "metadata": {},
   "outputs": [],
   "source": [
    "new <- data.frame(execs = c(0))\n",
    "predict(reg1, new)"
   ]
  },
  {
   "cell_type": "markdown",
   "id": "e7ee379f",
   "metadata": {},
   "source": [
    "### Calculate the mean residuals for those with 0 murder cases"
   ]
  },
  {
   "cell_type": "code",
   "execution_count": null,
   "id": "248f98f6",
   "metadata": {},
   "outputs": [],
   "source": [
    "mean(residm0 <- reg1$residuals[mydata$murders==0])"
   ]
  },
  {
   "cell_type": "markdown",
   "id": "bc3bc049",
   "metadata": {},
   "source": [
    "### Calculate the mean residuals for those with 0 murders and 0 execs"
   ]
  },
  {
   "cell_type": "code",
   "execution_count": null,
   "id": "d2c3a6eb",
   "metadata": {},
   "outputs": [],
   "source": [
    "mean(reside0 <- reg1$residuals[mydata$murders==0 & mydata$execs==0])"
   ]
  },
  {
   "cell_type": "markdown",
   "id": "27b4a988",
   "metadata": {},
   "source": [
    "### How many counties had zero murders in 1996? How many had at least one execution?"
   ]
  },
  {
   "cell_type": "code",
   "execution_count": null,
   "id": "1da95569",
   "metadata": {},
   "outputs": [],
   "source": [
    "# using length and which function, count counties that had 0 murders \n",
    "cat(\"\\nZero murders = \", length(which(mydata$murders==0)))\n",
    "\n",
    "cat(\"\\nAt least one execution =\",length(which(mydata$execs>=1)))"
   ]
  },
  {
   "cell_type": "markdown",
   "id": "66c87f15",
   "metadata": {},
   "source": [
    "### Explain why a simple regression analysis is not well suited for determining whether capital punishment has a deterrent effect on murders.\n",
    "\n",
    "(double click to enter answer)\n",
    "\n",
    "- Missing explanatory variables\n",
    "- Factors influencing both executions and murders\n",
    "- Little variation in executions (low variance)\n",
    "- Nonlinear dependent variable"
   ]
  },
  {
   "cell_type": "code",
   "execution_count": null,
   "id": "7c5de8f9",
   "metadata": {},
   "outputs": [],
   "source": [
    "hist(mydata$murders)\n",
    "\n",
    "# Adding title, axis labels, axis limits, non-default breaks\n",
    "hist(mydata$murders, breaks = 200, xlim = c(0,100), main = \"Histogram: Murders\", xlab = \"Murders\")"
   ]
  },
  {
   "cell_type": "code",
   "execution_count": null,
   "id": "02ac4424",
   "metadata": {},
   "outputs": [],
   "source": [
    "library(ggplot2)\n",
    "ggplot(mydata, aes(x=murders)) + \n",
    "    geom_histogram(fill=\"skyblue\", alpha=0.5, bins = 15)+\n",
    "    ggtitle(\"Histogram of Murders by US county in 1996\") +\n",
    "    xlim(0,100)+\n",
    "    ylim(0,10000)+\n",
    "    theme_minimal()"
   ]
  }
 ],
 "metadata": {
  "kernelspec": {
   "display_name": "R",
   "language": "R",
   "name": "ir"
  },
  "language_info": {
   "codemirror_mode": "r",
   "file_extension": ".r",
   "mimetype": "text/x-r-source",
   "name": "R",
   "pygments_lexer": "r",
   "version": "3.6.1"
  }
 },
 "nbformat": 4,
 "nbformat_minor": 5
}
