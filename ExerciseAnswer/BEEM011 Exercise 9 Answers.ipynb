{
 "cells": [
  {
   "cell_type": "markdown",
   "id": "9679f821",
   "metadata": {},
   "source": [
    "## BEEM011 Exercise 9: Week 10\n",
    "\n",
    "### Panel Data Methods\n",
    "\n",
    "Amy Binner and Eva Poen\n",
    "\n",
    "Answers"
   ]
  },
  {
   "cell_type": "markdown",
   "id": "a04c1d94",
   "metadata": {},
   "source": [
    "## Useful R code\n",
    "\n",
    "install.packages(“plm”)\n",
    "\n",
    "library(plm)\n",
    "\n",
    "<u> PANEL REGRESSION WITH ENTITY FIXED EFFECTS </u>\n",
    "\n",
    "reg <- plm(y~x,data =mydata, index = c(\"entity\", \"year\"), model = \"within\")\n",
    "\n",
    "<u> PANEL REGRESSION WITH ENTITY AND TIME FIXED EFFECTS </u>\n",
    "\n",
    "reg <- plm(y~x,data =mydata, index = c(\"entity\", \"year\"), model = \"twoways\")\n",
    "\n",
    "<u> CLUSTERED ROBUST STANDARD ERRORS </u>\n",
    "\n",
    "coeftest(reg, vcov. = vcovHC, type = \"HC1\", cluster=\"group\")\n",
    "\n",
    "<u> F-test with Panel Regression Models </u>\n",
    "\n",
    "pFtest(reg, model_null, vcov = vcovHC, type = \"HC1\", cluster=\"group\")"
   ]
  },
  {
   "cell_type": "markdown",
   "id": "63944fe4",
   "metadata": {},
   "source": [
    "# Question 1\n",
    "\n",
    "A researcher investigating the determinants of crime in the United Kingdom has data for 42 police regions over 22 years. She estimates by OLS the following regression\n",
    "\n",
    "$$ ln(crime_{it}) = α_i + \\lambda_t + β_1 unemp_{it} + β_2 youths_{it} + β_3 ln(punish)_{it} + u_{it}$$\n",
    "\n",
    "$$i = 1,..., 42, t = 1,..., 22 $$\n",
    "\n",
    "- *crime* is the crime rate per head of population, \n",
    "- *unemp* is the unemployment rate of males, \n",
    "- *youths* is the proportion of youths, \n",
    "- *punish* is the probability of punishment measured as (number of convictions)/(number of crimes reported). \n",
    "- $α_i$ and $\\lambda_t$ are police region and year fixed effects, where $α_i$equals one for area $i$ and is zero otherwise for all $i$, and $\\lambda_t$ is one in year $t$ and zero for all other years for $t = 2, …, 22$. \n",
    "\n",
    "$\\beta_0$ is not included.\n",
    "\n",
    "Note: $ln()$ is the natural logarithm.\n",
    "\n",
    "\n",
    "## 1 a)\n",
    "\n",
    "Explain the purpose of excluding $\\beta_0$? Why do we include $\\alpha_1$?\n"
   ]
  },
  {
   "cell_type": "markdown",
   "id": "13e54776",
   "metadata": {},
   "source": [
    "**Including a constant in addition to the entity and time fixed effects would result in perfect multicollinearity.**\n",
    "\n",
    "**The sum of all 42 entity fixed effects is equal to one in each observation. The sum of all time fixed effects is also equal to one in each observation. Therefore, we need to drop one of the fixed effects (this could be one of the time FEs or one of the entity FEs) to avoid perfect collinearity.**\n",
    "\n",
    "**As we do not have an intercept term, $\\alpha_1$ is the entity fixed effect for police region 1 in $t = 1$ - this becomes the base case**\n",
    "\n",
    "**If we wanted to have an overall intercept, we would have to drop another fixed effects (so that one time FE and one entity FE are dropped from the model). The overall number of parameters estimated would remain the same.**"
   ]
  },
  {
   "cell_type": "markdown",
   "id": "e93ea180",
   "metadata": {},
   "source": [
    "## 1 b)\t\n",
    "\n",
    "What are the terms $α_i$ and $\\lambda_t$ likely to pick up? Discuss the advantages of using panel data for this type of investigation."
   ]
  },
  {
   "cell_type": "markdown",
   "id": "10307a4e",
   "metadata": {},
   "source": [
    "**•\t$α_i$ picks up omitted variables that are specific to police region $i$ and do not vary over time.**\n",
    "\n",
    "Attitudes toward crime may vary between rural regions and metropolitan areas. These would be hard to capture through measurable variables.\n",
    "\n",
    "**•\t$\\lambda_t$ picks up effects that are common to all police regions in a given year.** \n",
    "\n",
    "Common macroeconomic shocks that affect all regions equally in a given time period will be captured by the time fixed effects. \n",
    "\n",
    "Although some of these variables could be explicitly introduced, the list of possible variables is long. By introducing time fixed effects, the effect is captured all in one variable."
   ]
  },
  {
   "cell_type": "markdown",
   "id": "ab85cf08",
   "metadata": {},
   "source": [
    "## 1 c)\n",
    "\n",
    "Estimation by OLS using heteroskedasticity and autocorrelation-consistent standard errors results in the following output, where the coefficients of the entity and time fixed effects are not reported:\n",
    "\n",
    "$ \\widehat{ln(crime)_{it}} = 0.063 × unemp_{it} + 3.739 × youths_{it} – 0.588 × ln(punish)_{it} $\n",
    "                     \n",
    "&emsp; &emsp;&emsp;&emsp;&emsp;$(0.109)$&emsp;&emsp;&emsp;&emsp;&emsp;&emsp;          $(0.179)$&emsp;&emsp;&emsp;&emsp;&emsp;$(0.024)$\n",
    "\n",
    "$R^2 = 0.904$\n",
    "\n",
    "Comment on the results. In particular, what is the effect of a 1 percent increase in the probability of punishment? \n"
   ]
  },
  {
   "cell_type": "markdown",
   "id": "2e6f32bb",
   "metadata": {},
   "source": [
    "**A higher male unemployment rate and a higher proportion of youths increase the crime rate, while a higher probability of punishment decreases the crime rate. The coefficients on the probability of punishment and the proportion of youths is statistically significant, while the male unemployment rate is not. The regression explains roughly 90 percent of the variation in crime rates in the sample.**\n",
    "\n",
    "**A 1 percent increase in the number of convictions over the number of crimes reported decreases the crime rate by roughly 0.6 percent.  An individual t-test on this coefficient would reject the null hypothesis that it is equal to zero at the 5% significance level.**"
   ]
  },
  {
   "cell_type": "markdown",
   "id": "c5151626",
   "metadata": {},
   "source": [
    "## 1 d)\n",
    "\n",
    "To test for the relevance of the police region fixed effects, your restrict the regression by dropping all entity fixed effects and a single intercept coefficient is added. The relevant F-statistic is 135.28. \n",
    "\n",
    "- What are the degrees of freedom? \n",
    "\n",
    "- What is the critical value from the F distribution using a 1% significance level?"
   ]
  },
  {
   "cell_type": "code",
   "execution_count": 58,
   "id": "4d817309",
   "metadata": {
    "vscode": {
     "languageId": "r"
    }
   },
   "outputs": [
    {
     "name": "stdout",
     "output_type": "stream",
     "text": [
      "n-k: 858"
     ]
    },
    {
     "data": {
      "text/html": [
       "1.60809006964982"
      ],
      "text/latex": [
       "1.60809006964982"
      ],
      "text/markdown": [
       "1.60809006964982"
      ],
      "text/plain": [
       "[1] 1.60809"
      ]
     },
     "metadata": {},
     "output_type": "display_data"
    }
   ],
   "source": [
    "n = 42*22\n",
    "k = 42 + 21 + 3\n",
    "# here we have dropped one time fixed effect (see the answer to 1a) above)\n",
    "\n",
    "q = 42 - 1\n",
    "# the number of restrictions is one less than the number of entity FEs, \n",
    "# because we gain an overall intercept \n",
    "cat(\"n-k:\", n - k)\n",
    "qf(0.99, df1 = q , df2 = n-k , lower.tail = TRUE)"
   ]
  },
  {
   "cell_type": "markdown",
   "id": "602d111e",
   "metadata": {},
   "source": [
    "**The coefficients of the three regressors other than the entity coefficients would have been unaffected, had there been a constant in the regression and (n-1) police region specific entity variables. In this case, the entity coefficients on the police regions would have indicated deviations from the constant for the first police region. Hence there are 41 restrictions imposed by eliminating the 42 entity fixed effects and adding a constant.**\n",
    "\n",
    "**Since there are over 42 police regions over 22 years (df2 $= n-k = 858$ degrees of freedom), the critical value for F41,∞ ≈ 1.60 at the 1% level. Hence the restrictions are rejected.**"
   ]
  },
  {
   "cell_type": "markdown",
   "id": "4b3b2a8c",
   "metadata": {},
   "source": [
    "## 1 e)\n",
    "\n",
    "Although the test rejects the hypothesis of eliminating the fixed effects from the regression, you want to analyze what happens to the coefficients and their standard errors when the equation is re-estimated without fixed effects. \n",
    "\n",
    "$ \\widehat{ln(crime)_{it}} = 1.340 × unemp_{it} + 3.743 × youths_{it} – 0.601 × ln(punish)_{it} $\n",
    "                     \n",
    "&emsp; &emsp;&emsp;&emsp;&emsp;$(0.234)$&emsp;&emsp;&emsp;&emsp;&emsp;&emsp;          $(0.356)$&emsp;&emsp;&emsp;&emsp;&emsp;$(0.051)$\n",
    "\n",
    "In the resulting regression most of the coefficients do not change by much, although their standard errors roughly double. However, $\\hat{\\beta}_1$ is now 1.340 with a standard error of 0.234. \n",
    "\n",
    "Explain why you think this has occurred?"
   ]
  },
  {
   "cell_type": "markdown",
   "id": "278806c9",
   "metadata": {},
   "source": [
    "**This result would make the male unemployment rate coefficient significant. It suggests that male unemployment rates change slowly over the years in a given police district and that this effect is picked up by the entity fixed effects. Of course, there are other slowly changing variables that have been omitted, such as attitudes towards crime, that are captured by these fixed effects and that may cause omitted variable bias when the entity fixed effects are excluded.**"
   ]
  },
  {
   "cell_type": "markdown",
   "id": "8d3bd3d2",
   "metadata": {},
   "source": [
    "## Question 2\n",
    "\n",
    "In this question you will work with “Guns” -  a balanced panel containing observations on criminal and demographic variables for all US states and the years 1977-1999. The dataset comes with the package AER."
   ]
  },
  {
   "cell_type": "markdown",
   "id": "80471463",
   "metadata": {},
   "source": [
    "## 2 a)\n",
    "\n",
    "Load the AER and plm packages and the Guns dataset. \n",
    "\n",
    "Explore the dataset using the summary() function. Use the command “?Guns” for detailed information on the variables. \n",
    "\n",
    "Verify that Guns is a balanced panel: extract the number of years and states from the dataset and assign them to the predefined variables years and states, respectively. Afterwards use these variables for a logical comparison: check that the panel is balanced."
   ]
  },
  {
   "cell_type": "code",
   "execution_count": 13,
   "id": "a9debbbe",
   "metadata": {
    "vscode": {
     "languageId": "r"
    }
   },
   "outputs": [],
   "source": [
    "#install.packages(\"plm\")\n",
    "library(plm)\n",
    "# You may get an error when trying to install the plm package,\n",
    "# you can try:\n",
    "# install.packages(\"plm\", .libPaths(), repos='http://cran.us.r-project.org')\n",
    "# if there is still a problem you need to open the Anaconda powershell and install the package via\n",
    "# conda forge using the following command:\n",
    "# conda install -c conda-forge r-plm"
   ]
  },
  {
   "cell_type": "code",
   "execution_count": 14,
   "id": "54e6a587",
   "metadata": {
    "vscode": {
     "languageId": "r"
    }
   },
   "outputs": [
    {
     "data": {
      "text/plain": [
       "      year        violent           murder          robbery      \n",
       " 1977   : 51   Min.   :  47.0   Min.   : 0.200   Min.   :   6.4  \n",
       " 1978   : 51   1st Qu.: 283.1   1st Qu.: 3.700   1st Qu.:  71.1  \n",
       " 1979   : 51   Median : 443.0   Median : 6.400   Median : 124.1  \n",
       " 1980   : 51   Mean   : 503.1   Mean   : 7.665   Mean   : 161.8  \n",
       " 1981   : 51   3rd Qu.: 650.9   3rd Qu.: 9.800   3rd Qu.: 192.7  \n",
       " 1982   : 51   Max.   :2921.8   Max.   :80.600   Max.   :1635.1  \n",
       " (Other):867                                                     \n",
       "   prisoners           afam              cauc            male      \n",
       " Min.   :  19.0   Min.   : 0.2482   Min.   :21.78   Min.   :12.21  \n",
       " 1st Qu.: 114.0   1st Qu.: 2.2022   1st Qu.:59.94   1st Qu.:14.65  \n",
       " Median : 187.0   Median : 4.0262   Median :65.06   Median :15.90  \n",
       " Mean   : 226.6   Mean   : 5.3362   Mean   :62.95   Mean   :16.08  \n",
       " 3rd Qu.: 291.0   3rd Qu.: 6.8507   3rd Qu.:69.20   3rd Qu.:17.53  \n",
       " Max.   :1913.0   Max.   :26.9796   Max.   :76.53   Max.   :22.35  \n",
       "                                                                   \n",
       "   population          income         density                 state     \n",
       " Min.   : 0.4027   Min.   : 8555   Min.   : 0.000707   Alabama   :  23  \n",
       " 1st Qu.: 1.1877   1st Qu.:11935   1st Qu.: 0.031911   Alaska    :  23  \n",
       " Median : 3.2713   Median :13402   Median : 0.081569   Arizona   :  23  \n",
       " Mean   : 4.8163   Mean   :13725   Mean   : 0.352038   Arkansas  :  23  \n",
       " 3rd Qu.: 5.6856   3rd Qu.:15271   3rd Qu.: 0.177718   California:  23  \n",
       " Max.   :33.1451   Max.   :23647   Max.   :11.102120   Colorado  :  23  \n",
       "                                                       (Other)   :1035  \n",
       "  law     \n",
       " no :888  \n",
       " yes:285  \n",
       "          \n",
       "          \n",
       "          \n",
       "          \n",
       "          "
      ]
     },
     "metadata": {},
     "output_type": "display_data"
    }
   ],
   "source": [
    "## Edit the code below \n",
    "# Header: Exercise 9\n",
    "# Author: \n",
    "# Date:\n",
    "# Candidate number:\n",
    "\n",
    "# Load the data\n",
    "#install.packages(\"AER\")\n",
    "library(AER)\n",
    "\n",
    "\n",
    "data(\"Guns\")\n",
    "\n",
    "# Obtain an overview of the dataset\n",
    "summary(Guns)\n",
    "?Guns"
   ]
  },
  {
   "cell_type": "code",
   "execution_count": 15,
   "id": "5f17eb4e",
   "metadata": {
    "vscode": {
     "languageId": "r"
    }
   },
   "outputs": [
    {
     "name": "stdout",
     "output_type": "stream",
     "text": [
      "Is pbalanced? TRUE \n"
     ]
    },
    {
     "name": "stderr",
     "output_type": "stream",
     "text": [
      "Warning message in pdata.frame(x, index):\n",
      "\"duplicate couples (id-time) in resulting pdata.frame\n",
      " to find out which, use, e.g., table(index(your_pdataframe), useNA = \"ifany\")\""
     ]
    },
    {
     "data": {
      "text/html": [
       "FALSE"
      ],
      "text/latex": [
       "FALSE"
      ],
      "text/markdown": [
       "FALSE"
      ],
      "text/plain": [
       "[1] FALSE"
      ]
     },
     "metadata": {},
     "output_type": "display_data"
    },
    {
     "name": "stdout",
     "output_type": "stream",
     "text": [
      "Is balanced (logical)? TRUE"
     ]
    }
   ],
   "source": [
    "#Verify that the dataset is balanced\n",
    "cat(\"Is pbalanced?\",\n",
    "is.pbalanced(Guns, index = c('state', 'year')), \"\\n\")\n",
    "\n",
    "# Note if you exclude the index you will get an incorrect answer\n",
    "is.pbalanced(Guns)\n",
    "\n",
    "# Alternative method (not a great method)\n",
    "\n",
    "years  <- length(levels(Guns$year))\n",
    "states <- length(levels(Guns$state))\n",
    "\n",
    "# Logical test of whether the panel is balanced\n",
    "cat(\"Is balanced (logical)?\",\n",
    "years*states == nrow(Guns))"
   ]
  },
  {
   "cell_type": "markdown",
   "id": "86bb314a",
   "metadata": {},
   "source": [
    "**Answer**\n",
    "\n",
    "The Guns dataset is balanced."
   ]
  },
  {
   "cell_type": "markdown",
   "id": "9f389590",
   "metadata": {},
   "source": [
    "## 2 b)\n",
    "\n",
    "There is a controversial debate whether and if to what extent the right to carry a gun influences crime. Proponents of so-called “Carrying a Concealed Weapon” (CCW) laws argue that the deterrent effect of guns prevents crime, whereas opponents argue that the public availability of guns increases their usage and thus makes it easier to commit crimes. \n",
    "\n",
    "In the following exercises you will investigate this topic empirically. To begin with consider the following estimated model. \n",
    "\n",
    "$$\\widehat{ln⁡(violent_{it})}= 6.135-0.443law_{it}$$\n",
    "\n",
    "with  $i=1,..., 51$ \n",
    "- *violent* is the violent crime rate (incidents per 100000 residents) and \n",
    "- *law* is a binary variable indicating the implementation of a CCW law (1 = yes, 0 = no), respectively. \n",
    "\n",
    "Extend and estimate the model by including state fixed effects using the function plm() and assign the model object to the predefined variable model_se. \n",
    "\n",
    "Can you think of an unobserved variable that is captured by the state fixed effects? \n",
    "\n",
    "Print a summary of the model which reports cluster robust standard errors. Test whether the fixed state effects are jointly significant from zero. To do so use the function pFtest(). Use ?pFtest for additional information. (Note: you may need to install the package “plm” at this point if you have not done so). "
   ]
  },
  {
   "cell_type": "code",
   "execution_count": 59,
   "id": "da75582e",
   "metadata": {
    "vscode": {
     "languageId": "r"
    }
   },
   "outputs": [
    {
     "data": {
      "text/plain": [
       "\n",
       "t test of coefficients:\n",
       "\n",
       "                Estimate Std. Error t value Pr(>|t|)   \n",
       "as.numeric(law) 0.113663   0.035689  3.1848 0.001488 **\n",
       "---\n",
       "Signif. codes:  0 '***' 0.001 '**' 0.01 '*' 0.05 '.' 0.1 ' ' 1\n"
      ]
     },
     "metadata": {},
     "output_type": "display_data"
    }
   ],
   "source": [
    "# estimate a model with state (or entity) fixed effects using plm()\n",
    "model_se <- plm(log(violent) ~ as.numeric(law), data = Guns, \n",
    "                index = c(\"state\", \"year\"), \n",
    "                model = \"within\",\n",
    "                effect = \"individual\")\n",
    "\n",
    "# effects = \"oneway\" is the default option so we do not need to specify it in the plm() function\n",
    "\n",
    "# If you want to see the (de-meaned) entity fixed effects, use the command below:\n",
    "# fixef(model_se, type = \"dmean\", effect = \"individual\")\n",
    "\n",
    "# Comparing this to the number of states \n",
    "# length(unique(Guns$state))\n",
    "\n",
    "# print a summary using clustered standard errors\n",
    "coeftest(model_se, vcov = vcovHC, type = \"HC1\", cluster=\"group\")\n",
    "# type = \"HC1\" is the default, you could exclude this from the function\n",
    "\n",
    "# This is the same as including dummy variables for the year using the lm() function \n",
    "# model_se2 <- lm(log(violent)~as.numeric(law)+factor(state)+0, data = Guns)\n",
    "# model_se2$coefficients"
   ]
  },
  {
   "cell_type": "code",
   "execution_count": 57,
   "id": "1aafa4c8",
   "metadata": {
    "vscode": {
     "languageId": "r"
    }
   },
   "outputs": [
    {
     "data": {
      "text/plain": [
       "\n",
       "\tF test for individual effects\n",
       "\n",
       "data:  log(violent) ~ as.numeric(law)\n",
       "F = 260.5, df1 = 50, df2 = 1121, p-value < 2.2e-16\n",
       "alternative hypothesis: significant effects\n"
      ]
     },
     "metadata": {},
     "output_type": "display_data"
    }
   ],
   "source": [
    "# F - test \n",
    "# Specify the restricted model \n",
    "# Linear model (without fixed effects)\n",
    "model <- lm(log(violent) ~ as.numeric(law), data = Guns)\n",
    "\n",
    "# F test \n",
    "# test whether the state fixed effects are jointly significant from zero\n",
    "pFtest(model_se, model, vcov = vcovHC(model_se, cluster=\"group\"))"
   ]
  },
  {
   "cell_type": "markdown",
   "id": "4a5b9b1e",
   "metadata": {},
   "source": [
    "**Incorporating state fixed effects control for state specific unobservable omitted variables which do not vary over time (e.g. The residents attitude towards guns). Note that Including fixed effects changes both the sign and the magnitude of the estimated coefficient. The F-test reveals that the state fixed effects are jointly significantly different from zero. There is the possibility of an omitted variable bias, e.g., due to omitted variables that change over time.**"
   ]
  },
  {
   "cell_type": "markdown",
   "id": "10f11a54",
   "metadata": {},
   "source": [
    "## 2 c)\n",
    "\n",
    "It may also be reasonable to  include time effects which is why we now consider the model\n",
    "\n",
    "$ln⁡(violent_it )= β_1 law_{it}+α_i+ λ_t+u_{it}$\n",
    "\n",
    "with  $i=1,..., 51$ and $t=1977,…,1999$.  \n",
    "\n",
    "Estimate the model above and assign it to the variable model_sete using plm(). \n",
    "\n",
    "Print a summary of the model which reports robust standard errors. \n",
    "\n",
    "Test whether both state and time fixed effects are jointly significant."
   ]
  },
  {
   "cell_type": "code",
   "execution_count": 60,
   "id": "f3e6b6e6",
   "metadata": {
    "vscode": {
     "languageId": "r"
    }
   },
   "outputs": [
    {
     "data": {
      "text/plain": [
       "\n",
       "t test of coefficients:\n",
       "\n",
       "                Estimate Std. Error t value Pr(>|t|)\n",
       "as.numeric(law) 0.001885   0.039504  0.0477    0.962\n"
      ]
     },
     "metadata": {},
     "output_type": "display_data"
    },
    {
     "data": {
      "text/plain": [
       "\n",
       "\tF test for twoways effects\n",
       "\n",
       "data:  log(violent) ~ as.numeric(law)\n",
       "F = 284.97, df1 = 72, df2 = 1099, p-value < 2.2e-16\n",
       "alternative hypothesis: significant effects\n"
      ]
     },
     "metadata": {},
     "output_type": "display_data"
    }
   ],
   "source": [
    "# estimate a model with state and time fixed effects using plm()  I use as.numeric around law because some versions of fixef do\n",
    "# not like categorical/factor regressors and will throw an error.\n",
    "model_sete <- plm(log(violent) ~ as.numeric(law), \n",
    "                  data = Guns, \n",
    "                  index =  c(\"state\", \"year\"), \n",
    "                  model = \"within\", \n",
    "                  effect = \"twoways\")\n",
    "\n",
    "# The binary dummy variable equivalent is\n",
    "# lm(log(violent)~law+factor(state)+factor(year)+0, data = Guns)\n",
    "\n",
    "# view the combined state-year effects: \n",
    "# fixef(model_sete, type = \"level\", effect = \"twoways\")\n",
    "\n",
    "# print a summary using clustered standard errors\n",
    "coeftest(model_sete, vcov. = vcovHC, type = \"HC1\", cluster=\"group\")\n",
    "\n",
    "# test whether state and time fixed effects are jointly significant from zero\n",
    "pFtest(model_sete, model,vcov = vcovHC, type = \"HC1\", cluster=\"group\")"
   ]
  },
  {
   "cell_type": "markdown",
   "id": "aab787d8",
   "metadata": {},
   "source": [
    "**Including state and time effects results in a very small coefficient estimate on law which is not significantly different from zero at any common significance level.** \n",
    "\n",
    "**The F-test reveals that state and time fixed effects are jointly significantly different from zero since p-value < 0.05**"
   ]
  },
  {
   "cell_type": "code",
   "execution_count": 8,
   "id": "7217e6a9",
   "metadata": {
    "vscode": {
     "languageId": "r"
    }
   },
   "outputs": [
    {
     "data": {
      "text/plain": [
       "\n",
       "\tF test for twoways effects\n",
       "\n",
       "data:  log(violent) ~ law\n",
       "F = 27.911, df1 = 22, df2 = 1099, p-value < 2.2e-16\n",
       "alternative hypothesis: significant effects\n"
      ]
     },
     "metadata": {},
     "output_type": "display_data"
    }
   ],
   "source": [
    "# Testing the time fixed effects only\n",
    "\n",
    "# test whether state and time fixed effects are jointly significant from zero\n",
    "pFtest(model_sete, model_se, vcov. = vcovHC, type = \"HC1\", cluster=\"group\")"
   ]
  },
  {
   "cell_type": "markdown",
   "id": "ac02070d",
   "metadata": {},
   "source": [
    "**The F-test reveals that time fixed effects are jointly significantly different from zero since p-value < 0.05**\n",
    "\n",
    "**Note the change in df1**"
   ]
  },
  {
   "cell_type": "markdown",
   "id": "c3848365",
   "metadata": {},
   "source": [
    "## 2 d)\n",
    "\n",
    "Despite the evidence for state as well as time effects, there still might be a bias due to omitted variables such as sociodemographic characteristics. The following model accounts for the latter (See ?Guns for detailed information on the additional variables):\n",
    "\t\n",
    "$$ ln⁡(violent_{it} )= β_1 law_{it} +β_2  density_{it}+ β_3  income_{it} + β_4  population_{it}\n",
    "+ β_5 afam_{it} + β_6  cauc_{it}+ α_i+ λ_t+u_{it} $$\n",
    "\n",
    "- density: population per square mile of land area, divided by 1,000.\n",
    "- income: real per capita personal income in the state (US dollars).\n",
    "- population: state population, in millions of people.\n",
    "- afam: percent of state population that is African-American, ages 10 to 64.\n",
    "- cauc: percent of state population that is Caucasian, ages 10 to 64.\n",
    "\n",
    "Estimate the extended model and assign it to the predefined variable model_sete_ext. Print a robust summary of the estimated model. \n",
    "\n",
    "Use your results to interpret the effect of a CCW law.\n"
   ]
  },
  {
   "cell_type": "code",
   "execution_count": 61,
   "id": "27c9b0d4",
   "metadata": {
    "vscode": {
     "languageId": "r"
    }
   },
   "outputs": [
    {
     "data": {
      "text/plain": [
       "\n",
       "t test of coefficients:\n",
       "\n",
       "                Estimate Std. Error t value Pr(>|t|)\n",
       "as.numeric(law) 0.001885   0.039504  0.0477    0.962\n"
      ]
     },
     "metadata": {},
     "output_type": "display_data"
    }
   ],
   "source": [
    "# estimate the extended model\n",
    "model_sete_ext <- plm(log(violent) ~ as.numeric(law) + prisoners + density \n",
    "                  + income + population + afam + cauc, \n",
    "                  data = Guns, index = c(\"state\", \"year\"), \n",
    "                  model = \"within\", effect = \"twoways\")\n",
    "\n",
    "# print a summary using clustered standard errors\n",
    "coeftest(model_sete, vcov. = vcovHC, type = \"HC1\", cluster=\"group\")\n",
    "\n",
    "# view the fixed effects:\n",
    "#fixef(model_sete_ext, effect = \"twoways\")\n",
    "#fixef(model_sete_ext, effect=\"time\", type=\"level\")"
   ]
  },
  {
   "cell_type": "markdown",
   "id": "320a7101",
   "metadata": {},
   "source": [
    "**Once control variables are included in the regression alongside the fixed effects there is no longer a statistically significant coefficient on the CCW law variable**"
   ]
  },
  {
   "cell_type": "code",
   "execution_count": null,
   "id": "44157483",
   "metadata": {
    "vscode": {
     "languageId": "r"
    }
   },
   "outputs": [],
   "source": [
    "## DO NOT EDIT\n",
    "# This section formats your answers for marking\n",
    "answers = c(reg1a$coefficients, reg1b$coefficients, reg1c$coefficients, lh1, lh2, table1)\n",
    "#answers"
   ]
  }
 ],
 "metadata": {
  "kernelspec": {
   "display_name": "R",
   "language": "R",
   "name": "ir"
  },
  "language_info": {
   "codemirror_mode": "r",
   "file_extension": ".r",
   "mimetype": "text/x-r-source",
   "name": "R",
   "pygments_lexer": "r",
   "version": "3.6.1"
  }
 },
 "nbformat": 4,
 "nbformat_minor": 5
}
