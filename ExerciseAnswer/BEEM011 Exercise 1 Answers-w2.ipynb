{
 "cells": [
  {
   "cell_type": "markdown",
   "id": "cd29d23e",
   "metadata": {},
   "source": [
    "## BEEM011 Exercise 1: Week 2\n",
    "\n",
    "Amy Binner, Eva Poen\n",
    "\n",
    "Answers\n",
    "\n",
    "Probability"
   ]
  },
  {
   "cell_type": "markdown",
   "id": "cc2ac7eb",
   "metadata": {},
   "source": [
    "## Introduction - useful functions in R \n",
    "### Vectors\n",
    "\n",
    "Let's begin by creating some vectors and exploring combinations of their elements"
   ]
  },
  {
   "cell_type": "code",
   "execution_count": null,
   "id": "ae1a8675",
   "metadata": {},
   "outputs": [],
   "source": [
    "### Click CTRL + Enter to Run\n",
    "\n",
    "# create a 3x1 vector\n",
    "v1 = c(10, 20, 30)\n",
    "\n",
    "# print it\n",
    "v1"
   ]
  },
  {
   "cell_type": "code",
   "execution_count": null,
   "id": "078c08e4",
   "metadata": {},
   "outputs": [],
   "source": [
    "# text goes in double quotes\n",
    "v2 = c(\"a\",\"b\",\"c\")\n",
    "v2"
   ]
  },
  {
   "cell_type": "code",
   "execution_count": null,
   "id": "1eded705",
   "metadata": {},
   "outputs": [],
   "source": [
    "# refer to a single element\n",
    "v2[2]"
   ]
  },
  {
   "cell_type": "code",
   "execution_count": null,
   "id": "9ea1c2df",
   "metadata": {},
   "outputs": [],
   "source": [
    "v2[4]\n",
    "# there are only three elements --> we get NA"
   ]
  },
  {
   "cell_type": "code",
   "execution_count": null,
   "id": "24ba6693",
   "metadata": {},
   "outputs": [],
   "source": [
    "# all possible combinations of the elements of v1 and v2:\n",
    "combi = expand.grid(\"choice1\"=v1, \"choice2\"=v2)\n",
    "\n",
    "# print it\n",
    "combi"
   ]
  },
  {
   "cell_type": "code",
   "execution_count": null,
   "id": "af361134",
   "metadata": {},
   "outputs": [],
   "source": [
    "# make it into a data frame\n",
    "cframe = as.data.frame(combi)\n",
    "\n",
    "# print it\n",
    "cframe"
   ]
  },
  {
   "cell_type": "markdown",
   "id": "902654f8",
   "metadata": {},
   "source": [
    "### Creating a frequency table"
   ]
  },
  {
   "cell_type": "code",
   "execution_count": null,
   "id": "e2320151",
   "metadata": {},
   "outputs": [],
   "source": [
    "# another vector\n",
    "v3 = c(\"a\",\"b\",\"b\",\"b\",\"c\",\"c\")\n",
    "\n",
    "# create a frequency distribution of the data in v3\n",
    "freq = table(v3)\n",
    "\n",
    "# print the contents\n",
    "freq"
   ]
  },
  {
   "cell_type": "code",
   "execution_count": null,
   "id": "55e9bdaa",
   "metadata": {},
   "outputs": [],
   "source": [
    "# a occurs with frequency 1; b occurs with frequency 3; and\n",
    "# c occurs with frequency 2.\n",
    "\n",
    "# Make the frequency table into a data frame\n",
    "f = as.data.frame(freq)\n",
    "\n",
    "# print it\n",
    "f"
   ]
  },
  {
   "cell_type": "markdown",
   "id": "93e7fc61",
   "metadata": {},
   "source": [
    "### Introducing the Sum() function"
   ]
  },
  {
   "cell_type": "code",
   "execution_count": null,
   "id": "31fc1a3d",
   "metadata": {},
   "outputs": [],
   "source": [
    "# The sum() function sums up the elements inside the parentheses\n",
    "i = sum(5,7)\n",
    "# print i\n",
    "i"
   ]
  },
  {
   "cell_type": "code",
   "execution_count": null,
   "id": "f6efdba3",
   "metadata": {},
   "outputs": [],
   "source": [
    "# remember v1?\n",
    "v1\n",
    "\n",
    "j = sum(v1)\n",
    "# print j\n",
    "j"
   ]
  },
  {
   "cell_type": "code",
   "execution_count": null,
   "id": "c4b519aa",
   "metadata": {},
   "outputs": [],
   "source": [
    "# We can calculate the sum of a variable in a data frame.\n",
    "# The syntax is sum(<data frame>$<variable name>)\n",
    "\n",
    "s = sum(f$Freq)\n",
    "\n",
    "# We have calculated the total frequency:\n",
    "# print s\n",
    "s"
   ]
  },
  {
   "cell_type": "code",
   "execution_count": null,
   "id": "b72d334a",
   "metadata": {},
   "outputs": [],
   "source": [
    "# Create relative frequencies by dividing each frequency by the total\n",
    "f$rel = f$Freq/s\n",
    "# or\n",
    "f$rel = f$Freq/sum(f$Freq)\n",
    "\n",
    "# print the data frame\n",
    "f"
   ]
  },
  {
   "cell_type": "markdown",
   "id": "8c33b41b",
   "metadata": {},
   "source": [
    "# Question 1\n",
    "\n",
    "Consider rolling two dice and let M denote the sum of the number of dots on the two dice. \n",
    "(So M is a number between 2 and 12.). \n",
    "\n",
    "Below is an example using R, to calculate the probability Pr(M = 7)\n",
    "\n",
    "Click on the code and then hit ctrl + Enter to run it."
   ]
  },
  {
   "cell_type": "code",
   "execution_count": 1,
   "id": "ad4200a5",
   "metadata": {},
   "outputs": [
    {
     "name": "stdout",
     "output_type": "stream",
     "text": [
      "die = 1 2 3 4 5 6"
     ]
    }
   ],
   "source": [
    "# Example 1\n",
    "\n",
    "## create a variable of outcomes of rolling a die and call this die\n",
    "die <- c(1,2,3,4,5,6) \n",
    "\n",
    "# cat is a concatenation function that allows you to print strings and variables together\n",
    "cat(\"die =\",die)"
   ]
  },
  {
   "cell_type": "code",
   "execution_count": 2,
   "id": "39fd5918",
   "metadata": {},
   "outputs": [
    {
     "data": {
      "text/html": [
       "<table>\n",
       "<thead><tr><th scope=col>roll1</th><th scope=col>roll2</th></tr></thead>\n",
       "<tbody>\n",
       "\t<tr><td>1</td><td>1</td></tr>\n",
       "\t<tr><td>2</td><td>1</td></tr>\n",
       "\t<tr><td>3</td><td>1</td></tr>\n",
       "\t<tr><td>4</td><td>1</td></tr>\n",
       "\t<tr><td>5</td><td>1</td></tr>\n",
       "\t<tr><td>6</td><td>1</td></tr>\n",
       "\t<tr><td>1</td><td>2</td></tr>\n",
       "\t<tr><td>2</td><td>2</td></tr>\n",
       "\t<tr><td>3</td><td>2</td></tr>\n",
       "\t<tr><td>4</td><td>2</td></tr>\n",
       "\t<tr><td>5</td><td>2</td></tr>\n",
       "\t<tr><td>6</td><td>2</td></tr>\n",
       "\t<tr><td>1</td><td>3</td></tr>\n",
       "\t<tr><td>2</td><td>3</td></tr>\n",
       "\t<tr><td>3</td><td>3</td></tr>\n",
       "\t<tr><td>4</td><td>3</td></tr>\n",
       "\t<tr><td>5</td><td>3</td></tr>\n",
       "\t<tr><td>6</td><td>3</td></tr>\n",
       "\t<tr><td>1</td><td>4</td></tr>\n",
       "\t<tr><td>2</td><td>4</td></tr>\n",
       "\t<tr><td>3</td><td>4</td></tr>\n",
       "\t<tr><td>4</td><td>4</td></tr>\n",
       "\t<tr><td>5</td><td>4</td></tr>\n",
       "\t<tr><td>6</td><td>4</td></tr>\n",
       "\t<tr><td>1</td><td>5</td></tr>\n",
       "\t<tr><td>2</td><td>5</td></tr>\n",
       "\t<tr><td>3</td><td>5</td></tr>\n",
       "\t<tr><td>4</td><td>5</td></tr>\n",
       "\t<tr><td>5</td><td>5</td></tr>\n",
       "\t<tr><td>6</td><td>5</td></tr>\n",
       "\t<tr><td>1</td><td>6</td></tr>\n",
       "\t<tr><td>2</td><td>6</td></tr>\n",
       "\t<tr><td>3</td><td>6</td></tr>\n",
       "\t<tr><td>4</td><td>6</td></tr>\n",
       "\t<tr><td>5</td><td>6</td></tr>\n",
       "\t<tr><td>6</td><td>6</td></tr>\n",
       "</tbody>\n",
       "</table>\n"
      ],
      "text/latex": [
       "\\begin{tabular}{r|ll}\n",
       " roll1 & roll2\\\\\n",
       "\\hline\n",
       "\t 1 & 1\\\\\n",
       "\t 2 & 1\\\\\n",
       "\t 3 & 1\\\\\n",
       "\t 4 & 1\\\\\n",
       "\t 5 & 1\\\\\n",
       "\t 6 & 1\\\\\n",
       "\t 1 & 2\\\\\n",
       "\t 2 & 2\\\\\n",
       "\t 3 & 2\\\\\n",
       "\t 4 & 2\\\\\n",
       "\t 5 & 2\\\\\n",
       "\t 6 & 2\\\\\n",
       "\t 1 & 3\\\\\n",
       "\t 2 & 3\\\\\n",
       "\t 3 & 3\\\\\n",
       "\t 4 & 3\\\\\n",
       "\t 5 & 3\\\\\n",
       "\t 6 & 3\\\\\n",
       "\t 1 & 4\\\\\n",
       "\t 2 & 4\\\\\n",
       "\t 3 & 4\\\\\n",
       "\t 4 & 4\\\\\n",
       "\t 5 & 4\\\\\n",
       "\t 6 & 4\\\\\n",
       "\t 1 & 5\\\\\n",
       "\t 2 & 5\\\\\n",
       "\t 3 & 5\\\\\n",
       "\t 4 & 5\\\\\n",
       "\t 5 & 5\\\\\n",
       "\t 6 & 5\\\\\n",
       "\t 1 & 6\\\\\n",
       "\t 2 & 6\\\\\n",
       "\t 3 & 6\\\\\n",
       "\t 4 & 6\\\\\n",
       "\t 5 & 6\\\\\n",
       "\t 6 & 6\\\\\n",
       "\\end{tabular}\n"
      ],
      "text/markdown": [
       "\n",
       "| roll1 | roll2 |\n",
       "|---|---|\n",
       "| 1 | 1 |\n",
       "| 2 | 1 |\n",
       "| 3 | 1 |\n",
       "| 4 | 1 |\n",
       "| 5 | 1 |\n",
       "| 6 | 1 |\n",
       "| 1 | 2 |\n",
       "| 2 | 2 |\n",
       "| 3 | 2 |\n",
       "| 4 | 2 |\n",
       "| 5 | 2 |\n",
       "| 6 | 2 |\n",
       "| 1 | 3 |\n",
       "| 2 | 3 |\n",
       "| 3 | 3 |\n",
       "| 4 | 3 |\n",
       "| 5 | 3 |\n",
       "| 6 | 3 |\n",
       "| 1 | 4 |\n",
       "| 2 | 4 |\n",
       "| 3 | 4 |\n",
       "| 4 | 4 |\n",
       "| 5 | 4 |\n",
       "| 6 | 4 |\n",
       "| 1 | 5 |\n",
       "| 2 | 5 |\n",
       "| 3 | 5 |\n",
       "| 4 | 5 |\n",
       "| 5 | 5 |\n",
       "| 6 | 5 |\n",
       "| 1 | 6 |\n",
       "| 2 | 6 |\n",
       "| 3 | 6 |\n",
       "| 4 | 6 |\n",
       "| 5 | 6 |\n",
       "| 6 | 6 |\n",
       "\n"
      ],
      "text/plain": [
       "   roll1 roll2\n",
       "1  1     1    \n",
       "2  2     1    \n",
       "3  3     1    \n",
       "4  4     1    \n",
       "5  5     1    \n",
       "6  6     1    \n",
       "7  1     2    \n",
       "8  2     2    \n",
       "9  3     2    \n",
       "10 4     2    \n",
       "11 5     2    \n",
       "12 6     2    \n",
       "13 1     3    \n",
       "14 2     3    \n",
       "15 3     3    \n",
       "16 4     3    \n",
       "17 5     3    \n",
       "18 6     3    \n",
       "19 1     4    \n",
       "20 2     4    \n",
       "21 3     4    \n",
       "22 4     4    \n",
       "23 5     4    \n",
       "24 6     4    \n",
       "25 1     5    \n",
       "26 2     5    \n",
       "27 3     5    \n",
       "28 4     5    \n",
       "29 5     5    \n",
       "30 6     5    \n",
       "31 1     6    \n",
       "32 2     6    \n",
       "33 3     6    \n",
       "34 4     6    \n",
       "35 5     6    \n",
       "36 6     6    "
      ]
     },
     "metadata": {},
     "output_type": "display_data"
    }
   ],
   "source": [
    "  \n",
    "## list all possible combinations, call this rolls\n",
    "rolls <- expand.grid(\"roll1\"=die, \"roll2\"=die)\n",
    "\n",
    "## Take a look at what rolls looks like, it is a list of combinations with column names roll1 and roll2 \n",
    "# rolls is a dataset with two columns\n",
    "rolls"
   ]
  },
  {
   "cell_type": "code",
   "execution_count": 3,
   "id": "fe41dd6c",
   "metadata": {},
   "outputs": [
    {
     "data": {
      "text/html": [
       "<table>\n",
       "<thead><tr><th scope=col>roll1</th><th scope=col>roll2</th><th scope=col>M</th></tr></thead>\n",
       "<tbody>\n",
       "\t<tr><td>1 </td><td>1 </td><td> 2</td></tr>\n",
       "\t<tr><td>2 </td><td>1 </td><td> 3</td></tr>\n",
       "\t<tr><td>3 </td><td>1 </td><td> 4</td></tr>\n",
       "\t<tr><td>4 </td><td>1 </td><td> 5</td></tr>\n",
       "\t<tr><td>5 </td><td>1 </td><td> 6</td></tr>\n",
       "\t<tr><td>6 </td><td>1 </td><td> 7</td></tr>\n",
       "\t<tr><td>1 </td><td>2 </td><td> 3</td></tr>\n",
       "\t<tr><td>2 </td><td>2 </td><td> 4</td></tr>\n",
       "\t<tr><td>3 </td><td>2 </td><td> 5</td></tr>\n",
       "\t<tr><td>4 </td><td>2 </td><td> 6</td></tr>\n",
       "\t<tr><td>5 </td><td>2 </td><td> 7</td></tr>\n",
       "\t<tr><td>6 </td><td>2 </td><td> 8</td></tr>\n",
       "\t<tr><td>1 </td><td>3 </td><td> 4</td></tr>\n",
       "\t<tr><td>2 </td><td>3 </td><td> 5</td></tr>\n",
       "\t<tr><td>3 </td><td>3 </td><td> 6</td></tr>\n",
       "\t<tr><td>4 </td><td>3 </td><td> 7</td></tr>\n",
       "\t<tr><td>5 </td><td>3 </td><td> 8</td></tr>\n",
       "\t<tr><td>6 </td><td>3 </td><td> 9</td></tr>\n",
       "\t<tr><td>1 </td><td>4 </td><td> 5</td></tr>\n",
       "\t<tr><td>2 </td><td>4 </td><td> 6</td></tr>\n",
       "\t<tr><td>3 </td><td>4 </td><td> 7</td></tr>\n",
       "\t<tr><td>4 </td><td>4 </td><td> 8</td></tr>\n",
       "\t<tr><td>5 </td><td>4 </td><td> 9</td></tr>\n",
       "\t<tr><td>6 </td><td>4 </td><td>10</td></tr>\n",
       "\t<tr><td>1 </td><td>5 </td><td> 6</td></tr>\n",
       "\t<tr><td>2 </td><td>5 </td><td> 7</td></tr>\n",
       "\t<tr><td>3 </td><td>5 </td><td> 8</td></tr>\n",
       "\t<tr><td>4 </td><td>5 </td><td> 9</td></tr>\n",
       "\t<tr><td>5 </td><td>5 </td><td>10</td></tr>\n",
       "\t<tr><td>6 </td><td>5 </td><td>11</td></tr>\n",
       "\t<tr><td>1 </td><td>6 </td><td> 7</td></tr>\n",
       "\t<tr><td>2 </td><td>6 </td><td> 8</td></tr>\n",
       "\t<tr><td>3 </td><td>6 </td><td> 9</td></tr>\n",
       "\t<tr><td>4 </td><td>6 </td><td>10</td></tr>\n",
       "\t<tr><td>5 </td><td>6 </td><td>11</td></tr>\n",
       "\t<tr><td>6 </td><td>6 </td><td>12</td></tr>\n",
       "</tbody>\n",
       "</table>\n"
      ],
      "text/latex": [
       "\\begin{tabular}{r|lll}\n",
       " roll1 & roll2 & M\\\\\n",
       "\\hline\n",
       "\t 1  & 1  &  2\\\\\n",
       "\t 2  & 1  &  3\\\\\n",
       "\t 3  & 1  &  4\\\\\n",
       "\t 4  & 1  &  5\\\\\n",
       "\t 5  & 1  &  6\\\\\n",
       "\t 6  & 1  &  7\\\\\n",
       "\t 1  & 2  &  3\\\\\n",
       "\t 2  & 2  &  4\\\\\n",
       "\t 3  & 2  &  5\\\\\n",
       "\t 4  & 2  &  6\\\\\n",
       "\t 5  & 2  &  7\\\\\n",
       "\t 6  & 2  &  8\\\\\n",
       "\t 1  & 3  &  4\\\\\n",
       "\t 2  & 3  &  5\\\\\n",
       "\t 3  & 3  &  6\\\\\n",
       "\t 4  & 3  &  7\\\\\n",
       "\t 5  & 3  &  8\\\\\n",
       "\t 6  & 3  &  9\\\\\n",
       "\t 1  & 4  &  5\\\\\n",
       "\t 2  & 4  &  6\\\\\n",
       "\t 3  & 4  &  7\\\\\n",
       "\t 4  & 4  &  8\\\\\n",
       "\t 5  & 4  &  9\\\\\n",
       "\t 6  & 4  & 10\\\\\n",
       "\t 1  & 5  &  6\\\\\n",
       "\t 2  & 5  &  7\\\\\n",
       "\t 3  & 5  &  8\\\\\n",
       "\t 4  & 5  &  9\\\\\n",
       "\t 5  & 5  & 10\\\\\n",
       "\t 6  & 5  & 11\\\\\n",
       "\t 1  & 6  &  7\\\\\n",
       "\t 2  & 6  &  8\\\\\n",
       "\t 3  & 6  &  9\\\\\n",
       "\t 4  & 6  & 10\\\\\n",
       "\t 5  & 6  & 11\\\\\n",
       "\t 6  & 6  & 12\\\\\n",
       "\\end{tabular}\n"
      ],
      "text/markdown": [
       "\n",
       "| roll1 | roll2 | M |\n",
       "|---|---|---|\n",
       "| 1  | 1  |  2 |\n",
       "| 2  | 1  |  3 |\n",
       "| 3  | 1  |  4 |\n",
       "| 4  | 1  |  5 |\n",
       "| 5  | 1  |  6 |\n",
       "| 6  | 1  |  7 |\n",
       "| 1  | 2  |  3 |\n",
       "| 2  | 2  |  4 |\n",
       "| 3  | 2  |  5 |\n",
       "| 4  | 2  |  6 |\n",
       "| 5  | 2  |  7 |\n",
       "| 6  | 2  |  8 |\n",
       "| 1  | 3  |  4 |\n",
       "| 2  | 3  |  5 |\n",
       "| 3  | 3  |  6 |\n",
       "| 4  | 3  |  7 |\n",
       "| 5  | 3  |  8 |\n",
       "| 6  | 3  |  9 |\n",
       "| 1  | 4  |  5 |\n",
       "| 2  | 4  |  6 |\n",
       "| 3  | 4  |  7 |\n",
       "| 4  | 4  |  8 |\n",
       "| 5  | 4  |  9 |\n",
       "| 6  | 4  | 10 |\n",
       "| 1  | 5  |  6 |\n",
       "| 2  | 5  |  7 |\n",
       "| 3  | 5  |  8 |\n",
       "| 4  | 5  |  9 |\n",
       "| 5  | 5  | 10 |\n",
       "| 6  | 5  | 11 |\n",
       "| 1  | 6  |  7 |\n",
       "| 2  | 6  |  8 |\n",
       "| 3  | 6  |  9 |\n",
       "| 4  | 6  | 10 |\n",
       "| 5  | 6  | 11 |\n",
       "| 6  | 6  | 12 |\n",
       "\n"
      ],
      "text/plain": [
       "   roll1 roll2 M \n",
       "1  1     1      2\n",
       "2  2     1      3\n",
       "3  3     1      4\n",
       "4  4     1      5\n",
       "5  5     1      6\n",
       "6  6     1      7\n",
       "7  1     2      3\n",
       "8  2     2      4\n",
       "9  3     2      5\n",
       "10 4     2      6\n",
       "11 5     2      7\n",
       "12 6     2      8\n",
       "13 1     3      4\n",
       "14 2     3      5\n",
       "15 3     3      6\n",
       "16 4     3      7\n",
       "17 5     3      8\n",
       "18 6     3      9\n",
       "19 1     4      5\n",
       "20 2     4      6\n",
       "21 3     4      7\n",
       "22 4     4      8\n",
       "23 5     4      9\n",
       "24 6     4     10\n",
       "25 1     5      6\n",
       "26 2     5      7\n",
       "27 3     5      8\n",
       "28 4     5      9\n",
       "29 5     5     10\n",
       "30 6     5     11\n",
       "31 1     6      7\n",
       "32 2     6      8\n",
       "33 3     6      9\n",
       "34 4     6     10\n",
       "35 5     6     11\n",
       "36 6     6     12"
      ]
     },
     "metadata": {},
     "output_type": "display_data"
    }
   ],
   "source": [
    "## create M, the sum of the two die\n",
    "# Use $ to access the individual columns and to specify a new column M\n",
    "\n",
    "rolls$M <-  rolls$roll1 + rolls$roll2  \n",
    "\n",
    "# display by typing the name of the object/dataset\n",
    "rolls"
   ]
  },
  {
   "cell_type": "code",
   "execution_count": 4,
   "id": "38f2a344",
   "metadata": {},
   "outputs": [
    {
     "data": {
      "text/html": [
       "<table>\n",
       "<thead><tr><th scope=col>Var1</th><th scope=col>Freq</th></tr></thead>\n",
       "<tbody>\n",
       "\t<tr><td>2 </td><td>1 </td></tr>\n",
       "\t<tr><td>3 </td><td>2 </td></tr>\n",
       "\t<tr><td>4 </td><td>3 </td></tr>\n",
       "\t<tr><td>5 </td><td>4 </td></tr>\n",
       "\t<tr><td>6 </td><td>5 </td></tr>\n",
       "\t<tr><td>7 </td><td>6 </td></tr>\n",
       "\t<tr><td>8 </td><td>5 </td></tr>\n",
       "\t<tr><td>9 </td><td>4 </td></tr>\n",
       "\t<tr><td>10</td><td>3 </td></tr>\n",
       "\t<tr><td>11</td><td>2 </td></tr>\n",
       "\t<tr><td>12</td><td>1 </td></tr>\n",
       "</tbody>\n",
       "</table>\n"
      ],
      "text/latex": [
       "\\begin{tabular}{r|ll}\n",
       " Var1 & Freq\\\\\n",
       "\\hline\n",
       "\t 2  & 1 \\\\\n",
       "\t 3  & 2 \\\\\n",
       "\t 4  & 3 \\\\\n",
       "\t 5  & 4 \\\\\n",
       "\t 6  & 5 \\\\\n",
       "\t 7  & 6 \\\\\n",
       "\t 8  & 5 \\\\\n",
       "\t 9  & 4 \\\\\n",
       "\t 10 & 3 \\\\\n",
       "\t 11 & 2 \\\\\n",
       "\t 12 & 1 \\\\\n",
       "\\end{tabular}\n"
      ],
      "text/markdown": [
       "\n",
       "| Var1 | Freq |\n",
       "|---|---|\n",
       "| 2  | 1  |\n",
       "| 3  | 2  |\n",
       "| 4  | 3  |\n",
       "| 5  | 4  |\n",
       "| 6  | 5  |\n",
       "| 7  | 6  |\n",
       "| 8  | 5  |\n",
       "| 9  | 4  |\n",
       "| 10 | 3  |\n",
       "| 11 | 2  |\n",
       "| 12 | 1  |\n",
       "\n"
      ],
      "text/plain": [
       "   Var1 Freq\n",
       "1  2    1   \n",
       "2  3    2   \n",
       "3  4    3   \n",
       "4  5    4   \n",
       "5  6    5   \n",
       "6  7    6   \n",
       "7  8    5   \n",
       "8  9    4   \n",
       "9  10   3   \n",
       "10 11   2   \n",
       "11 12   1   "
      ]
     },
     "metadata": {},
     "output_type": "display_data"
    }
   ],
   "source": [
    "## create a table of the counts at each combination\n",
    "# the table() function creates a frequency table from the column of data \n",
    "w = table(rolls$M)\n",
    "\n",
    "## create a data frame with var1 as the sum M and Freq as the number of outcomes \n",
    "# Like a dataset in STATA rows are preserved and labels are assigned to the columns\n",
    "t = as.data.frame(w) \n",
    "t"
   ]
  },
  {
   "cell_type": "code",
   "execution_count": 7,
   "id": "d1159862",
   "metadata": {},
   "outputs": [
    {
     "data": {
      "text/html": [
       "<table>\n",
       "<thead><tr><th scope=col>Var1</th><th scope=col>Freq</th><th scope=col>prob</th><th scope=col>M</th></tr></thead>\n",
       "<tbody>\n",
       "\t<tr><td> 2        </td><td>1         </td><td>0.02777778</td><td> 2        </td></tr>\n",
       "\t<tr><td> 3        </td><td>2         </td><td>0.05555556</td><td> 3        </td></tr>\n",
       "\t<tr><td> 4        </td><td>3         </td><td>0.08333333</td><td> 4        </td></tr>\n",
       "\t<tr><td> 5        </td><td>4         </td><td>0.11111111</td><td> 5        </td></tr>\n",
       "\t<tr><td> 6        </td><td>5         </td><td>0.13888889</td><td> 6        </td></tr>\n",
       "\t<tr><td> 7        </td><td>6         </td><td>0.16666667</td><td> 7        </td></tr>\n",
       "\t<tr><td> 8        </td><td>5         </td><td>0.13888889</td><td> 8        </td></tr>\n",
       "\t<tr><td> 9        </td><td>4         </td><td>0.11111111</td><td> 9        </td></tr>\n",
       "\t<tr><td>10        </td><td>3         </td><td>0.08333333</td><td>10        </td></tr>\n",
       "\t<tr><td>11        </td><td>2         </td><td>0.05555556</td><td>11        </td></tr>\n",
       "\t<tr><td>12        </td><td>1         </td><td>0.02777778</td><td>12        </td></tr>\n",
       "</tbody>\n",
       "</table>\n"
      ],
      "text/latex": [
       "\\begin{tabular}{r|llll}\n",
       " Var1 & Freq & prob & M\\\\\n",
       "\\hline\n",
       "\t  2         & 1          & 0.02777778 &  2        \\\\\n",
       "\t  3         & 2          & 0.05555556 &  3        \\\\\n",
       "\t  4         & 3          & 0.08333333 &  4        \\\\\n",
       "\t  5         & 4          & 0.11111111 &  5        \\\\\n",
       "\t  6         & 5          & 0.13888889 &  6        \\\\\n",
       "\t  7         & 6          & 0.16666667 &  7        \\\\\n",
       "\t  8         & 5          & 0.13888889 &  8        \\\\\n",
       "\t  9         & 4          & 0.11111111 &  9        \\\\\n",
       "\t 10         & 3          & 0.08333333 & 10        \\\\\n",
       "\t 11         & 2          & 0.05555556 & 11        \\\\\n",
       "\t 12         & 1          & 0.02777778 & 12        \\\\\n",
       "\\end{tabular}\n"
      ],
      "text/markdown": [
       "\n",
       "| Var1 | Freq | prob | M |\n",
       "|---|---|---|---|\n",
       "|  2         | 1          | 0.02777778 |  2         |\n",
       "|  3         | 2          | 0.05555556 |  3         |\n",
       "|  4         | 3          | 0.08333333 |  4         |\n",
       "|  5         | 4          | 0.11111111 |  5         |\n",
       "|  6         | 5          | 0.13888889 |  6         |\n",
       "|  7         | 6          | 0.16666667 |  7         |\n",
       "|  8         | 5          | 0.13888889 |  8         |\n",
       "|  9         | 4          | 0.11111111 |  9         |\n",
       "| 10         | 3          | 0.08333333 | 10         |\n",
       "| 11         | 2          | 0.05555556 | 11         |\n",
       "| 12         | 1          | 0.02777778 | 12         |\n",
       "\n"
      ],
      "text/plain": [
       "   Var1 Freq prob       M \n",
       "1   2   1    0.02777778  2\n",
       "2   3   2    0.05555556  3\n",
       "3   4   3    0.08333333  4\n",
       "4   5   4    0.11111111  5\n",
       "5   6   5    0.13888889  6\n",
       "6   7   6    0.16666667  7\n",
       "7   8   5    0.13888889  8\n",
       "8   9   4    0.11111111  9\n",
       "9  10   3    0.08333333 10\n",
       "10 11   2    0.05555556 11\n",
       "11 12   1    0.02777778 12"
      ]
     },
     "metadata": {},
     "output_type": "display_data"
    }
   ],
   "source": [
    "# We need the data as a number so we will convert it using as.numeric:\n",
    "#t$Var1 <- as.numeric(t$Var1)+1\n",
    "\n",
    "## calculate probabilities, the frequencies in the table can be accessed using t$Freq\n",
    "# to get the probabilities you need to divide the frequency by the total number of possible outcomes\n",
    "\n",
    "t$prob <-  t$Freq/sum(t$Freq)\n",
    "# the sum() function adds all of the elements in the Freq column of the t table \n",
    "\n",
    "## Let's look at the table\n",
    "t\n",
    "\n",
    "t$M <- c(2:12)\n",
    "## We could also relabel the first column using colnames(table)[1] = \"M\""
   ]
  },
  {
   "cell_type": "code",
   "execution_count": null,
   "id": "16cbd5c7",
   "metadata": {},
   "outputs": [],
   "source": [
    "## use function to answer the question by summing the probabilities of all outcomes where M = 7. \n",
    "# we use square brackets to subset the data based on the condition within the brackets\n",
    "\n",
    "# Prob(M=7)\n",
    "prob <- t$prob[t$Var1==7]\n",
    "\n",
    "## DO NOT EDIT THIS LINE - it is to display your answer\n",
    "print(paste('Pr(M=7) =', round(prob,3)))"
   ]
  },
  {
   "cell_type": "markdown",
   "id": "0e4d83d0",
   "metadata": {},
   "source": [
    "# Question 1 a)\n",
    "\n",
    "## Now it's your turn!\n",
    "\n",
    "In the block below write R code to evaluate Pr(M=2 or M=10)"
   ]
  },
  {
   "cell_type": "code",
   "execution_count": null,
   "id": "6afef647",
   "metadata": {
    "scrolled": true
   },
   "outputs": [],
   "source": [
    "# Enter your code below\n",
    "\n",
    "## use function to answer the question by summing the probabilities of all outcomes where M = 2 or M = 10. \n",
    "prob_a <- t$prob[t$Var1== 2] + t$prob[t$Var1== 10]\n",
    "\n",
    "## DO NOT EDIT THIS LINE - it is to display your answer\n",
    "print(paste('Pr(M=2 or M=10) =', prob_a))\n"
   ]
  },
  {
   "cell_type": "markdown",
   "id": "3978bba9",
   "metadata": {},
   "source": [
    "M = 2 and M = 10 are *mutually exclusive* events.  The probability of either M = 2 or M = 10 is the union, where the intersection is 0.\n",
    "\n",
    "$ P(M=2 \\cup M=10) = P(M=2) + P(M=10) - P(M=2 \\cap M=10) = P(M=2) + P(M=10) $"
   ]
  },
  {
   "cell_type": "markdown",
   "id": "2a501d36",
   "metadata": {},
   "source": [
    "## 1 b)\n",
    "\n",
    "In the block below write R code to evaluate Pr(M=4 or M $\\neq$ 10)"
   ]
  },
  {
   "cell_type": "code",
   "execution_count": null,
   "id": "c1864dee",
   "metadata": {},
   "outputs": [],
   "source": [
    "# Enter your code below\n",
    "t$prob[t$Var1!=10]"
   ]
  },
  {
   "cell_type": "code",
   "execution_count": null,
   "id": "0aca220e",
   "metadata": {},
   "outputs": [],
   "source": [
    "## use function to answer the question by summing the probabilities of all outcomes where M = 4 or M != 10. \n",
    "# prob_b <- sum(t$prob[t$Var1!=10])\n",
    "\n",
    "# Equivalent solutions\n",
    "prob_b <- (1 - t$prob[t$Var1 == 10])\n",
    "\n",
    "# | can be used to specify OR\n",
    "# prob_b <- sum(t$prob[t$Var1==4 | t$Var1 != 10])  \n",
    "\n",
    "## DO NOT EDIT THIS LINE - it is to display your answer\n",
    "print(paste('Pr(M=4 or M!=10) =', round(prob_b,3)))"
   ]
  },
  {
   "cell_type": "markdown",
   "id": "97187966",
   "metadata": {},
   "source": [
    "M = 4 is a *subset* of M != 10, therefore these events are not independent."
   ]
  },
  {
   "cell_type": "markdown",
   "id": "df1bc9a6",
   "metadata": {},
   "source": [
    "# 1 c)\n",
    "\n",
    "In the block below write R code to evaluate Pr(M = 6 and M = 10)"
   ]
  },
  {
   "cell_type": "code",
   "execution_count": null,
   "id": "98de76ca",
   "metadata": {},
   "outputs": [],
   "source": [
    "# Enter your code below\n",
    "\n",
    "## use function to answer the question by summing the probabilities of all outcomes where\n",
    "## M = 6 and M = 10. \n",
    "prob_c <- sum(t$prob[t$Var1==6 & t$Var1 == 10])\n",
    "\n",
    "## DO NOT EDIT THIS LINE - it is to display your answer\n",
    "print(paste('Pr(M=6 and M=10) =', prob_c))"
   ]
  },
  {
   "cell_type": "markdown",
   "id": "ff0fc49c",
   "metadata": {},
   "source": [
    "M = 6 and M = 10 are *mutually exclusive* events.  The probability of either M = 6 and M = 10 is the intersection, which is 0.\n",
    "\n",
    "$ P(M=6 \\cap M=10) = 0 $"
   ]
  },
  {
   "cell_type": "markdown",
   "id": "f2cb6ca4",
   "metadata": {},
   "source": [
    "# 1 d)\n",
    "\n",
    "In the block below write R code to evaluate Pr(M < 8)"
   ]
  },
  {
   "cell_type": "code",
   "execution_count": null,
   "id": "98610771",
   "metadata": {},
   "outputs": [],
   "source": [
    "# Enter your code below\n",
    "\n",
    "## use function to answer the question by summing the probabilities of all outcomes where M < 8.\n",
    "prob_d <- sum(t$prob[t$Var1 < 8])\n",
    "\n",
    "## DO NOT EDIT THIS LINE - it is to display your answer\n",
    "print(paste('Pr(M<8) =', prob_d))"
   ]
  },
  {
   "cell_type": "markdown",
   "id": "4d2faf7e",
   "metadata": {},
   "source": [
    "# Question 2\n",
    "\n",
    "Calculate the expected sum of the dots when rolling two die in Q1.\n",
    "\n",
    "Recall that the expected value can be computed as\n",
    "\n",
    "$ E[Y] = \\Sigma_y Pr(Y=y)\\times y $"
   ]
  },
  {
   "cell_type": "code",
   "execution_count": null,
   "id": "c0c6ce99",
   "metadata": {},
   "outputs": [],
   "source": [
    "# Enter your code here\n",
    "\n",
    "# You may want to use the sum() function to add up the values\n",
    "\n",
    "mean <- sum(t$prob*t$Var1)\n",
    "\n",
    "print(paste('The mean is', mean))\n"
   ]
  },
  {
   "cell_type": "markdown",
   "id": "582ff78d",
   "metadata": {},
   "source": [
    "Now calculate the variance and standard deviation \n",
    "\n",
    "Recall that the variance can be computed as\n",
    "\n",
    "$ Var(Y) = \\Sigma_y Pr(Y=y)\\times (y - E[Y])^2 $"
   ]
  },
  {
   "cell_type": "code",
   "execution_count": null,
   "id": "7094196d",
   "metadata": {},
   "outputs": [],
   "source": [
    "# Enter your code here\n",
    "\n",
    "variance <- sum(t$prob*((t$Var1-mean)^2))\n",
    "\n",
    "print(paste('The variance is', round(variance,3)))\n",
    "\n",
    "\n",
    "# Take the square root of the variance to calculate the standard deviation using the sqrt() function \n",
    "\n",
    "sd <- sqrt(variance)\n",
    "               \n",
    "print(paste('The standard deviation is', round(sd,3)))              "
   ]
  },
  {
   "cell_type": "markdown",
   "id": "cd61052d",
   "metadata": {},
   "source": [
    "### What have you learnt?\n",
    "\n",
    "#### Useful code"
   ]
  },
  {
   "cell_type": "code",
   "execution_count": null,
   "id": "5c689131",
   "metadata": {},
   "outputs": [],
   "source": [
    "t$Var1 # using the $ sign to access a column in a dataset\n",
    "\n",
    "t$Var1 + t$Var2 # summing columns \n",
    "\n",
    "t$prob[t$Var1 == 2] # using square brackets to subset rows of a column based on conditions for another column\n",
    "\n",
    "sum(t$Var1) # summing data in a column\n",
    "\n",
    "sum(t$Var1 + t$Var2) # summing the rows after summing the columns\n",
    "\n",
    "mean() # calculating the mean\n",
    "\n",
    "sd() # calculating the standard deviation\n",
    "\n",
    "print() # printing outputs to the console below the code cell\n",
    "\n",
    "#### Additional code ####\n",
    "\n",
    "cat() # concatenation of strings and variables\n",
    "\n",
    "table() # creating a frequency table for discrete data\n",
    "\n",
    "as.data.frame # creating a data frame (to preserve rows)\n",
    "\n",
    "expand.grid() # listing all of the combinations of outcomes as two columns "
   ]
  },
  {
   "cell_type": "code",
   "execution_count": null,
   "id": "51606bdc",
   "metadata": {},
   "outputs": [],
   "source": [
    "# Marking script\n",
    "\n",
    "answers = c(0.1111111, 0.917, 0, 0.5833, 6, 5.83333333333333, 2.41522945769824)\n",
    "submit = c(prob_a, prob_b, prob_c, prob_d, mean, variance, sd)\n",
    "\n",
    "sum(round(answers,4) == round(submit,4))"
   ]
  }
 ],
 "metadata": {
  "kernelspec": {
   "display_name": "R",
   "language": "R",
   "name": "ir"
  },
  "language_info": {
   "codemirror_mode": "r",
   "file_extension": ".r",
   "mimetype": "text/x-r-source",
   "name": "R",
   "pygments_lexer": "r",
   "version": "3.6.1"
  }
 },
 "nbformat": 4,
 "nbformat_minor": 5
}
