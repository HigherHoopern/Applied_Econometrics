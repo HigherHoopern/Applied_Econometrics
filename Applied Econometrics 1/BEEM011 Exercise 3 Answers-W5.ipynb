{
 "cells": [
  {
   "cell_type": "markdown",
   "id": "9679f821",
   "metadata": {},
   "source": [
    "## BEEM011 Exercise 3: Week 4\n",
    "\n",
    "Amy Binner and Eva Poen\n",
    "\n",
    "Answers"
   ]
  },
  {
   "cell_type": "markdown",
   "id": "a04c1d94",
   "metadata": {},
   "source": [
    "## Useful R code\n",
    "\n",
    "INSTALLING A PACKAGE AND ADDING TO LIBRARY\n",
    "\n",
    "install.packages(“AER”)  # to install a package for the first time\n",
    "\n",
    "library(AER) # to load a package into the notebook\n",
    "\n",
    "data(“CASchools”) # loading the CASchools dataset\n",
    "\n",
    "SCATTERPLOT\n",
    "\n",
    "plot(y~x, main = \"example scatterplot\", xlab=\"x\", ylab=\"y\") # y on the y-axis, x on the x-axis, main is the title, xlab and ylab                                                             # are axis labels\n",
    "\n",
    "LINEAR REGRESSION\n",
    "\n",
    "reg <- lm(y~x,data =mydata) # lm( ) is the linear regression model function, y$\\text{~x}$ means variable y regressed on variable x\n",
    "\n",
    "summary(reg) # Displays summary output from the regression object reg\n",
    "\n",
    "PLOTTING RESIDUALS\n",
    "\n",
    "plot(reg$residuals) # plots the residuals from the regression stored in object reg\n"
   ]
  },
  {
   "cell_type": "markdown",
   "id": "63944fe4",
   "metadata": {},
   "source": [
    "# Question 1 a)\n",
    "\n",
    "Install and load the “AER” package to load the CASchools dataset containing data on test performance, school characteristics and student demographic backgrounds for 420 school districts in California. \n",
    "\n",
    "Plot the average reading score (read) on the average math score (math). \n"
   ]
  },
  {
   "cell_type": "code",
   "execution_count": 5,
   "id": "db0ea79c",
   "metadata": {},
   "outputs": [
    {
     "name": "stdout",
     "output_type": "stream",
     "text": [
      "\n",
      "  There is a binary version available but the source version is later:\n",
      "    binary source needs_compilation\n",
      "AER  1.2-9 1.2-10             FALSE\n",
      "\n"
     ]
    },
    {
     "name": "stderr",
     "output_type": "stream",
     "text": [
      "installing the source package 'AER'\n",
      "\n"
     ]
    },
    {
     "data": {
      "text/plain": [
       "NULL"
      ]
     },
     "metadata": {},
     "output_type": "display_data"
    },
    {
     "data": {
      "image/png": "[encoded data removed]",
      "text/plain": [
       "plot without title"
      ]
     },
     "metadata": {},
     "output_type": "display_data"
    }
   ],
   "source": [
    "## Edit the code below \n",
    "# Header: Exercise 3 \n",
    "# Author: \n",
    "# Date:\n",
    "# Candidate number:\n",
    "\n",
    "# install.packages(\"AER\")\n",
    "library(AER)\n",
    "# Load the data - the name of the dataset when loaded into R is CASchools\n",
    "# use this name in any subsequent commands\n",
    "data(\"CASchools\")\n",
    "\n",
    "# Set the plot size\n",
    "# Change plot size to 4 x 3\n",
    "options(repr.plot.width=6, repr.plot.height=4)\n",
    "\n",
    "# Plot the average reading score (read) on the average math score (math).\n",
    "# Enter the missing code below\n",
    "plot1 <- plot(read~math, data = CASchools)\n",
    "plot1"
   ]
  },
  {
   "cell_type": "markdown",
   "id": "487b0d0b",
   "metadata": {},
   "source": [
    "What do you observe?\n",
    "\n",
    "#### Write your answer here (double click to edit)\n",
    "\n",
    "It seems that Math and Reading Test Scores are strongly positively correlated. Adding a 45-degree line (where the intercept is zero and the slope is one) across the data points seems to suggest the relationship is close to unity; that is, a one-unit increase in Math Test Score is associated with about 1 unit increase in Read Test Score."
   ]
  },
  {
   "cell_type": "markdown",
   "id": "e93ea180",
   "metadata": {},
   "source": [
    "## 1 b)\t\n",
    "\n",
    "Run a regression of the average reading score (read) on the average math score (math). \n",
    "\n",
    "What values for the slope and the intercept would you expect? "
   ]
  },
  {
   "cell_type": "code",
   "execution_count": 6,
   "id": "5975338b",
   "metadata": {},
   "outputs": [
    {
     "data": {
      "text/plain": [
       "\n",
       "Call:\n",
       "lm(formula = read ~ math, data = CASchools)\n",
       "\n",
       "Residuals:\n",
       "     Min       1Q   Median       3Q      Max \n",
       "-23.4177  -5.9684  -0.3576   4.9779  28.8554 \n",
       "\n",
       "Coefficients:\n",
       "            Estimate Std. Error t value Pr(>|t|)    \n",
       "(Intercept)  8.47397   13.19783   0.642    0.521    \n",
       "math         0.98952    0.02019  49.005   <2e-16 ***\n",
       "---\n",
       "Signif. codes:  0 '***' 0.001 '**' 0.01 '*' 0.05 '.' 0.1 ' ' 1\n",
       "\n",
       "Residual standard error: 7.752 on 418 degrees of freedom\n",
       "Multiple R-squared:  0.8517,\tAdjusted R-squared:  0.8514 \n",
       "F-statistic:  2402 on 1 and 418 DF,  p-value: < 2.2e-16\n"
      ]
     },
     "metadata": {},
     "output_type": "display_data"
    }
   ],
   "source": [
    "# Run a regression of read on math\n",
    "reg1 <- lm(read~math, data=CASchools)\n",
    "\n",
    "summary(reg1)"
   ]
  },
  {
   "cell_type": "code",
   "execution_count": 7,
   "id": "15ce7b7b",
   "metadata": {},
   "outputs": [
    {
     "name": "stdout",
     "output_type": "stream",
     "text": [
      "\n",
      "===============================================\n",
      "                        Dependent variable:    \n",
      "                    ---------------------------\n",
      "                               read            \n",
      "-----------------------------------------------\n",
      "math                          0.99***          \n",
      "                              (0.02)           \n",
      "                             p = 0.00          \n",
      "                                               \n",
      "Constant                       8.47            \n",
      "                              (13.20)          \n",
      "                             p = 0.53          \n",
      "                                               \n",
      "-----------------------------------------------\n",
      "Observations                    420            \n",
      "R2                             0.85            \n",
      "Adjusted R2                    0.85            \n",
      "Residual Std. Error       7.75 (df = 418)      \n",
      "F Statistic          2,401.51*** (df = 1; 418) \n",
      "===============================================\n",
      "Note:               *p<0.1; **p<0.05; ***p<0.01\n"
     ]
    }
   ],
   "source": [
    "# Make this look prettier with stargazer\n",
    "library(stargazer)\n",
    "stargazer(reg1, type=\"text\", digits = 2, report=(\"vc*sp\"))"
   ]
  },
  {
   "cell_type": "markdown",
   "id": "1d4ea986",
   "metadata": {},
   "source": [
    "# 1 c)\n",
    "\n",
    "Interpret the coefficient on math from your output\n",
    "\n",
    "#### Write your interpretation here (double click to edit)\n",
    "You should comment on the sign, magnitude and units \n",
    "\n",
    "On average, it would seem plausible, a priori, that schools which score high on the math score would also do well in the reading score. To be exact, the parameter estimates suggest that a 1 point increase in Math Test Scores is associated with 0.99 point increase in Reading Test Scores. Perhaps an underlying variable, such as genes, parental interest, or the quality of teachers, is driving results in both. (we will get back to this issue in Week 5 when we discuss omitted variable bias in causal inference). The relationship is close to the 45-degree line. "
   ]
  },
  {
   "cell_type": "markdown",
   "id": "0abc3523",
   "metadata": {},
   "source": [
    "## 1 d)\n",
    "\n",
    "Interpret the regression $R^2$ and the SER. \n",
    "\n",
    "What are their units of measurement?\n",
    "\n",
    "#### Write your answer here\n",
    "\n",
    "R squared shows that 85 percent of the variation in the reading score is explained by our model.\n",
    "\n",
    "The SER or prediction error is 7.752, which implies that, on the average, our predicted Reading Test Scores made by using Math Reading Scores as the sole regressor will be off by 7.752 points. Notice that the unit of measurement is the same as the units of the dependent variable, which is this case is that Standardized Test Score points. \n"
   ]
  },
  {
   "cell_type": "markdown",
   "id": "3e582d94",
   "metadata": {},
   "source": [
    "## 1 e)\n",
    "\n",
    "Plot the residuals. "
   ]
  },
  {
   "cell_type": "code",
   "execution_count": 8,
   "id": "ae41d641",
   "metadata": {},
   "outputs": [
    {
     "data": {
      "text/plain": [
       "NULL"
      ]
     },
     "metadata": {},
     "output_type": "display_data"
    },
    {
     "data": {
      "image/png": "[encoded data removed]",
      "text/plain": [
       "Plot with title \"Residuals after estimating Read = B0 + B1*Math\""
      ]
     },
     "metadata": {},
     "output_type": "display_data"
    }
   ],
   "source": [
    "## Plot the residuals\n",
    "\n",
    "plot2 <- plot(reg1$residuals, main = \"Residuals after estimating Read = B0 + B1*Math\", xlab = \"Observations\", ylab = \"Residuals\") \n",
    "\n",
    "# Add a horizontal line at y = 0\n",
    "abline(h=0, col=\"red\")\n",
    "\n",
    "## DO NOT EDIT\n",
    "plot2"
   ]
  },
  {
   "cell_type": "markdown",
   "id": "e4c85ec5",
   "metadata": {},
   "source": [
    "What do you observe? How do they relate to SER? \n",
    "\n",
    "#### Write your answer here\n",
    "\n",
    "Note that the $ SER =\\sqrt{{1\\over n-2} \\Sigma_{i=1}^n \\hat{\\mu_i}^2}$. Thus, when residuals are generally small, the SER is small. One can verify that, relative to the dependent variable, the residuals are very low (relative to average Reading Test Scores) using the plot above. "
   ]
  },
  {
   "cell_type": "markdown",
   "id": "3cfd43ff",
   "metadata": {},
   "source": [
    "## Question 2 a)\n",
    "\n",
    "The neoclassical growth model predicts that for identical savings rates and population growth rates, countries should converge to the same per capita income level. This is referred to as the convergence hypothesis. One way to test for the presence of convergence is to compare the growth rates over time to the initial starting level.\n",
    "\n",
    "If you regressed the average growth rate over a time period (1960-1990) on the initial level of per capita income, what would the sign of the slope have to be to indicate this type of convergence?\n"
   ]
  },
  {
   "cell_type": "code",
   "execution_count": 8,
   "id": "8573fa1b",
   "metadata": {},
   "outputs": [],
   "source": [
    "## Choose one option as your answer and delete the others\n",
    "\n",
    "sign <- 'positive'\n",
    "sign <- 'negative'\n",
    "sign <- 'zero'\n"
   ]
  },
  {
   "cell_type": "markdown",
   "id": "ff97f06e",
   "metadata": {},
   "source": [
    "#### Enter your explanation here\n",
    "\n",
    "You would require a negative sign. Countries that are far ahead of others at the beginning of the period would have to grow relatively slower for the others to catch up. This represents unconditional convergence, whereas the neoclassical growth model predicts conditional convergence, i.e., there will only be convergence if countries have identical savings, population growth rates, and production technology."
   ]
  },
  {
   "cell_type": "markdown",
   "id": "5606843c",
   "metadata": {},
   "source": [
    "## 2b)\n",
    "\n",
    "b.\tThe results of the regression for 1countries were as follows:\n",
    "\n",
    "  $\\hat{g}_{6090} = 0.019 – 0.0006 × RelProd60 , \tR^2 = 0.00007, SER = 0.016,$\n",
    "\n",
    "where $g_{6090}$ is the average annual growth rate of GDP per worker for the 1960-1990 sample period, and RelProd60 is GDP per worker relative to the United States in 1960.\n",
    "\n",
    "Interpret the results. Is there any evidence of unconditional convergence between the countries of the world? "
   ]
  },
  {
   "cell_type": "markdown",
   "id": "6b5b9a78",
   "metadata": {},
   "source": [
    "#### Write your interpretation here\n",
    "\n",
    "An increase in 10 percentage points in RelProd60 results in a decrease of 0.00006 in the growth rate from 1960 to 1990, i.e., countries that were further ahead in 1960, do grow by less. There are probably some countries in the sample that have a value of RelProd60 close to zero (China, Uganda, Togo, Guinea) and you would expect these countries to grow roughly by 2 percent per year over the sample period. The regression R2 indicates that the regression has virtually no explanatory power. The result is not surprising given that there are not many theories that predict unconditional convergence between the countries of the world. (For a brief summary of the convergence theory, see https://opentextbc.ca/principlesofeconomics/chapter/20-4-economic-convergence/) "
   ]
  },
  {
   "cell_type": "markdown",
   "id": "605b6c64",
   "metadata": {},
   "source": [
    "## 2 c)\n",
    "\n",
    "c.\tYou decide to restrict yourself to the 24 OECD countries in the sample. This changes your regression output as follows:\n",
    "\n",
    " $ \\hat{g}_{6090} = 0.048  – 0.0404 RelProd60 , \tR2 = 0.82 , SER  = 0.0046$\n",
    "\n",
    "How does this result affect your conclusions from above?\n",
    "\n"
   ]
  },
  {
   "cell_type": "markdown",
   "id": "f4394a48",
   "metadata": {},
   "source": [
    "#### Enter your answer here\n",
    "\n",
    "Judging by the size of the slope coefficient, there is strong evidence of unconditional convergence for the OECD countries. The regression $R^2$ is quite high, given that there is only a single explanatory variable in the regression. However, since we do not know the sampling distribution of the estimator in this case, we cannot conduct inference. (In other words, you cannot say whether your estimated parameter is statistically significant or not). "
   ]
  },
  {
   "cell_type": "code",
   "execution_count": null,
   "id": "bb492c4c",
   "metadata": {},
   "outputs": [],
   "source": [
    "## DO NOT EDIT\n",
    "# This section formats your answers for marking\n",
    "answers = c(plot1, plot2, reg1, sign)"
   ]
  }
 ],
 "metadata": {
  "kernelspec": {
   "display_name": "R",
   "language": "R",
   "name": "ir"
  },
  "language_info": {
   "codemirror_mode": "r",
   "file_extension": ".r",
   "mimetype": "text/x-r-source",
   "name": "R",
   "pygments_lexer": "r",
   "version": "3.6.1"
  }
 },
 "nbformat": 4,
 "nbformat_minor": 5
}
