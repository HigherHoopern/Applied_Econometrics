{
 "cells": [
  {
   "cell_type": "markdown",
   "id": "9679f821",
   "metadata": {},
   "source": [
    "## BEEM011 Exercise 4: Week 5\n",
    "\n",
    "Amy Binner and Eva Poen\n",
    "\n",
    "Answers"
   ]
  },
  {
   "cell_type": "markdown",
   "id": "a04c1d94",
   "metadata": {},
   "source": [
    "## Useful R code\n",
    "\n",
    "INSTALLING A PACKAGE AND ADDING TO LIBRARY\n",
    "\n",
    "install.packages(“AER”)\n",
    "\n",
    "library(AER)\n",
    "\n",
    "data(“CASchools”)\n",
    "\n",
    "SCATTERPLOT\n",
    "\n",
    "plot(y~x, main = \"example scatterplot\", xlab=\"x\", ylab=\"y\")\n",
    "\n",
    "LINEAR REGRESSION\n",
    "\n",
    "reg <- lm(y~x,data =mydata)\n",
    "\n",
    "PLOTTING RESIDUALS\n",
    "\n",
    "plot(reg$residuals)\n",
    "\n",
    "CREATING DUMMY VARIABLES\n",
    "\n",
    "ifelse(x>10, 1, 0)\n"
   ]
  },
  {
   "cell_type": "markdown",
   "id": "945816c0",
   "metadata": {},
   "source": [
    "# Question 1 a)\n",
    "\n",
    "Load the AER package into library (by this time, you should have installed the AER package already. If not, run install.packages(“AER”)). If this fails check that you have the R kernel running.  You can change from a Python to an R Kernel by selecting Kernel > Change Kernel >R.  You can also install packages via the powershell prompt.  Open Powershell (terminal on a Mac) and type the following:\n",
    "\n",
    "*conda install -c conda-forge r-AER*"
   ]
  },
  {
   "cell_type": "markdown",
   "id": "63944fe4",
   "metadata": {},
   "source": [
    "Load the dataset using the function data(“CASchools”), this is the dataset used in the lecture. \n",
    "\n",
    "For details, type ?CASchools in your R code cell. \n",
    "\n",
    "Generate the variable student-teacher ratio by dividing students by teachers in the dataset and call this variable str.  "
   ]
  },
  {
   "cell_type": "code",
   "execution_count": 2,
   "id": "db0ea79c",
   "metadata": {},
   "outputs": [
    {
     "name": "stderr",
     "output_type": "stream",
     "text": [
      "Loading required package: car\n",
      "Loading required package: carData\n",
      "Loading required package: lmtest\n",
      "Warning message:\n",
      "\"package 'lmtest' was built under R version 3.6.3\"Loading required package: zoo\n",
      "\n",
      "Attaching package: 'zoo'\n",
      "\n",
      "The following objects are masked from 'package:base':\n",
      "\n",
      "    as.Date, as.Date.numeric\n",
      "\n",
      "Loading required package: sandwich\n",
      "Warning message:\n",
      "\"package 'sandwich' was built under R version 3.6.3\"Loading required package: survival\n"
     ]
    },
    {
     "name": "stdout",
     "output_type": "stream",
     "text": [
      "[1] 19.64043\n"
     ]
    }
   ],
   "source": [
    "## Edit the code below \n",
    "# Header: Exercise 4 \n",
    "# Author: \n",
    "# Date:\n",
    "# Candidate number:\n",
    "\n",
    "# install.packages(\"AER\")\n",
    "library(AER)\n",
    "data(\"CASchools\")\n",
    "\n",
    "# Generate a variable for the student-teacher ratio\n",
    "\n",
    "CASchools$str <- CASchools$students / CASchools$teachers;\n",
    "\n",
    "# Calculate the mean str \n",
    "meanstr <- mean(CASchools$str);\n",
    "print(meanstr)"
   ]
  },
  {
   "cell_type": "markdown",
   "id": "e93ea180",
   "metadata": {},
   "source": [
    "## 1 b)\t\n",
    "\n",
    "Generate a binary vector (or indicator variable) that is equal to 1 if str>20 and 0 otherwise. Call this variable dum1 and append this vector to the dataset CASchools. \n",
    "\n",
    "You can use the function ifelse(). For example, creating a dummy variable called dummy that is equal to 1 when X>0 and 0 otherwise would use the command: \n",
    "\n",
    "dummy <- ifelse(X>0, 1, 0).  "
   ]
  },
  {
   "cell_type": "code",
   "execution_count": 3,
   "id": "15ce7b7b",
   "metadata": {},
   "outputs": [],
   "source": [
    "# Creating dum1\n",
    "\n",
    "CASchools$dum1 <- ifelse(CASchools$str>20,1,0);\n"
   ]
  },
  {
   "cell_type": "markdown",
   "id": "1d4ea986",
   "metadata": {},
   "source": [
    "# 1 c)\n",
    "\n",
    "Compute group-specific sample means of the observations in reading score (variable name read). \n",
    "Assign the mean of observation in reading score where dum1=1 to mu_Y_D1 and assign the mean of those observations with dum1 = 0 to mu_Y_D0. \n",
    "\n",
    "Calculate the difference between the two means and print it to the screen."
   ]
  },
  {
   "cell_type": "code",
   "execution_count": 4,
   "id": "c7be8bb3",
   "metadata": {},
   "outputs": [
    {
     "name": "stdout",
     "output_type": "stream",
     "text": [
      "[1] 8.734489\n"
     ]
    }
   ],
   "source": [
    "# Computing Group Specific Means\n",
    "\n",
    "mu_Y_D1 <- mean(CASchools$read[CASchools$dum1==1])\n",
    "\n",
    "mu_Y_D0 <- mean(CASchools$read[CASchools$dum1==0])\n",
    "\n",
    "diff <- mu_Y_D0 - mu_Y_D1\n",
    "\n",
    "# Compute the difference between means\n",
    "\n",
    "print(diff)\n"
   ]
  },
  {
   "cell_type": "markdown",
   "id": "0abc3523",
   "metadata": {},
   "source": [
    "## 1 d)\n",
    "\n",
    "Use lm() to regress reading scores, read, on dum1. That is, estimate the coefficients in the model \n",
    "$read_i= β_0+ β_1 D_i+u_i$. \n",
    "\n",
    "Compare your estimates of the coefficients $β_0$ and $β_1$ to the calculated sample means mu_Y_D1 and mu_Y_D0. \n",
    "\n",
    "What do you notice? What can you conclude from your observation?\n",
    "\n",
    "#### Write your answer here"
   ]
  },
  {
   "cell_type": "code",
   "execution_count": 5,
   "id": "03289f7a",
   "metadata": {},
   "outputs": [
    {
     "data": {
      "text/plain": [
       "\n",
       "Call:\n",
       "lm(formula = read ~ dum1, data = CASchools)\n",
       "\n",
       "Residuals:\n",
       "    Min      1Q  Median      3Q     Max \n",
       "-54.151 -15.176   0.399  13.682  47.983 \n",
       "\n",
       "Coefficients:\n",
       "            Estimate Std. Error t value Pr(>|t|)    \n",
       "(Intercept)  658.651      1.261 522.184   <2e-16 ***\n",
       "dum1          -8.734      1.943  -4.495    9e-06 ***\n",
       "---\n",
       "Signif. codes:  0 '***' 0.001 '**' 0.01 '*' 0.05 '.' 0.1 ' ' 1\n",
       "\n",
       "Residual standard error: 19.66 on 418 degrees of freedom\n",
       "Multiple R-squared:  0.04612,\tAdjusted R-squared:  0.04383 \n",
       "F-statistic: 20.21 on 1 and 418 DF,  p-value: 9.005e-06\n"
      ]
     },
     "metadata": {},
     "output_type": "display_data"
    }
   ],
   "source": [
    "reg1 <- lm(read~dum1, data=CASchools)\n",
    "summary(reg1)"
   ]
  },
  {
   "cell_type": "markdown",
   "id": "058beebb",
   "metadata": {},
   "source": [
    "$ \\widehat{read}_i = 658.651-8.734D_i$. \n",
    "Notice that the intercept, which is the expected value (or mean) of read when dummy=0 (or  STR ≤ 20), is equivalent to  mu_Y_D0. Moreover, $\\widehat{read}_i = 658.651-8.734= 649.917$ when dummy=1 (or  STR> 20). This is equivalent to mu_Y_D1. \n",
    "\n",
    "Hence, $\\beta_1$ calculates the difference between the means of the two groups."
   ]
  },
  {
   "cell_type": "markdown",
   "id": "3e582d94",
   "metadata": {},
   "source": [
    "# Question 2 a)\n",
    "\n",
    "For this question, use the CPS1985 data, which is a cross section data from the May 1985 Current Population Survey by the US Census Bureau (random sample drawn for Berndt 1991 study) [Install the package “AER” if you have not done so and load it in your library. Then load the dataset “\"CPS1985\"”]. The data has the variables wage (Wage in dollars per hour) and education (Number of years of education). \n",
    "\n",
    "Plot wage on the Y-axis and education on the X-axis. Run a regression of wage on education and plot the fitted values on the same plot. \n",
    "\n",
    "What can you say about the variance of the conditional distribution of the residuals given the years of education? What can you conclude about the residuals?"
   ]
  },
  {
   "cell_type": "code",
   "execution_count": 7,
   "id": "ae41d641",
   "metadata": {},
   "outputs": [
    {
     "data": {
      "image/png": "[encoded data removed]",
      "text/plain": [
       "Plot with title \"Scatterplot of education and wages\""
      ]
     },
     "metadata": {},
     "output_type": "display_data"
    }
   ],
   "source": [
    "## Load the dataset\n",
    "data(\"CPS1985\")\n",
    "\n",
    "# Plot wage on the Y-axis and education on the X-axis. \n",
    "\n",
    "plot1 <- plot(CPS1985$wage~CPS1985$education, xlab = \"Education, years\", \n",
    "              ylab = \"Wage, $USD\", main = \"Scatterplot of education and wages\") \n",
    "\n",
    "\n",
    "## DO NOT EDIT\n",
    "#print(plot1)"
   ]
  },
  {
   "cell_type": "markdown",
   "id": "e7236212",
   "metadata": {},
   "source": [
    "#### Write your answers here\n",
    "\n",
    "The residuals look heteroskedastic since the variance is not constant across years of education."
   ]
  },
  {
   "cell_type": "markdown",
   "id": "3cfd43ff",
   "metadata": {},
   "source": [
    "## Question 2 b)\n",
    "\n",
    "Run a regression of wage on education and calculate homoskedastic-only standard errors. \n",
    "\n",
    "Using the procedure from the lecture, run a regression of wage on education and calculate heteroskedastic-robust standard errors. \n",
    "\n",
    "Compare the two standard errors for the slope coefficient. \n",
    "\n",
    "#### Which one is larger? What can you conclude from this exercise? \n"
   ]
  },
  {
   "cell_type": "code",
   "execution_count": 6,
   "id": "8573fa1b",
   "metadata": {
    "scrolled": true
   },
   "outputs": [
    {
     "name": "stdout",
     "output_type": "stream",
     "text": [
      "               homo_se  robust_se\n",
      "(Intercept) 1.04545406 1.04039568\n",
      "education   0.07873373 0.08431256\n"
     ]
    }
   ],
   "source": [
    "## Regression of wage on education with homoskedasticity only standard errors\n",
    "\n",
    "reg <- lm(wage~education, data=CPS1985) \n",
    "\n",
    "# We will now save the summary into an object so that we can access the homoskedasticity only SEs later\n",
    "reg_summ <- summary(reg)\n",
    "\n",
    "## estimate using hetero-skedastic robust SEs\n",
    "hetero_vcov <- vcovHC(reg, type = \"HC1\")\n",
    "\n",
    "# compute the square root of the diagonal elements in vcov\n",
    "robust_se <- c(sqrt(diag(hetero_vcov)))\n",
    "\n",
    "# calculate homoskedasticity-only SEs\n",
    "homo_se <- c(reg_summ$coef[1,2], reg_summ$coef[2,2])\n",
    "\n",
    "# print heteroskedasticity-robust SEs and homoskedasticty-only SEs\n",
    "\n",
    "se <- data.frame(homo_se, robust_se)\n",
    "\n",
    "print(se)"
   ]
  },
  {
   "cell_type": "markdown",
   "id": "0ddb751e",
   "metadata": {},
   "source": [
    "#### Write your answers here\n",
    "\n",
    "The heteroscedasticity SEs for beta1 is higher by 0.006. In terms of inference, this does not make any difference. That is, whether we use homoskedasicity-only or heteroscedasticity-robust SEs, education is statistically significant at 1% level, implying that heteroscedasticity is not a significant issue in the data. In general, however, we should use heteroskedasticity-robust standard errors over homoskedasicity-only because the former is still valid even in the absence of heteroskedasticity. It will just approach homoskedasicity-only SEs when there is no heteroskedasticity of errors in the data. "
   ]
  },
  {
   "cell_type": "markdown",
   "id": "6b5b9a78",
   "metadata": {},
   "source": [
    "#### Write your interpretation here"
   ]
  },
  {
   "cell_type": "code",
   "execution_count": null,
   "id": "bb492c4c",
   "metadata": {},
   "outputs": [],
   "source": [
    "## DO NOT EDIT\n",
    "# This section formats your answers for marking\n",
    "answers = c(CASchools$str, diff, plot1, reg, se)"
   ]
  }
 ],
 "metadata": {
  "kernelspec": {
   "display_name": "R",
   "language": "R",
   "name": "ir"
  },
  "language_info": {
   "codemirror_mode": "r",
   "file_extension": ".r",
   "mimetype": "text/x-r-source",
   "name": "R",
   "pygments_lexer": "r",
   "version": "3.6.1"
  }
 },
 "nbformat": 4,
 "nbformat_minor": 5
}
